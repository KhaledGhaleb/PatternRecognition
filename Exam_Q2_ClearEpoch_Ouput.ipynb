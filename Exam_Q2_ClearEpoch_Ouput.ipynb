{
  "nbformat": 4,
  "nbformat_minor": 0,
  "metadata": {
    "colab": {
      "name": "Q2_ClearEpoch_Ouput.ipynb",
      "provenance": [],
      "collapsed_sections": [],
      "toc_visible": true,
      "authorship_tag": "ABX9TyMPSIlDFROVHkJcPjpr6MUk",
      "include_colab_link": true
    },
    "kernelspec": {
      "display_name": "Python 3",
      "name": "python3"
    },
    "language_info": {
      "name": "python"
    },
    "accelerator": "GPU"
  },
  "cells": [
    {
      "cell_type": "markdown",
      "metadata": {
        "id": "view-in-github",
        "colab_type": "text"
      },
      "source": [
        "<a href=\"https://colab.research.google.com/github/KhaledGhaleb/PatternRecognition/blob/main/Exam_Q2_ClearEpoch_Ouput.ipynb\" target=\"_parent\"><img src=\"https://colab.research.google.com/assets/colab-badge.svg\" alt=\"Open In Colab\"/></a>"
      ]
    },
    {
      "cell_type": "markdown",
      "metadata": {
        "id": "UzNgp7kMg5z4"
      },
      "source": [
        "#Question 2\n",
        "```\n",
        "For the COREL dataset: (15 marks)\n",
        "Use 50 images for training and 50 for testing for each class.\n",
        "```"
      ]
    },
    {
      "cell_type": "code",
      "metadata": {
        "colab": {
          "base_uri": "https://localhost:8080/"
        },
        "id": "LSbG0mqqNwwq",
        "outputId": "9bd03531-9829-4b8a-a4c1-674d7b78cb53"
      },
      "source": [
        "import requests, zipfile, os, io, time\n",
        "zip_file_url = 'https://www.dropbox.com/sh/6otniml0u3g4ovy/AAAs9Abejlh78S9dsV3DEf_na?dl=1'\n",
        "r = requests.get(zip_file_url, stream=True)\n",
        "z = zipfile.ZipFile(io.BytesIO(r.content))\n",
        "path_to_dir =  os.getcwd();\n",
        "#print(path_to_dir)\n",
        "PATH = os.path.join(path_to_dir, 'Corel')\n",
        "z.extractall(PATH)\n",
        "print(PATH)"
      ],
      "execution_count": null,
      "outputs": [
        {
          "output_type": "stream",
          "text": [
            "/content/Corel\n"
          ],
          "name": "stdout"
        }
      ]
    },
    {
      "cell_type": "markdown",
      "metadata": {
        "id": "N3fYWfPvBmW6"
      },
      "source": [
        "Prepare Train and Validation data:\n",
        "\n",
        "* Set ratio of 0.5 validation\n",
        "* Set Image size to 100*100 * 3\n"
      ]
    },
    {
      "cell_type": "code",
      "metadata": {
        "colab": {
          "base_uri": "https://localhost:8080/"
        },
        "id": "0caQZAxaBmW7",
        "outputId": "282eeee8-0bbf-4e01-9033-245161bfd763"
      },
      "source": [
        "from tensorflow.keras.preprocessing import image_dataset_from_directory\n",
        "BATCH_SIZE = 500\n",
        "IMG_SIZE = (256, 256)\n",
        "COLOR_MODE = 'rgb' #\"grayscale\"  #  \"rgb\"\n",
        "Color_Num = 3\n",
        "Valid_ratio = 0.5\n",
        "\n",
        "train_dataset = image_dataset_from_directory(PATH,\n",
        "                                             seed = 1234,                                           \n",
        "                                             color_mode = COLOR_MODE, \n",
        "                                             validation_split = Valid_ratio,\n",
        "                                             subset = \"training\",\n",
        "                                             image_size=IMG_SIZE,\n",
        "                                             batch_size=BATCH_SIZE,\n",
        "                                             label_mode ='categorical',\n",
        "                                             )\n",
        "Validation_dataset = image_dataset_from_directory(PATH,\n",
        "                                             seed = 1234,                                           \n",
        "                                             color_mode = COLOR_MODE, \n",
        "                                             validation_split = Valid_ratio,\n",
        "                                             subset = 'validation',\n",
        "                                             image_size=IMG_SIZE,\n",
        "                                             batch_size=BATCH_SIZE,\n",
        "                                             label_mode ='categorical',\n",
        "                                             )\n",
        "train_dataset_gray = image_dataset_from_directory(PATH,\n",
        "                                             seed = 1234,                                           \n",
        "                                             color_mode = \"grayscale\", \n",
        "                                             validation_split = Valid_ratio,\n",
        "                                             subset = \"training\",\n",
        "                                             image_size=IMG_SIZE,\n",
        "                                             batch_size=BATCH_SIZE,\n",
        "                                             label_mode ='categorical',\n",
        "                                             )\n",
        "Validation_dataset_gray = image_dataset_from_directory(PATH,\n",
        "                                             seed = 1234,                                           \n",
        "                                             color_mode = \"grayscale\", \n",
        "                                             validation_split = Valid_ratio,\n",
        "                                             subset = 'validation',\n",
        "                                             image_size=IMG_SIZE,\n",
        "                                             batch_size=BATCH_SIZE,\n",
        "                                             label_mode ='categorical',\n",
        "                                             )"
      ],
      "execution_count": null,
      "outputs": [
        {
          "output_type": "stream",
          "text": [
            "Found 1000 files belonging to 10 classes.\n",
            "Using 500 files for training.\n",
            "Found 1000 files belonging to 10 classes.\n",
            "Using 500 files for validation.\n",
            "Found 1000 files belonging to 10 classes.\n",
            "Using 500 files for training.\n",
            "Found 1000 files belonging to 10 classes.\n",
            "Using 500 files for validation.\n"
          ],
          "name": "stdout"
        }
      ]
    },
    {
      "cell_type": "markdown",
      "metadata": {
        "id": "BfvMagBrBmW-"
      },
      "source": [
        "Normalize data set"
      ]
    },
    {
      "cell_type": "code",
      "metadata": {
        "id": "RThOkmcXBmW_"
      },
      "source": [
        "import tensorflow as tf\n",
        "normalization_layer = tf.keras.layers.experimental.preprocessing.Rescaling(1./255)\n",
        "train_normalized_ds = train_dataset.map(lambda x, y: (normalization_layer(x), y))\n",
        "train_normalized_ds_gray = train_dataset_gray.map(lambda x, y: (normalization_layer(x), y))\n",
        "validation_normalized_ds = Validation_dataset.map(lambda x, y: (normalization_layer(x), y))\n",
        "validation_normalized_ds_gray = Validation_dataset_gray.map(lambda x, y: (normalization_layer(x), y))"
      ],
      "execution_count": null,
      "outputs": []
    },
    {
      "cell_type": "markdown",
      "metadata": {
        "id": "vDqfMm1BBmW_"
      },
      "source": [
        "Convert normalized dataset to images and labels in nparray "
      ]
    },
    {
      "cell_type": "code",
      "metadata": {
        "id": "mPgS-EYwBmXA",
        "colab": {
          "base_uri": "https://localhost:8080/"
        },
        "outputId": "f1e821af-7848-445e-89e4-a7c0a0ab4493"
      },
      "source": [
        "train_images,train_labels = list(train_normalized_ds.as_numpy_iterator())[0]\n",
        "validate_images,validate_labels  = list(validation_normalized_ds.as_numpy_iterator())[0]\n",
        "train_images_gray,_ = list(train_normalized_ds_gray.as_numpy_iterator())[0]\n",
        "validate_images_gray,_  = list(validation_normalized_ds_gray.as_numpy_iterator())[0]\n",
        "train_images_gray.shape"
      ],
      "execution_count": null,
      "outputs": [
        {
          "output_type": "execute_result",
          "data": {
            "text/plain": [
              "(500, 256, 256, 1)"
            ]
          },
          "metadata": {
            "tags": []
          },
          "execution_count": 6
        }
      ]
    },
    {
      "cell_type": "code",
      "metadata": {
        "colab": {
          "base_uri": "https://localhost:8080/",
          "height": 216
        },
        "id": "PBh9fhw6ijeQ",
        "outputId": "feb49994-9f58-4a9c-9963-233ab669506d"
      },
      "source": [
        "import matplotlib.pyplot as plt\n",
        "fig, ax = plt.subplots(1, 2, subplot_kw=dict(xticks=[], yticks=[]))\n",
        "fig.subplots_adjust(wspace=0.05)\n",
        "ax[0].imshow(train_images[0])\n",
        "ax[0].set_title('Color Image', size=16)\n",
        "ax[1].imshow(train_images_gray[0,:,:,0],cmap='gray')\n",
        "ax[1].set_title( 'Gray Image', size=16);"
      ],
      "execution_count": null,
      "outputs": [
        {
          "output_type": "display_data",
          "data": {
            "image/png": "[encoded data removed]",
            "text/plain": [
              "<Figure size 432x288 with 2 Axes>"
            ]
          },
          "metadata": {
            "tags": []
          }
        }
      ]
    },
    {
      "cell_type": "markdown",
      "metadata": {
        "id": "QLOs4lvZpubc"
      },
      "source": [
        "#Q2.a\n",
        "```\n",
        "Try at least 10 experiments with CNN (different CNN topology, different filter sizes, different pooling, different number of epochs, etc.). \n",
        "Which one gave the best results and why in your opinion? \n",
        "(include 1 experiment with the Gray images and the rest with the color images).\n",
        "```"
      ]
    },
    {
      "cell_type": "markdown",
      "metadata": {
        "id": "FREjBmXs3rrx"
      },
      "source": [
        "#Q2.a.1 (CNN Example 1 \"Color\")\n",
        "* use 3 conv layer with 5 * 5 filters\n",
        "* max pool after each conv layer\n",
        "* Epochs is 50\n",
        "* dropout 0.5"
      ]
    },
    {
      "cell_type": "code",
      "metadata": {
        "colab": {
          "base_uri": "https://localhost:8080/"
        },
        "id": "q4hi0DhCx1-9",
        "outputId": "34f4d5eb-a614-4dc0-dd47-ceb3446d12a2"
      },
      "source": [
        "import keras\n",
        "from keras import layers\n",
        "from keras import regularizers\n",
        "from keras.regularizers import l1,l2\n",
        "keras.backend.clear_session()\n",
        "CNN_model_1 = keras.Sequential(\n",
        "    [\n",
        "        keras.layers.InputLayer(((IMG_SIZE[0],IMG_SIZE[1],3))),\n",
        "        layers.Conv2D(5, kernel_size=(5, 5), strides=1, padding=\"same\",activation=\"relu\"),\n",
        "        layers.MaxPooling2D(pool_size=(2, 2), strides=2),\n",
        "        layers.Conv2D(12, kernel_size=(5, 5), padding=\"same\", activation=\"relu\"),\n",
        "        layers.MaxPooling2D(pool_size=(2, 2), strides=2),\n",
        "        layers.Conv2D(64, kernel_size=(3, 3), padding=\"same\", activation=\"relu\"),\n",
        "        layers.MaxPooling2D(pool_size=(2, 2), strides=2),\n",
        "        layers.Flatten(),\n",
        "        layers.Dropout(0.5),\n",
        "        layers.Dense(10, activation=\"softmax\"),\n",
        "    ]\n",
        ")\n",
        "\n",
        "CNN_model_1.summary()"
      ],
      "execution_count": null,
      "outputs": [
        {
          "output_type": "stream",
          "text": [
            "Model: \"sequential\"\n",
            "_________________________________________________________________\n",
            "Layer (type)                 Output Shape              Param #   \n",
            "=================================================================\n",
            "conv2d (Conv2D)              (None, 256, 256, 5)       380       \n",
            "_________________________________________________________________\n",
            "max_pooling2d (MaxPooling2D) (None, 128, 128, 5)       0         \n",
            "_________________________________________________________________\n",
            "conv2d_1 (Conv2D)            (None, 128, 128, 12)      1512      \n",
            "_________________________________________________________________\n",
            "max_pooling2d_1 (MaxPooling2 (None, 64, 64, 12)        0         \n",
            "_________________________________________________________________\n",
            "conv2d_2 (Conv2D)            (None, 64, 64, 64)        6976      \n",
            "_________________________________________________________________\n",
            "max_pooling2d_2 (MaxPooling2 (None, 32, 32, 64)        0         \n",
            "_________________________________________________________________\n",
            "flatten (Flatten)            (None, 65536)             0         \n",
            "_________________________________________________________________\n",
            "dropout (Dropout)            (None, 65536)             0         \n",
            "_________________________________________________________________\n",
            "dense (Dense)                (None, 10)                655370    \n",
            "=================================================================\n",
            "Total params: 664,238\n",
            "Trainable params: 664,238\n",
            "Non-trainable params: 0\n",
            "_________________________________________________________________\n"
          ],
          "name": "stdout"
        }
      ]
    },
    {
      "cell_type": "markdown",
      "metadata": {
        "id": "CX1iUIpLztDl"
      },
      "source": [
        "Compile and Fit CNN"
      ]
    },
    {
      "cell_type": "code",
      "metadata": {
        "id": "BpKbqFu-zrk3"
      },
      "source": [
        "Start_time_A1 = time.time()\n",
        "CNN_model_1.compile(loss=\"categorical_crossentropy\", optimizer=\"adam\", metrics=[\"accuracy\"])\n",
        "\n",
        "history = CNN_model_1.fit(x= train_images, y= train_labels,\n",
        "                epochs=50,\n",
        "                batch_size=50,\n",
        "                shuffle=True,\n",
        "                validation_data=(validate_images,validate_labels))\n",
        "End_time_A1 = time.time()"
      ],
      "execution_count": null,
      "outputs": []
    },
    {
      "cell_type": "code",
      "metadata": {
        "colab": {
          "base_uri": "https://localhost:8080/",
          "height": 281
        },
        "id": "YvCViOGJ02sX",
        "outputId": "715a9fb4-2207-43ee-a2d6-1624efcaa11f"
      },
      "source": [
        "# plot training history\n",
        "plt.plot(history.history['loss'], label='train loss')\n",
        "plt.plot(history.history['val_loss'], label='test loss')\n",
        "plt.plot(history.history['accuracy'], label='train accuracy')\n",
        "plt.plot(history.history['val_accuracy'], label='test accuracy')\n",
        "plt.legend()\n",
        "plt.title(\"CNN Example 1\")\n",
        "plt.show()"
      ],
      "execution_count": null,
      "outputs": [
        {
          "output_type": "display_data",
          "data": {
            "image/png": "[encoded data removed]",
            "text/plain": [
              "<Figure size 432x288 with 1 Axes>"
            ]
          },
          "metadata": {
            "tags": [],
            "needs_background": "light"
          }
        }
      ]
    },
    {
      "cell_type": "code",
      "metadata": {
        "colab": {
          "base_uri": "https://localhost:8080/"
        },
        "id": "fVmq3jaqJ_z5",
        "outputId": "f840b499-dfda-4a70-83b1-cdea7369ae22"
      },
      "source": [
        "# evaluate the model\n",
        "train_loss, train_acc = CNN_model_1.evaluate(train_images, train_labels, verbose=0)\n",
        "test_loss, test_acc = CNN_model_1.evaluate(validate_images, validate_labels, verbose=0)\n",
        "print('Accuracy: Train: %.3f, Test: %.3f' % (train_acc, test_acc))\n",
        "print('Loss: Train: %.3f, Test: %.3f' % (train_loss, test_loss))\n",
        "print(\"Elapsed time \", End_time_A1 - Start_time_A1, \" Sec\")"
      ],
      "execution_count": null,
      "outputs": [
        {
          "output_type": "stream",
          "text": [
            "Accuracy: Train: 1.000, Test: 0.650\n",
            "Loss: Train: 0.000, Test: 2.079\n",
            "Elapsed time  41.741318225860596  Sec\n"
          ],
          "name": "stdout"
        }
      ]
    },
    {
      "cell_type": "markdown",
      "metadata": {
        "id": "_Ik_QXOP94fM"
      },
      "source": [
        "#Q2.a.1  (CNN Example 1 conclusion)\n",
        "CNN model have good test accuracy but it is reach the saturation after 15 epoc from 50 epocs run"
      ]
    },
    {
      "cell_type": "markdown",
      "metadata": {
        "id": "_k6pqzsJFGNY"
      },
      "source": [
        "#Q2.a.2 (CNN Example 2 \"Color\")\n",
        "* use 3 conv layer with 5 * 5 filters (10,24,128) filter respectivley in each layer\n",
        "* max pool after each conv layer\n",
        "* 0 Dense layer\n",
        "* Epochs is 50\n",
        "* dropout 0.5"
      ]
    },
    {
      "cell_type": "code",
      "metadata": {
        "colab": {
          "base_uri": "https://localhost:8080/"
        },
        "id": "IJx13HQmFGOQ",
        "outputId": "243e81a0-7b30-4515-c3db-686a94bca1a2"
      },
      "source": [
        "import keras\n",
        "from keras import layers\n",
        "from keras import regularizers\n",
        "from keras.regularizers import l1,l2\n",
        "keras.backend.clear_session()\n",
        "\n",
        "CNN_model_2 = keras.Sequential(\n",
        "    [\n",
        "        #keras.Input(shape=((IMG_SIZE[0],IMG_SIZE[1],3))),\n",
        "        keras.layers.InputLayer(((IMG_SIZE[0],IMG_SIZE[1],3))),\n",
        "        layers.Conv2D(10, kernel_size=(5, 5), strides=1, padding=\"same\",activation=\"relu\"),\n",
        "        layers.MaxPooling2D(pool_size=(2, 2), strides=2),\n",
        "        layers.Conv2D(24, kernel_size=(5, 5), padding=\"same\", activation=\"relu\"),\n",
        "        layers.MaxPooling2D(pool_size=(2, 2), strides=2),\n",
        "        layers.Conv2D(128, kernel_size=(5, 5), padding=\"same\", activation=\"relu\"),\n",
        "        layers.MaxPooling2D(pool_size=(2, 2), strides=2),\n",
        "        layers.Flatten(),\n",
        "        layers.Dropout(0.5),\n",
        "        layers.Dense(10, activation=\"softmax\"),\n",
        "    ]\n",
        ")\n",
        "\n",
        "CNN_model_2.summary()"
      ],
      "execution_count": null,
      "outputs": [
        {
          "output_type": "stream",
          "text": [
            "Model: \"sequential\"\n",
            "_________________________________________________________________\n",
            "Layer (type)                 Output Shape              Param #   \n",
            "=================================================================\n",
            "conv2d (Conv2D)              (None, 256, 256, 10)      760       \n",
            "_________________________________________________________________\n",
            "max_pooling2d (MaxPooling2D) (None, 128, 128, 10)      0         \n",
            "_________________________________________________________________\n",
            "conv2d_1 (Conv2D)            (None, 128, 128, 24)      6024      \n",
            "_________________________________________________________________\n",
            "max_pooling2d_1 (MaxPooling2 (None, 64, 64, 24)        0         \n",
            "_________________________________________________________________\n",
            "conv2d_2 (Conv2D)            (None, 64, 64, 128)       76928     \n",
            "_________________________________________________________________\n",
            "max_pooling2d_2 (MaxPooling2 (None, 32, 32, 128)       0         \n",
            "_________________________________________________________________\n",
            "flatten (Flatten)            (None, 131072)            0         \n",
            "_________________________________________________________________\n",
            "dropout (Dropout)            (None, 131072)            0         \n",
            "_________________________________________________________________\n",
            "dense (Dense)                (None, 10)                1310730   \n",
            "=================================================================\n",
            "Total params: 1,394,442\n",
            "Trainable params: 1,394,442\n",
            "Non-trainable params: 0\n",
            "_________________________________________________________________\n"
          ],
          "name": "stdout"
        }
      ]
    },
    {
      "cell_type": "markdown",
      "metadata": {
        "id": "Cg_qz0CBFGOX"
      },
      "source": [
        "Compile and Fit CNN"
      ]
    },
    {
      "cell_type": "code",
      "metadata": {
        "id": "VSrjlNbjFGOY"
      },
      "source": [
        "Start_time_A2 = time.time()\n",
        "CNN_model_2.compile(loss=\"categorical_crossentropy\", optimizer=\"adam\", metrics=[\"accuracy\"])\n",
        "\n",
        "history = CNN_model_2.fit(x= train_images, y= train_labels,\n",
        "                epochs=50,\n",
        "                batch_size=50,\n",
        "                shuffle=True,\n",
        "                validation_data=(validate_images,validate_labels))\n",
        "End_time_A2 = time.time()"
      ],
      "execution_count": null,
      "outputs": []
    },
    {
      "cell_type": "code",
      "metadata": {
        "colab": {
          "base_uri": "https://localhost:8080/",
          "height": 281
        },
        "id": "E_LgjJ8XFGOa",
        "outputId": "a13fbca7-863e-443c-c338-872ca2d3f1fd"
      },
      "source": [
        "# plot training history\n",
        "plt.plot(history.history['loss'], label='train')\n",
        "plt.plot(history.history['val_loss'], label='test')\n",
        "plt.legend()\n",
        "plt.title(\"CNN Example 2\")\n",
        "plt.show()"
      ],
      "execution_count": null,
      "outputs": [
        {
          "output_type": "display_data",
          "data": {
            "image/png": "[encoded data removed]",
            "text/plain": [
              "<Figure size 432x288 with 1 Axes>"
            ]
          },
          "metadata": {
            "tags": [],
            "needs_background": "light"
          }
        }
      ]
    },
    {
      "cell_type": "code",
      "metadata": {
        "colab": {
          "base_uri": "https://localhost:8080/"
        },
        "id": "sMrHMfPJFGOc",
        "outputId": "6d03f4d9-38cd-40d4-f165-b25d1356f91c"
      },
      "source": [
        "# evaluate the model\n",
        "train_loss, train_acc = CNN_model_2.evaluate(train_images, train_labels, verbose=0)\n",
        "test_loss, test_acc = CNN_model_2.evaluate(validate_images, validate_labels, verbose=0)\n",
        "print('Accuracy: Train: %.3f, Test: %.3f' % (train_acc, test_acc))\n",
        "print('Loss: Train: %.3f, Test: %.3f' % (train_loss, test_loss))\n",
        "\n",
        "print(\"Elapsed time \", End_time_A2 - Start_time_A2, \" Sec\")"
      ],
      "execution_count": null,
      "outputs": [
        {
          "output_type": "stream",
          "text": [
            "Accuracy: Train: 1.000, Test: 0.728\n",
            "Loss: Train: 0.000, Test: 1.736\n",
            "Elapsed time  64.0714750289917  Sec\n"
          ],
          "name": "stdout"
        }
      ]
    },
    {
      "cell_type": "markdown",
      "metadata": {
        "id": "9yBDDaAlFGOd"
      },
      "source": [
        "#Q2.a.2  (CNN Example 2 conclusion)\n",
        "After increase num of filter in each conv layer, final accuracy have better value"
      ]
    },
    {
      "cell_type": "markdown",
      "metadata": {
        "id": "xy8LOY5SFiMX"
      },
      "source": [
        "#Q2.a.3 (CNN Example 3 \"Color\")\n",
        "* use 3 conv layer with 5 * 5 filters (10,24,128) filter respectivley in each layer\n",
        "* max pool after each conv layer\n",
        "* 0 Dense layer\n",
        "* Epochs is 18 (Only Changed)\n",
        "* dropout 0.5"
      ]
    },
    {
      "cell_type": "code",
      "metadata": {
        "colab": {
          "base_uri": "https://localhost:8080/"
        },
        "id": "snFwXMJYFiMu",
        "outputId": "58941517-f80f-47e6-b76d-2d52eb18a25f"
      },
      "source": [
        "import keras\n",
        "from keras import layers\n",
        "from keras import regularizers\n",
        "from keras.regularizers import l1,l2\n",
        "keras.backend.clear_session()\n",
        "CNN_model_3 = keras.Sequential(\n",
        "    [\n",
        "        keras.layers.InputLayer(((IMG_SIZE[0],IMG_SIZE[1],3))),\n",
        "        layers.Conv2D(10, kernel_size=(5, 5), strides=1, padding=\"same\",activation=\"relu\"),\n",
        "        layers.MaxPooling2D(pool_size=(2, 2), strides=2),\n",
        "        layers.Conv2D(24, kernel_size=(5, 5), padding=\"same\", activation=\"relu\"),\n",
        "        layers.MaxPooling2D(pool_size=(2, 2), strides=2),\n",
        "        layers.Conv2D(128, kernel_size=(5, 5), padding=\"same\", activation=\"relu\"),\n",
        "        layers.MaxPooling2D(pool_size=(2, 2), strides=2),\n",
        "        layers.Flatten(),\n",
        "        layers.Dropout(0.5),\n",
        "        layers.Dense(10, activation=\"softmax\"),\n",
        "    ]\n",
        ")\n",
        "\n",
        "CNN_model_3.summary()"
      ],
      "execution_count": null,
      "outputs": [
        {
          "output_type": "stream",
          "text": [
            "Model: \"sequential\"\n",
            "_________________________________________________________________\n",
            "Layer (type)                 Output Shape              Param #   \n",
            "=================================================================\n",
            "conv2d (Conv2D)              (None, 256, 256, 10)      760       \n",
            "_________________________________________________________________\n",
            "max_pooling2d (MaxPooling2D) (None, 128, 128, 10)      0         \n",
            "_________________________________________________________________\n",
            "conv2d_1 (Conv2D)            (None, 128, 128, 24)      6024      \n",
            "_________________________________________________________________\n",
            "max_pooling2d_1 (MaxPooling2 (None, 64, 64, 24)        0         \n",
            "_________________________________________________________________\n",
            "conv2d_2 (Conv2D)            (None, 64, 64, 128)       76928     \n",
            "_________________________________________________________________\n",
            "max_pooling2d_2 (MaxPooling2 (None, 32, 32, 128)       0         \n",
            "_________________________________________________________________\n",
            "flatten (Flatten)            (None, 131072)            0         \n",
            "_________________________________________________________________\n",
            "dropout (Dropout)            (None, 131072)            0         \n",
            "_________________________________________________________________\n",
            "dense (Dense)                (None, 10)                1310730   \n",
            "=================================================================\n",
            "Total params: 1,394,442\n",
            "Trainable params: 1,394,442\n",
            "Non-trainable params: 0\n",
            "_________________________________________________________________\n"
          ],
          "name": "stdout"
        }
      ]
    },
    {
      "cell_type": "markdown",
      "metadata": {
        "id": "q8ywgMZsFiMv"
      },
      "source": [
        "Compile and Fit CNN"
      ]
    },
    {
      "cell_type": "code",
      "metadata": {
        "id": "FzqmQbAz30it"
      },
      "source": [
        "Start_time_A3 = time.time()\n",
        "CNN_model_3.compile(loss=\"categorical_crossentropy\", optimizer=\"adam\", metrics=[\"accuracy\"])\n",
        "\n",
        "history = CNN_model_3.fit(x= train_images, y= train_labels,\n",
        "                epochs=18,\n",
        "                batch_size=50,\n",
        "                shuffle=True,\n",
        "                validation_data=(validate_images,validate_labels))\n",
        "End_time_A3 = time.time()"
      ],
      "execution_count": null,
      "outputs": []
    },
    {
      "cell_type": "code",
      "metadata": {
        "colab": {
          "base_uri": "https://localhost:8080/",
          "height": 281
        },
        "id": "VhhOUQnpFiMw",
        "outputId": "4f42d613-b84e-4146-972c-ab23cb66c015"
      },
      "source": [
        "# plot training history\n",
        "plt.plot(history.history['loss'], label='train')\n",
        "plt.plot(history.history['val_loss'], label='test')\n",
        "plt.legend()\n",
        "plt.title(\"CNN Example 3\")\n",
        "plt.show()"
      ],
      "execution_count": null,
      "outputs": [
        {
          "output_type": "display_data",
          "data": {
            "image/png": "[encoded data removed]",
            "text/plain": [
              "<Figure size 432x288 with 1 Axes>"
            ]
          },
          "metadata": {
            "tags": [],
            "needs_background": "light"
          }
        }
      ]
    },
    {
      "cell_type": "code",
      "metadata": {
        "colab": {
          "base_uri": "https://localhost:8080/"
        },
        "id": "m86a0ijMFiMw",
        "outputId": "aa545b4f-856f-425e-f260-661e541087f3"
      },
      "source": [
        "# evaluate the model\n",
        "train_loss, train_acc = CNN_model_3.evaluate(train_images, train_labels, verbose=0)\n",
        "test_loss, test_acc = CNN_model_3.evaluate(validate_images, validate_labels, verbose=0)\n",
        "print('Accuracy: Train: %.3f, Test: %.3f' % (train_acc, test_acc))\n",
        "print('Loss: Train: %.3f, Test: %.3f' % (train_loss, test_loss))\n",
        "print(\"Elapsed time \", End_time_A3 - Start_time_A3, \" Sec\")"
      ],
      "execution_count": null,
      "outputs": [
        {
          "output_type": "stream",
          "text": [
            "Accuracy: Train: 1.000, Test: 0.722\n",
            "Loss: Train: 0.001, Test: 1.434\n",
            "Elapsed time  41.71855044364929  Sec\n"
          ],
          "name": "stdout"
        }
      ]
    },
    {
      "cell_type": "markdown",
      "metadata": {
        "id": "UEvhZ8NdFiMx"
      },
      "source": [
        "#Q2.a.3  (CNN Example 3 conclusion)\n",
        "After increase num of filter in each layer and remove dense layer still we have overfitting, but final accuracy increased, also by decreasing number of epocs time  elapsed enhanced  30%"
      ]
    },
    {
      "cell_type": "markdown",
      "metadata": {
        "id": "m3P0X8T_IZQO"
      },
      "source": [
        "#Q2.a.4 (CNN Example 4 \"Color\")\n",
        "* use 3 convolusion layer with 3 * 3 filters\n",
        "* max pool after each conv layer\n",
        "* Epochs is 18\n",
        "* dropout 0.5"
      ]
    },
    {
      "cell_type": "code",
      "metadata": {
        "colab": {
          "base_uri": "https://localhost:8080/"
        },
        "id": "g1A5bugyIZQ5",
        "outputId": "7c721fe1-186d-4835-a2cf-0877ff3962b2"
      },
      "source": [
        "import keras\n",
        "from keras import layers\n",
        "from keras import regularizers\n",
        "from keras.regularizers import l1,l2\n",
        "keras.backend.clear_session()\n",
        "CNN_model_4 = keras.Sequential(\n",
        "    [\n",
        "        keras.layers.InputLayer(((IMG_SIZE[0],IMG_SIZE[1],3))),\n",
        "        layers.Conv2D(10, kernel_size=(3, 3), strides=1, padding=\"same\",activation=\"relu\"),\n",
        "        layers.MaxPooling2D(pool_size=(2, 2), strides=2),\n",
        "        layers.Conv2D(24, kernel_size=(3, 3), padding=\"same\", activation=\"relu\"),\n",
        "        layers.MaxPooling2D(pool_size=(2, 2), strides=2),\n",
        "        layers.Conv2D(128, kernel_size=(3, 3), padding=\"same\", activation=\"relu\"),\n",
        "        layers.MaxPooling2D(pool_size=(2, 2), strides=2),\n",
        "        layers.Flatten(),\n",
        "        layers.Dropout(0.5),\n",
        "        layers.Dense(10, activation=\"softmax\"),\n",
        "    ]\n",
        ")\n",
        "\n",
        "CNN_model_4.summary()"
      ],
      "execution_count": null,
      "outputs": [
        {
          "output_type": "stream",
          "text": [
            "Model: \"sequential\"\n",
            "_________________________________________________________________\n",
            "Layer (type)                 Output Shape              Param #   \n",
            "=================================================================\n",
            "conv2d (Conv2D)              (None, 256, 256, 10)      280       \n",
            "_________________________________________________________________\n",
            "max_pooling2d (MaxPooling2D) (None, 128, 128, 10)      0         \n",
            "_________________________________________________________________\n",
            "conv2d_1 (Conv2D)            (None, 128, 128, 24)      2184      \n",
            "_________________________________________________________________\n",
            "max_pooling2d_1 (MaxPooling2 (None, 64, 64, 24)        0         \n",
            "_________________________________________________________________\n",
            "conv2d_2 (Conv2D)            (None, 64, 64, 128)       27776     \n",
            "_________________________________________________________________\n",
            "max_pooling2d_2 (MaxPooling2 (None, 32, 32, 128)       0         \n",
            "_________________________________________________________________\n",
            "flatten (Flatten)            (None, 131072)            0         \n",
            "_________________________________________________________________\n",
            "dropout (Dropout)            (None, 131072)            0         \n",
            "_________________________________________________________________\n",
            "dense (Dense)                (None, 10)                1310730   \n",
            "=================================================================\n",
            "Total params: 1,340,970\n",
            "Trainable params: 1,340,970\n",
            "Non-trainable params: 0\n",
            "_________________________________________________________________\n"
          ],
          "name": "stdout"
        }
      ]
    },
    {
      "cell_type": "markdown",
      "metadata": {
        "id": "KKiCqj_xIZQ6"
      },
      "source": [
        "Compile and Fit CNN"
      ]
    },
    {
      "cell_type": "code",
      "metadata": {
        "id": "lUIS_JDpIZQ7"
      },
      "source": [
        "Start_time_A4 = time.time()\n",
        "CNN_model_4.compile(loss=\"categorical_crossentropy\", optimizer=\"adam\", metrics=[\"accuracy\"])\n",
        "\n",
        "history = CNN_model_4.fit(x= train_images, y= train_labels,\n",
        "                epochs=18,\n",
        "                batch_size=50,\n",
        "                shuffle=True,\n",
        "                validation_data=(validate_images,validate_labels))\n",
        "End_time_A4 = time.time()"
      ],
      "execution_count": null,
      "outputs": []
    },
    {
      "cell_type": "code",
      "metadata": {
        "colab": {
          "base_uri": "https://localhost:8080/",
          "height": 281
        },
        "id": "z1TgIPHTIZQ8",
        "outputId": "ce8ebcf2-22fa-43c9-ad00-c329aef5d25c"
      },
      "source": [
        "# plot training history\n",
        "plt.plot(history.history['loss'], label='train')\n",
        "plt.plot(history.history['val_loss'], label='test')\n",
        "plt.legend()\n",
        "plt.title(\"CNN Example 4\")\n",
        "plt.show()"
      ],
      "execution_count": null,
      "outputs": [
        {
          "output_type": "display_data",
          "data": {
            "image/png": "[encoded data removed]",
            "text/plain": [
              "<Figure size 432x288 with 1 Axes>"
            ]
          },
          "metadata": {
            "tags": [],
            "needs_background": "light"
          }
        }
      ]
    },
    {
      "cell_type": "code",
      "metadata": {
        "colab": {
          "base_uri": "https://localhost:8080/"
        },
        "id": "2CZwzoLXIZQ9",
        "outputId": "f55e7cd7-1c7b-4168-fa35-813d06ceb19e"
      },
      "source": [
        "# evaluate the model\n",
        "train_loss, train_acc = CNN_model_4.evaluate(train_images, train_labels, verbose=0)\n",
        "test_loss, test_acc = CNN_model_4.evaluate(validate_images, validate_labels, verbose=0)\n",
        "print('Accuracy: Train: %.3f, Test: %.3f' % (train_acc, test_acc))\n",
        "print('Loss: Train: %.3f, Test: %.3f' % (train_loss, test_loss))\n",
        "print(\"Elapsed time \", End_time_A4 - Start_time_A4, \" Sec\")"
      ],
      "execution_count": null,
      "outputs": [
        {
          "output_type": "stream",
          "text": [
            "Accuracy: Train: 1.000, Test: 0.750\n",
            "Loss: Train: 0.002, Test: 0.999\n",
            "Elapsed time  41.735304832458496  Sec\n"
          ],
          "name": "stdout"
        }
      ]
    },
    {
      "cell_type": "markdown",
      "metadata": {
        "id": "qX_MbK4dIZQ9"
      },
      "source": [
        "#Q2.a.4  (CNN Example 4 conclusion)\n",
        "Accuracy of validation is enhanced and validation loss ehanced by decreasing filter size."
      ]
    },
    {
      "cell_type": "markdown",
      "metadata": {
        "id": "KuWDQhWbImZv"
      },
      "source": [
        "#Q2.a.5 (CNN Example 5 \"Color\")\n",
        "* use 3 convolusion layer with 3 * 3 filters\n",
        "* strides is 2\n",
        "* max pool after each conv layer\n",
        "* Epochs is 50\n",
        "* dropout 0.5\n"
      ]
    },
    {
      "cell_type": "code",
      "metadata": {
        "colab": {
          "base_uri": "https://localhost:8080/"
        },
        "id": "0dD5IQs1ImZz",
        "outputId": "254a05f6-db64-4f2a-eff0-c45864b43028"
      },
      "source": [
        "import keras\n",
        "from keras import layers\n",
        "from keras import regularizers\n",
        "from keras.regularizers import l1,l2\n",
        "keras.backend.clear_session()\n",
        "CNN_model_5 = keras.Sequential(\n",
        "    [\n",
        "        keras.layers.InputLayer(((IMG_SIZE[0],IMG_SIZE[1],3))),\n",
        "        layers.Conv2D(10, kernel_size=(3, 3), strides=2, padding=\"same\",activation=\"relu\"),\n",
        "        layers.MaxPooling2D(pool_size=(2, 2), strides=2),\n",
        "        layers.Conv2D(24, kernel_size=(3, 3), strides=2, padding=\"same\", activation=\"relu\"),\n",
        "        layers.MaxPooling2D(pool_size=(2, 2), strides=2),\n",
        "        layers.Conv2D(128, kernel_size=(3, 3), strides=2, padding=\"same\", activation=\"relu\"),\n",
        "        layers.MaxPooling2D(pool_size=(2, 2), strides=2),\n",
        "        layers.Flatten(),\n",
        "        layers.Dropout(0.5),\n",
        "        layers.Dense(10, activation=\"softmax\"),\n",
        "    ]\n",
        ")\n",
        "\n",
        "CNN_model_5.summary()"
      ],
      "execution_count": null,
      "outputs": [
        {
          "output_type": "stream",
          "text": [
            "Model: \"sequential\"\n",
            "_________________________________________________________________\n",
            "Layer (type)                 Output Shape              Param #   \n",
            "=================================================================\n",
            "conv2d (Conv2D)              (None, 128, 128, 10)      280       \n",
            "_________________________________________________________________\n",
            "max_pooling2d (MaxPooling2D) (None, 64, 64, 10)        0         \n",
            "_________________________________________________________________\n",
            "conv2d_1 (Conv2D)            (None, 32, 32, 24)        2184      \n",
            "_________________________________________________________________\n",
            "max_pooling2d_1 (MaxPooling2 (None, 16, 16, 24)        0         \n",
            "_________________________________________________________________\n",
            "conv2d_2 (Conv2D)            (None, 8, 8, 128)         27776     \n",
            "_________________________________________________________________\n",
            "max_pooling2d_2 (MaxPooling2 (None, 4, 4, 128)         0         \n",
            "_________________________________________________________________\n",
            "flatten (Flatten)            (None, 2048)              0         \n",
            "_________________________________________________________________\n",
            "dropout (Dropout)            (None, 2048)              0         \n",
            "_________________________________________________________________\n",
            "dense (Dense)                (None, 10)                20490     \n",
            "=================================================================\n",
            "Total params: 50,730\n",
            "Trainable params: 50,730\n",
            "Non-trainable params: 0\n",
            "_________________________________________________________________\n"
          ],
          "name": "stdout"
        }
      ]
    },
    {
      "cell_type": "markdown",
      "metadata": {
        "id": "KajaFO1tImZ1"
      },
      "source": [
        "Compile and Fit CNN"
      ]
    },
    {
      "cell_type": "code",
      "metadata": {
        "id": "3gLCCoDUImZ2"
      },
      "source": [
        "Start_time_A5 = time.time()\n",
        "CNN_model_5.compile(loss=\"categorical_crossentropy\", optimizer=\"adam\", metrics=[\"accuracy\"])\n",
        "\n",
        "history = CNN_model_5.fit(x= train_images, y= train_labels,\n",
        "                epochs=50,\n",
        "                batch_size=50,\n",
        "                shuffle=True,\n",
        "                validation_data=(validate_images,validate_labels))\n",
        "End_time_A5 = time.time()"
      ],
      "execution_count": null,
      "outputs": []
    },
    {
      "cell_type": "code",
      "metadata": {
        "colab": {
          "base_uri": "https://localhost:8080/",
          "height": 281
        },
        "id": "KKToguNfImZ4",
        "outputId": "36cb8c0c-ba8a-4399-fc9a-a11040cbc85a"
      },
      "source": [
        "# plot training history\n",
        "plt.plot(history.history['loss'], label='train')\n",
        "plt.plot(history.history['val_loss'], label='test')\n",
        "plt.legend()\n",
        "plt.title(\"CNN Example 5\")\n",
        "plt.show()"
      ],
      "execution_count": null,
      "outputs": [
        {
          "output_type": "display_data",
          "data": {
            "image/png": "[encoded data removed]",
            "text/plain": [
              "<Figure size 432x288 with 1 Axes>"
            ]
          },
          "metadata": {
            "tags": [],
            "needs_background": "light"
          }
        }
      ]
    },
    {
      "cell_type": "code",
      "metadata": {
        "colab": {
          "base_uri": "https://localhost:8080/"
        },
        "id": "lQISv7mXImZ6",
        "outputId": "e3abcc4d-c86e-4983-d88d-371b45b01d61"
      },
      "source": [
        "# evaluate the model\n",
        "train_loss, train_acc = CNN_model_5.evaluate(train_images, train_labels, verbose=0)\n",
        "test_loss, test_acc = CNN_model_5.evaluate(validate_images, validate_labels, verbose=0)\n",
        "print('Accuracy: Train: %.3f, Test: %.3f' % (train_acc, test_acc))\n",
        "print('Loss: Train: %.3f, Test: %.3f' % (train_loss, test_loss))\n",
        "print(\"Elapsed time \", End_time_A5 - Start_time_A5, \" Sec\")"
      ],
      "execution_count": null,
      "outputs": [
        {
          "output_type": "stream",
          "text": [
            "Accuracy: Train: 0.998, Test: 0.754\n",
            "Loss: Train: 0.048, Test: 0.854\n",
            "Elapsed time  41.78561615943909  Sec\n"
          ],
          "name": "stdout"
        }
      ]
    },
    {
      "cell_type": "markdown",
      "metadata": {
        "id": "ClxW3sQJImZ7"
      },
      "source": [
        "#Q2.a.5  (CNN Example 5 conclusion)\n",
        "By increase the stride we need more epocs but accuracy is still good over 0.7  and validation loss enhanced  "
      ]
    },
    {
      "cell_type": "markdown",
      "metadata": {
        "id": "u1x4jTJvI4Am"
      },
      "source": [
        "#Q2.a.6 (CNN Example 6 \"Color\")\n",
        "* use 6 convolution layer with 5 * 5 and 3 * 3 filters\n",
        "* strides is 1\n",
        "* max pool after 2 conv layer\n",
        "* Epochs is 50\n",
        "* dropout 0.5"
      ]
    },
    {
      "cell_type": "code",
      "metadata": {
        "colab": {
          "base_uri": "https://localhost:8080/"
        },
        "id": "K2EnCDZRI4Ao",
        "outputId": "ef2a8cd4-4fec-4ab2-93b6-a258c2d456c0"
      },
      "source": [
        "import keras\n",
        "from keras import layers\n",
        "from keras import regularizers\n",
        "from keras.regularizers import l1,l2\n",
        "keras.backend.clear_session()\n",
        "CNN_model_6 = keras.Sequential(\n",
        "    [\n",
        "        keras.layers.InputLayer(((IMG_SIZE[0],IMG_SIZE[1],3))),\n",
        "        layers.Conv2D(5, kernel_size=(5, 5), strides=1, padding=\"same\",activation=\"relu\"),\n",
        "        layers.Conv2D(10, kernel_size=(3, 3), strides=2, padding=\"same\",activation=\"relu\"),\n",
        "        layers.MaxPooling2D(pool_size=(2, 2), strides=2),\n",
        "        layers.Conv2D(12, kernel_size=(5, 5), strides=1, padding=\"same\", activation=\"relu\"),\n",
        "        layers.Conv2D(24, kernel_size=(3, 3), strides=2, padding=\"same\", activation=\"relu\"),\n",
        "        layers.MaxPooling2D(pool_size=(2, 2), strides=2),\n",
        "        layers.Conv2D(64, kernel_size=(5, 5), strides=1, padding=\"same\", activation=\"relu\"),\n",
        "        layers.Conv2D(128, kernel_size=(3, 3), strides=2, padding=\"same\", activation=\"relu\"),\n",
        "        layers.MaxPooling2D(pool_size=(2, 2), strides=2),\n",
        "        layers.Flatten(),\n",
        "        layers.Dropout(0.5),\n",
        "        layers.Dense(10, activation=\"softmax\"),\n",
        "    ]\n",
        ")\n",
        "\n",
        "CNN_model_6.summary()"
      ],
      "execution_count": null,
      "outputs": [
        {
          "output_type": "stream",
          "text": [
            "Model: \"sequential\"\n",
            "_________________________________________________________________\n",
            "Layer (type)                 Output Shape              Param #   \n",
            "=================================================================\n",
            "conv2d (Conv2D)              (None, 256, 256, 5)       380       \n",
            "_________________________________________________________________\n",
            "conv2d_1 (Conv2D)            (None, 128, 128, 10)      460       \n",
            "_________________________________________________________________\n",
            "max_pooling2d (MaxPooling2D) (None, 64, 64, 10)        0         \n",
            "_________________________________________________________________\n",
            "conv2d_2 (Conv2D)            (None, 64, 64, 12)        3012      \n",
            "_________________________________________________________________\n",
            "conv2d_3 (Conv2D)            (None, 32, 32, 24)        2616      \n",
            "_________________________________________________________________\n",
            "max_pooling2d_1 (MaxPooling2 (None, 16, 16, 24)        0         \n",
            "_________________________________________________________________\n",
            "conv2d_4 (Conv2D)            (None, 16, 16, 64)        38464     \n",
            "_________________________________________________________________\n",
            "conv2d_5 (Conv2D)            (None, 8, 8, 128)         73856     \n",
            "_________________________________________________________________\n",
            "max_pooling2d_2 (MaxPooling2 (None, 4, 4, 128)         0         \n",
            "_________________________________________________________________\n",
            "flatten (Flatten)            (None, 2048)              0         \n",
            "_________________________________________________________________\n",
            "dropout (Dropout)            (None, 2048)              0         \n",
            "_________________________________________________________________\n",
            "dense (Dense)                (None, 10)                20490     \n",
            "=================================================================\n",
            "Total params: 139,278\n",
            "Trainable params: 139,278\n",
            "Non-trainable params: 0\n",
            "_________________________________________________________________\n"
          ],
          "name": "stdout"
        }
      ]
    },
    {
      "cell_type": "markdown",
      "metadata": {
        "id": "9fLnMnjrI4Aq"
      },
      "source": [
        "Compile and Fit CNN"
      ]
    },
    {
      "cell_type": "code",
      "metadata": {
        "id": "kuc6n3aEI4Ar"
      },
      "source": [
        "Start_time_A6 = time.time()\n",
        "CNN_model_6.compile(loss=\"categorical_crossentropy\", optimizer=\"adam\", metrics=[\"accuracy\"])\n",
        "\n",
        "history = CNN_model_6.fit(x= train_images, y= train_labels,\n",
        "                epochs=50,\n",
        "                batch_size=50,\n",
        "                shuffle=True,\n",
        "                validation_data=(validate_images,validate_labels))\n",
        "End_time_A6 = time.time()"
      ],
      "execution_count": null,
      "outputs": []
    },
    {
      "cell_type": "code",
      "metadata": {
        "colab": {
          "base_uri": "https://localhost:8080/",
          "height": 281
        },
        "id": "cMNkugcCI4As",
        "outputId": "77756917-c9c8-4ba3-e98a-52ad45245510"
      },
      "source": [
        "# plot training history\n",
        "plt.plot(history.history['loss'], label='train')\n",
        "plt.plot(history.history['val_loss'], label='test')\n",
        "plt.legend()\n",
        "plt.title(\"CNN Example 6\")\n",
        "plt.show()"
      ],
      "execution_count": null,
      "outputs": [
        {
          "output_type": "display_data",
          "data": {
            "image/png": "[encoded data removed]",
            "text/plain": [
              "<Figure size 432x288 with 1 Axes>"
            ]
          },
          "metadata": {
            "tags": [],
            "needs_background": "light"
          }
        }
      ]
    },
    {
      "cell_type": "code",
      "metadata": {
        "colab": {
          "base_uri": "https://localhost:8080/"
        },
        "id": "HyF-h_dtI4At",
        "outputId": "51a23aae-e0b8-4b98-ac0a-ca97c1d491b6"
      },
      "source": [
        "# evaluate the model\n",
        "train_loss, train_acc = CNN_model_6.evaluate(train_images, train_labels, verbose=0)\n",
        "test_loss, test_acc = CNN_model_6.evaluate(validate_images, validate_labels, verbose=0)\n",
        "print('Accuracy: Train: %.3f, Test: %.3f' % (train_acc, test_acc))\n",
        "print('Loss: Train: %.3f, Test: %.3f' % (train_loss, test_loss))\n",
        "print(\"Elapsed time \", End_time_A6 - Start_time_A6, \" Sec\")"
      ],
      "execution_count": null,
      "outputs": [
        {
          "output_type": "stream",
          "text": [
            "Accuracy: Train: 0.998, Test: 0.704\n",
            "Loss: Train: 0.027, Test: 1.367\n",
            "Elapsed time  40.53667950630188  Sec\n"
          ],
          "name": "stdout"
        }
      ]
    },
    {
      "cell_type": "markdown",
      "metadata": {
        "id": "enRp59d3I4Au"
      },
      "source": [
        "#Q2.a.6  (CNN Example 6 conclusion)\n",
        "by distribute 2 convolution layers after each  then max pooling and repeat, didnot enhance than before bu it make it worse"
      ]
    },
    {
      "cell_type": "markdown",
      "metadata": {
        "id": "BrZoti1eJIwT"
      },
      "source": [
        "#Q2.a.7 (CNN Example 7 \"Color\")\n",
        "* use 6 convolution layer with  3 * 3 filters\n",
        "* strides is 2\n",
        "* max pool after each conv  layer\n",
        "* Epochs is 50\n",
        "* dropout 0.5"
      ]
    },
    {
      "cell_type": "code",
      "metadata": {
        "colab": {
          "base_uri": "https://localhost:8080/"
        },
        "id": "H5wUtQi_JIwV",
        "outputId": "e951c668-e92e-4d88-ea0a-01ac45309f32"
      },
      "source": [
        "import keras\n",
        "from keras import layers\n",
        "from keras import regularizers\n",
        "from keras.regularizers import l1,l2\n",
        "keras.backend.clear_session()\n",
        "CNN_model_7 = keras.Sequential(\n",
        "    [\n",
        "        keras.layers.InputLayer(((IMG_SIZE[0],IMG_SIZE[1],3))),\n",
        "        layers.Conv2D(5, kernel_size=(3, 3), strides=1, padding=\"same\",activation=\"relu\"),\n",
        "        layers.MaxPooling2D(pool_size=(2, 2), strides=2),\n",
        "        layers.Conv2D(15, kernel_size=(3, 3), strides=1, padding=\"same\", activation=\"relu\"),\n",
        "        layers.MaxPooling2D(pool_size=(2, 2), strides=2),\n",
        "        layers.Conv2D(45, kernel_size=(3, 3), strides=1, padding=\"same\", activation=\"relu\"),\n",
        "        layers.MaxPooling2D(pool_size=(2, 2), strides=2),\n",
        "        layers.Conv2D(135, kernel_size=(3, 3), strides=1, padding=\"same\", activation=\"relu\"),\n",
        "        layers.MaxPooling2D(pool_size=(2, 2), strides=2),\n",
        "        layers.Conv2D(200, kernel_size=(3, 3), strides=1, padding=\"same\", activation=\"relu\"),\n",
        "        layers.MaxPooling2D(pool_size=(2, 2), strides=2),\n",
        "        layers.Conv2D(300, kernel_size=(3, 3), strides=1, padding=\"same\", activation=\"relu\"),\n",
        "        layers.MaxPooling2D(pool_size=(2, 2), strides=2),\n",
        "        layers.Flatten(),\n",
        "        layers.Dropout(0.5),\n",
        "        layers.Dense(10, activation=\"softmax\"),\n",
        "    ]\n",
        ")\n",
        "\n",
        "CNN_model_7.summary()"
      ],
      "execution_count": null,
      "outputs": [
        {
          "output_type": "stream",
          "text": [
            "Model: \"sequential\"\n",
            "_________________________________________________________________\n",
            "Layer (type)                 Output Shape              Param #   \n",
            "=================================================================\n",
            "conv2d (Conv2D)              (None, 256, 256, 5)       140       \n",
            "_________________________________________________________________\n",
            "max_pooling2d (MaxPooling2D) (None, 128, 128, 5)       0         \n",
            "_________________________________________________________________\n",
            "conv2d_1 (Conv2D)            (None, 128, 128, 15)      690       \n",
            "_________________________________________________________________\n",
            "max_pooling2d_1 (MaxPooling2 (None, 64, 64, 15)        0         \n",
            "_________________________________________________________________\n",
            "conv2d_2 (Conv2D)            (None, 64, 64, 45)        6120      \n",
            "_________________________________________________________________\n",
            "max_pooling2d_2 (MaxPooling2 (None, 32, 32, 45)        0         \n",
            "_________________________________________________________________\n",
            "conv2d_3 (Conv2D)            (None, 32, 32, 135)       54810     \n",
            "_________________________________________________________________\n",
            "max_pooling2d_3 (MaxPooling2 (None, 16, 16, 135)       0         \n",
            "_________________________________________________________________\n",
            "conv2d_4 (Conv2D)            (None, 16, 16, 200)       243200    \n",
            "_________________________________________________________________\n",
            "max_pooling2d_4 (MaxPooling2 (None, 8, 8, 200)         0         \n",
            "_________________________________________________________________\n",
            "conv2d_5 (Conv2D)            (None, 8, 8, 300)         540300    \n",
            "_________________________________________________________________\n",
            "max_pooling2d_5 (MaxPooling2 (None, 4, 4, 300)         0         \n",
            "_________________________________________________________________\n",
            "flatten (Flatten)            (None, 4800)              0         \n",
            "_________________________________________________________________\n",
            "dropout (Dropout)            (None, 4800)              0         \n",
            "_________________________________________________________________\n",
            "dense (Dense)                (None, 10)                48010     \n",
            "=================================================================\n",
            "Total params: 893,270\n",
            "Trainable params: 893,270\n",
            "Non-trainable params: 0\n",
            "_________________________________________________________________\n"
          ],
          "name": "stdout"
        }
      ]
    },
    {
      "cell_type": "markdown",
      "metadata": {
        "id": "hlesikS9JIwc"
      },
      "source": [
        "Compile and Fit CNN"
      ]
    },
    {
      "cell_type": "code",
      "metadata": {
        "id": "-S5D_lsoJIwd"
      },
      "source": [
        "Start_time_A7 = time.time()\n",
        "CNN_model_7.compile(loss=\"categorical_crossentropy\", optimizer=\"adam\", metrics=[\"accuracy\"])\n",
        "\n",
        "history = CNN_model_7.fit(x= train_images, y= train_labels,\n",
        "                epochs=50,\n",
        "                batch_size=50,\n",
        "                shuffle=True,\n",
        "                validation_data=(validate_images,validate_labels))\n",
        "End_time_A7 = time.time()"
      ],
      "execution_count": null,
      "outputs": []
    },
    {
      "cell_type": "code",
      "metadata": {
        "colab": {
          "base_uri": "https://localhost:8080/",
          "height": 281
        },
        "id": "mCFJBxiSJIwe",
        "outputId": "20a1ed97-d1ae-45f9-bf1c-03d889324fde"
      },
      "source": [
        "# plot training history\n",
        "plt.plot(history.history['loss'], label='train')\n",
        "plt.plot(history.history['val_loss'], label='test')\n",
        "plt.legend()\n",
        "plt.title(\"CNN Example 7\")\n",
        "plt.show()"
      ],
      "execution_count": null,
      "outputs": [
        {
          "output_type": "display_data",
          "data": {
            "image/png": "[encoded data removed]",
            "text/plain": [
              "<Figure size 432x288 with 1 Axes>"
            ]
          },
          "metadata": {
            "tags": [],
            "needs_background": "light"
          }
        }
      ]
    },
    {
      "cell_type": "code",
      "metadata": {
        "colab": {
          "base_uri": "https://localhost:8080/"
        },
        "id": "iHjjNwdTJIwh",
        "outputId": "4ba63d09-2910-414b-8ae8-59d86f37ca06"
      },
      "source": [
        "# evaluate the model\n",
        "train_loss, train_acc = CNN_model_7.evaluate(train_images, train_labels, verbose=0)\n",
        "test_loss, test_acc = CNN_model_7.evaluate(validate_images, validate_labels, verbose=0)\n",
        "print('Accuracy: Train: %.3f, Test: %.3f' % (train_acc, test_acc))\n",
        "print('Loss: Train: %.3f, Test: %.3f' % (train_loss, test_loss))\n",
        "print(\"Elapsed time \", End_time_A7 - Start_time_A7, \" Sec\")"
      ],
      "execution_count": null,
      "outputs": [
        {
          "output_type": "stream",
          "text": [
            "Accuracy: Train: 1.000, Test: 0.742\n",
            "Loss: Train: 0.002, Test: 1.517\n",
            "Elapsed time  44.98398184776306  Sec\n"
          ],
          "name": "stdout"
        }
      ]
    },
    {
      "cell_type": "markdown",
      "metadata": {
        "id": "F6Ric3WxJIwj"
      },
      "source": [
        "#Q2.a.7  (CNN Example 7 conclusion)\n",
        "By add 3 Convolution and Pooling layers to become total 6 layers, butu still accuracy is good and validation loss is little worse"
      ]
    },
    {
      "cell_type": "markdown",
      "metadata": {
        "id": "8PcrO7_jJSpC"
      },
      "source": [
        "#Q2.a.8 (CNN Example 8 \"Color\")\n",
        "* use 3 convolution layer with  3 * 3 filters\n",
        "* strides is 2\n",
        "* max pool after 1 convolution layer\n",
        "* Epochs is 100\n",
        "* dropout 0.75"
      ]
    },
    {
      "cell_type": "code",
      "metadata": {
        "colab": {
          "base_uri": "https://localhost:8080/"
        },
        "id": "6FJI3nBQJSpF",
        "outputId": "0723bf5f-6a49-423d-87f3-3e559a76b7db"
      },
      "source": [
        "import keras\n",
        "from keras import layers\n",
        "from keras import regularizers\n",
        "from keras.regularizers import l1,l2\n",
        "keras.backend.clear_session()\n",
        "\n",
        "CNN_model_8 = keras.Sequential(\n",
        "    [\n",
        "        keras.layers.InputLayer(((IMG_SIZE[0],IMG_SIZE[1],3))),\n",
        "        layers.Conv2D(10, kernel_size=(3, 3), strides=2, padding=\"same\",activation=\"relu\"),\n",
        "        layers.MaxPooling2D(pool_size=(2, 2), strides=2),\n",
        "        layers.Conv2D(24, kernel_size=(3, 3), strides=2, padding=\"same\", activation=\"relu\"),\n",
        "        layers.MaxPooling2D(pool_size=(2, 2), strides=2),\n",
        "        layers.Conv2D(128, kernel_size=(3, 3), strides=2, padding=\"same\", activation=\"relu\"),\n",
        "        layers.MaxPooling2D(pool_size=(2, 2), strides=2),\n",
        "        layers.Flatten(),\n",
        "        layers.Dropout(0.75),\n",
        "        layers.Dense(10, activation=\"softmax\"),\n",
        "    ]\n",
        ")\n",
        "\n",
        "CNN_model_8.summary()"
      ],
      "execution_count": null,
      "outputs": [
        {
          "output_type": "stream",
          "text": [
            "Model: \"sequential\"\n",
            "_________________________________________________________________\n",
            "Layer (type)                 Output Shape              Param #   \n",
            "=================================================================\n",
            "conv2d (Conv2D)              (None, 128, 128, 10)      280       \n",
            "_________________________________________________________________\n",
            "max_pooling2d (MaxPooling2D) (None, 64, 64, 10)        0         \n",
            "_________________________________________________________________\n",
            "conv2d_1 (Conv2D)            (None, 32, 32, 24)        2184      \n",
            "_________________________________________________________________\n",
            "max_pooling2d_1 (MaxPooling2 (None, 16, 16, 24)        0         \n",
            "_________________________________________________________________\n",
            "conv2d_2 (Conv2D)            (None, 8, 8, 128)         27776     \n",
            "_________________________________________________________________\n",
            "max_pooling2d_2 (MaxPooling2 (None, 4, 4, 128)         0         \n",
            "_________________________________________________________________\n",
            "flatten (Flatten)            (None, 2048)              0         \n",
            "_________________________________________________________________\n",
            "dropout (Dropout)            (None, 2048)              0         \n",
            "_________________________________________________________________\n",
            "dense (Dense)                (None, 10)                20490     \n",
            "=================================================================\n",
            "Total params: 50,730\n",
            "Trainable params: 50,730\n",
            "Non-trainable params: 0\n",
            "_________________________________________________________________\n"
          ],
          "name": "stdout"
        }
      ]
    },
    {
      "cell_type": "markdown",
      "metadata": {
        "id": "YBzJvnaKJSpI"
      },
      "source": [
        "Compile and Fit CNN"
      ]
    },
    {
      "cell_type": "code",
      "metadata": {
        "id": "4dQw6iKeJSpJ"
      },
      "source": [
        "Start_time_A8 = time.time()\n",
        "\n",
        "CNN_model_8.compile(loss=\"categorical_crossentropy\", optimizer=\"adam\", metrics=[\"accuracy\"])\n",
        "\n",
        "history = CNN_model_8.fit(x= train_images, y= train_labels,\n",
        "                epochs=100,\n",
        "                batch_size=50,\n",
        "                shuffle=True,\n",
        "                validation_data=(validate_images,validate_labels))\n",
        "End_time_A8 = time.time()"
      ],
      "execution_count": null,
      "outputs": []
    },
    {
      "cell_type": "code",
      "metadata": {
        "colab": {
          "base_uri": "https://localhost:8080/",
          "height": 281
        },
        "id": "lYn3xCi3JSpL",
        "outputId": "caa3c6bc-88e7-4581-cd53-1a14c4d933f0"
      },
      "source": [
        "# plot training history\n",
        "plt.plot(history.history['loss'], label='train')\n",
        "plt.plot(history.history['val_loss'], label='test')\n",
        "plt.legend()\n",
        "plt.title(\"CNN Example 8\")\n",
        "plt.show()"
      ],
      "execution_count": null,
      "outputs": [
        {
          "output_type": "display_data",
          "data": {
            "image/png": "[encoded data removed]",
            "text/plain": [
              "<Figure size 432x288 with 1 Axes>"
            ]
          },
          "metadata": {
            "tags": [],
            "needs_background": "light"
          }
        }
      ]
    },
    {
      "cell_type": "code",
      "metadata": {
        "colab": {
          "base_uri": "https://localhost:8080/"
        },
        "id": "clgNVUhPJSpN",
        "outputId": "6914a7f1-8513-4843-9909-6dea7c8cf6f3"
      },
      "source": [
        "# evaluate the model\n",
        "train_loss, train_acc = CNN_model_8.evaluate(train_images, train_labels, verbose=0)\n",
        "test_loss, test_acc = CNN_model_8.evaluate(validate_images, validate_labels, verbose=0)\n",
        "print('Accuracy: Train: %.3f, Test: %.3f' % (train_acc, test_acc))\n",
        "print('Loss: Train: %.3f, Test: %.3f' % (train_loss, test_loss))\n",
        "print(\"Elapsed time \", End_time_A8 - Start_time_A8, \" Sec\")"
      ],
      "execution_count": null,
      "outputs": [
        {
          "output_type": "stream",
          "text": [
            "Accuracy: Train: 1.000, Test: 0.788\n",
            "Loss: Train: 0.021, Test: 0.787\n",
            "Elapsed time  53.33641171455383  Sec\n"
          ],
          "name": "stdout"
        }
      ]
    },
    {
      "cell_type": "markdown",
      "metadata": {
        "id": "83-hnHk6JSpO"
      },
      "source": [
        "#Q2.a.8  (CNN Example 8 conclusion)\n",
        "By increasing dropout, Validation accuracy enhanced but we need more epocs to get accepted train loss and validation loss."
      ]
    },
    {
      "cell_type": "markdown",
      "metadata": {
        "id": "Fp0xTEHEJiis"
      },
      "source": [
        "#Q2.a.9 (CNN Example 9 \"Color\")\n",
        "* use 3 convolution layer with  3 * 3 filters\n",
        "* strides is 2\n",
        "* max pool after 1 convolution layer\n",
        "* Epochs is 150\n",
        "* dropout 0.75\n",
        "* Minibatch form 50 to 150"
      ]
    },
    {
      "cell_type": "code",
      "metadata": {
        "colab": {
          "base_uri": "https://localhost:8080/"
        },
        "id": "fscKmLVWJijI",
        "outputId": "17d2fdb7-6777-4bb2-fbee-ad30bc7ecff1"
      },
      "source": [
        "import keras\n",
        "from keras import layers\n",
        "from keras import regularizers\n",
        "from keras.regularizers import l1,l2\n",
        "keras.backend.clear_session()\n",
        "CNN_model_9 = keras.Sequential(\n",
        "    [\n",
        "        keras.layers.InputLayer(((IMG_SIZE[0],IMG_SIZE[1],3))),\n",
        "        layers.Conv2D(10, kernel_size=(3, 3), strides=2, padding=\"same\",activation=\"relu\"),\n",
        "        layers.MaxPooling2D(pool_size=(2, 2), strides=2),\n",
        "        layers.Conv2D(24, kernel_size=(3, 3), strides=2, padding=\"same\", activation=\"relu\"),\n",
        "        layers.MaxPooling2D(pool_size=(2, 2), strides=2),\n",
        "        layers.Conv2D(128, kernel_size=(3, 3), strides=2, padding=\"same\", activation=\"relu\"),\n",
        "        layers.MaxPooling2D(pool_size=(2, 2), strides=2),\n",
        "        layers.Flatten(),\n",
        "        layers.Dropout(0.75),\n",
        "        layers.Dense(10, activation=\"softmax\"),\n",
        "    ]\n",
        ")\n",
        "\n",
        "CNN_model_9.summary()"
      ],
      "execution_count": null,
      "outputs": [
        {
          "output_type": "stream",
          "text": [
            "Model: \"sequential\"\n",
            "_________________________________________________________________\n",
            "Layer (type)                 Output Shape              Param #   \n",
            "=================================================================\n",
            "conv2d (Conv2D)              (None, 128, 128, 10)      280       \n",
            "_________________________________________________________________\n",
            "max_pooling2d (MaxPooling2D) (None, 64, 64, 10)        0         \n",
            "_________________________________________________________________\n",
            "conv2d_1 (Conv2D)            (None, 32, 32, 24)        2184      \n",
            "_________________________________________________________________\n",
            "max_pooling2d_1 (MaxPooling2 (None, 16, 16, 24)        0         \n",
            "_________________________________________________________________\n",
            "conv2d_2 (Conv2D)            (None, 8, 8, 128)         27776     \n",
            "_________________________________________________________________\n",
            "max_pooling2d_2 (MaxPooling2 (None, 4, 4, 128)         0         \n",
            "_________________________________________________________________\n",
            "flatten (Flatten)            (None, 2048)              0         \n",
            "_________________________________________________________________\n",
            "dropout (Dropout)            (None, 2048)              0         \n",
            "_________________________________________________________________\n",
            "dense (Dense)                (None, 10)                20490     \n",
            "=================================================================\n",
            "Total params: 50,730\n",
            "Trainable params: 50,730\n",
            "Non-trainable params: 0\n",
            "_________________________________________________________________\n"
          ],
          "name": "stdout"
        }
      ]
    },
    {
      "cell_type": "markdown",
      "metadata": {
        "id": "9wPRugE1JijK"
      },
      "source": [
        "Compile and Fit CNN"
      ]
    },
    {
      "cell_type": "code",
      "metadata": {
        "id": "zoyurkikJijK"
      },
      "source": [
        "Start_time_A9 = time.time()\n",
        "CNN_model_9.compile(loss=\"categorical_crossentropy\", optimizer=\"adam\", metrics=[\"accuracy\"])\n",
        "\n",
        "history = CNN_model_9.fit(x= train_images, y= train_labels,\n",
        "                epochs=150,\n",
        "                batch_size=150,\n",
        "                shuffle=True,\n",
        "                validation_data=(validate_images,validate_labels))\n",
        "End_time_A9 = time.time()"
      ],
      "execution_count": null,
      "outputs": []
    },
    {
      "cell_type": "code",
      "metadata": {
        "colab": {
          "base_uri": "https://localhost:8080/",
          "height": 281
        },
        "id": "zIX2-yizJijL",
        "outputId": "1b67ac1c-4c16-4e3c-a22d-34a86b189ab4"
      },
      "source": [
        "# plot training history\n",
        "plt.plot(history.history['loss'], label='train')\n",
        "plt.plot(history.history['val_loss'], label='test')\n",
        "plt.legend()\n",
        "plt.title(\"CNN Example 9\")\n",
        "plt.show()"
      ],
      "execution_count": null,
      "outputs": [
        {
          "output_type": "display_data",
          "data": {
            "image/png": "[encoded data removed]",
            "text/plain": [
              "<Figure size 432x288 with 1 Axes>"
            ]
          },
          "metadata": {
            "tags": [],
            "needs_background": "light"
          }
        }
      ]
    },
    {
      "cell_type": "code",
      "metadata": {
        "colab": {
          "base_uri": "https://localhost:8080/"
        },
        "id": "F_NUOpiaJijM",
        "outputId": "6ca75b8c-2697-41d9-afb9-a60b2a9492c5"
      },
      "source": [
        "# evaluate the model\n",
        "train_loss, train_acc = CNN_model_9.evaluate(train_images, train_labels, verbose=0)\n",
        "test_loss, test_acc = CNN_model_9.evaluate(validate_images, validate_labels, verbose=0)\n",
        "print('Accuracy: Train: %.3f, Test: %.3f' % (train_acc, test_acc))\n",
        "print('Loss: Train: %.3f, Test: %.3f' % (train_loss, test_loss))\n",
        "print(\"Elapsed time \", End_time_A9 - Start_time_A9, \" Sec\")"
      ],
      "execution_count": null,
      "outputs": [
        {
          "output_type": "stream",
          "text": [
            "Accuracy: Train: 0.998, Test: 0.782\n",
            "Loss: Train: 0.035, Test: 0.800\n",
            "Elapsed time  67.99698042869568  Sec\n"
          ],
          "name": "stdout"
        }
      ]
    },
    {
      "cell_type": "markdown",
      "metadata": {
        "id": "zWMjMo4vJijM"
      },
      "source": [
        "#Q2.a.9  (CNN Example 9 conclusion)\n",
        "Increasing Mini batch from 50 to 150 does not enhance the result from example 8, but take more epocs to reach the same results such that fitting time is increase only"
      ]
    },
    {
      "cell_type": "markdown",
      "metadata": {
        "id": "BOvpRTM1JtyO"
      },
      "source": [
        "#Q2.a.10 (CNN Example 10 \"Gray\")\n",
        "* use 3 convolusion layer with 5 * 5 filters\n",
        "* max pool after each class\n",
        "* Epochs is 50\n",
        "* dropout 0.5"
      ]
    },
    {
      "cell_type": "code",
      "metadata": {
        "colab": {
          "base_uri": "https://localhost:8080/"
        },
        "id": "mnhVOWtRJtyR",
        "outputId": "07f04c59-17f3-45c9-e68d-07dd4acbf1c6"
      },
      "source": [
        "import keras\n",
        "from keras import layers\n",
        "from keras import regularizers\n",
        "from keras.regularizers import l1,l2\n",
        "keras.backend.clear_session()\n",
        "\n",
        "CNN_model_10 = keras.Sequential(\n",
        "    [\n",
        "        keras.layers.InputLayer(((IMG_SIZE[0],IMG_SIZE[1],1))),\n",
        "        layers.Conv2D(10, kernel_size=(3, 3), strides=2, padding=\"same\",activation=\"relu\"),\n",
        "        layers.MaxPooling2D(pool_size=(2, 2), strides=2),\n",
        "        layers.Conv2D(24, kernel_size=(3, 3), strides=2, padding=\"same\", activation=\"relu\"),\n",
        "        layers.MaxPooling2D(pool_size=(2, 2), strides=2),\n",
        "        layers.Conv2D(128, kernel_size=(3, 3), strides=2, padding=\"same\", activation=\"relu\"),\n",
        "        layers.MaxPooling2D(pool_size=(2, 2), strides=2),\n",
        "        layers.Flatten(),\n",
        "        layers.Dropout(0.75),\n",
        "        layers.Dense(10, activation=\"softmax\"),\n",
        "    ]\n",
        ")\n",
        "\n",
        "CNN_model_10.summary()"
      ],
      "execution_count": null,
      "outputs": [
        {
          "output_type": "stream",
          "text": [
            "Model: \"sequential\"\n",
            "_________________________________________________________________\n",
            "Layer (type)                 Output Shape              Param #   \n",
            "=================================================================\n",
            "conv2d (Conv2D)              (None, 128, 128, 10)      100       \n",
            "_________________________________________________________________\n",
            "max_pooling2d (MaxPooling2D) (None, 64, 64, 10)        0         \n",
            "_________________________________________________________________\n",
            "conv2d_1 (Conv2D)            (None, 32, 32, 24)        2184      \n",
            "_________________________________________________________________\n",
            "max_pooling2d_1 (MaxPooling2 (None, 16, 16, 24)        0         \n",
            "_________________________________________________________________\n",
            "conv2d_2 (Conv2D)            (None, 8, 8, 128)         27776     \n",
            "_________________________________________________________________\n",
            "max_pooling2d_2 (MaxPooling2 (None, 4, 4, 128)         0         \n",
            "_________________________________________________________________\n",
            "flatten (Flatten)            (None, 2048)              0         \n",
            "_________________________________________________________________\n",
            "dropout (Dropout)            (None, 2048)              0         \n",
            "_________________________________________________________________\n",
            "dense (Dense)                (None, 10)                20490     \n",
            "=================================================================\n",
            "Total params: 50,550\n",
            "Trainable params: 50,550\n",
            "Non-trainable params: 0\n",
            "_________________________________________________________________\n"
          ],
          "name": "stdout"
        }
      ]
    },
    {
      "cell_type": "markdown",
      "metadata": {
        "id": "n73Tp-liJtyS"
      },
      "source": [
        "Compile and Fit CNN"
      ]
    },
    {
      "cell_type": "code",
      "metadata": {
        "id": "WG9wHd2vJtyU"
      },
      "source": [
        "Start_time_A10 = time.time()\n",
        "CNN_model_10.compile(loss=\"categorical_crossentropy\", optimizer=\"adam\", metrics=[\"accuracy\"])\n",
        "\n",
        "history = CNN_model_10.fit(x= train_images_gray, y= train_labels,\n",
        "                epochs=100,\n",
        "                batch_size=50,\n",
        "                shuffle=True,\n",
        "                validation_data=(validate_images_gray,validate_labels))\n",
        "End_time_A10 = time.time()"
      ],
      "execution_count": null,
      "outputs": []
    },
    {
      "cell_type": "code",
      "metadata": {
        "colab": {
          "base_uri": "https://localhost:8080/",
          "height": 281
        },
        "id": "xCRqPJyDJtyW",
        "outputId": "089ccfb1-08aa-4844-8dc2-c66cd29d1250"
      },
      "source": [
        "# plot training history\n",
        "plt.plot(history.history['loss'], label='train')\n",
        "plt.plot(history.history['val_loss'], label='test')\n",
        "plt.legend()\n",
        "plt.title(\"CNN Example 10\")\n",
        "plt.show()"
      ],
      "execution_count": null,
      "outputs": [
        {
          "output_type": "display_data",
          "data": {
            "image/png": "[encoded data removed]",
            "text/plain": [
              "<Figure size 432x288 with 1 Axes>"
            ]
          },
          "metadata": {
            "tags": [],
            "needs_background": "light"
          }
        }
      ]
    },
    {
      "cell_type": "code",
      "metadata": {
        "colab": {
          "base_uri": "https://localhost:8080/"
        },
        "id": "aQ1Wc55kJtyX",
        "outputId": "d5fe8045-763e-41d2-c4fa-30ac2775de5f"
      },
      "source": [
        "# evaluate the model\n",
        "train_loss, train_acc = CNN_model_10.evaluate(train_images_gray, train_labels, verbose=0)\n",
        "test_loss, test_acc = CNN_model_10.evaluate(validate_images_gray, validate_labels, verbose=0)\n",
        "print('Accuracy: Train: %.3f, Test: %.3f' % (train_acc, test_acc))\n",
        "print('Loss: Train: %.3f, Test: %.3f' % (train_loss, test_loss))\n",
        "print(\"Elapsed time \", End_time_A10 - Start_time_A10, \" Sec\")"
      ],
      "execution_count": null,
      "outputs": [
        {
          "output_type": "stream",
          "text": [
            "Accuracy: Train: 1.000, Test: 0.712\n",
            "Loss: Train: 0.022, Test: 0.989\n",
            "Elapsed time  41.743088245391846  Sec\n"
          ],
          "name": "stdout"
        }
      ]
    },
    {
      "cell_type": "markdown",
      "metadata": {
        "id": "aA1c-kJVJtyY"
      },
      "source": [
        "#Q2.a.10  (CNN Example 10 conclusion)\n",
        "Train the Gray model with model layers like example 8, the output validation accuracy is less than that of example 8, such that features maps of gray model loss some information while conversion."
      ]
    },
    {
      "cell_type": "markdown",
      "metadata": {
        "id": "zjTyVqhyIG5U"
      },
      "source": [
        "---"
      ]
    },
    {
      "cell_type": "markdown",
      "metadata": {
        "id": "FBl--nwvINvI"
      },
      "source": [
        "#Q2.b (Transfer Learning InceptionV3)\n",
        "*   Use a pre-trained deep model of your choice, \n",
        "* add the required output layers for the COREL classification and \n",
        "* fine-tune the model using the COREL training data.\n",
        "* Then test on the COREL test images.\n"
      ]
    },
    {
      "cell_type": "markdown",
      "metadata": {
        "id": "mgI6xRil9KmD"
      },
      "source": [
        "Transfer learning using InceptionV3\n",
        "* Get InceptionV3 model from Keras and adjust input shape to be the dimension of Corel Dataset. \n",
        "* Add Max pool at the end of the model to get the 2 dimension array at the output\n",
        "* Freeze the model"
      ]
    },
    {
      "cell_type": "code",
      "metadata": {
        "colab": {
          "base_uri": "https://localhost:8080/"
        },
        "id": "WzhRQxWk9KmH",
        "outputId": "6b8f3727-ad25-433e-aa7b-b4080891f42b"
      },
      "source": [
        "from tensorflow.keras.applications.inception_v3  import InceptionV3\n",
        "dim = train_images.shape\n",
        "print(dim)\n",
        "model_InceptionV3 = InceptionV3(weights='imagenet',include_top=False,input_shape= (dim[1],dim[2],dim[3]),pooling= 'max')\n",
        "model_InceptionV3.trainable = False #freeze the model\n",
        "#model_InceptionV3.summary()"
      ],
      "execution_count": null,
      "outputs": [
        {
          "output_type": "stream",
          "text": [
            "(500, 256, 256, 3)\n"
          ],
          "name": "stdout"
        }
      ]
    },
    {
      "cell_type": "markdown",
      "metadata": {
        "id": "OFYzavDiqSvu"
      },
      "source": [
        "*Create* New Model"
      ]
    },
    {
      "cell_type": "code",
      "metadata": {
        "colab": {
          "base_uri": "https://localhost:8080/"
        },
        "id": "_7ypMG52w9l1",
        "outputId": "fc0e3279-3ce1-4c80-d504-118d84851d3a"
      },
      "source": [
        "import keras\n",
        "from keras import layers\n",
        "Transfer_model = keras.Sequential(\n",
        "    [\n",
        "        keras.layers.InputLayer(((dim[1],dim[2],dim[3]))),\n",
        "        model_InceptionV3,\n",
        "        #layers.Dense(64,activation='relu'),\n",
        "        layers.Dropout(0.75),\n",
        "        layers.Dense(10, activation=\"softmax\"),\n",
        "    ]\n",
        ")\n",
        "\n",
        "Transfer_model.summary()\n",
        "for i, layer in enumerate(Transfer_model.layers):\n",
        "   print(i, layer.name)"
      ],
      "execution_count": null,
      "outputs": [
        {
          "output_type": "stream",
          "text": [
            "Model: \"sequential_5\"\n",
            "_________________________________________________________________\n",
            "Layer (type)                 Output Shape              Param #   \n",
            "=================================================================\n",
            "module_wrapper_4 (ModuleWrap (None, 2048)              21802784  \n",
            "_________________________________________________________________\n",
            "dropout_5 (Dropout)          (None, 2048)              0         \n",
            "_________________________________________________________________\n",
            "dense_8 (Dense)              (None, 10)                20490     \n",
            "=================================================================\n",
            "Total params: 21,823,274\n",
            "Trainable params: 20,490\n",
            "Non-trainable params: 21,802,784\n",
            "_________________________________________________________________\n",
            "0 module_wrapper_4\n",
            "1 dropout_5\n",
            "2 dense_8\n"
          ],
          "name": "stdout"
        }
      ]
    },
    {
      "cell_type": "markdown",
      "metadata": {
        "id": "Ustb7TGLa5gH"
      },
      "source": [
        "Compile and fit freezed model"
      ]
    },
    {
      "cell_type": "code",
      "metadata": {
        "id": "TJ7psXwkIEXx"
      },
      "source": [
        "Start_time_B1 = time.time()\n",
        "Transfer_model.compile(loss=\"categorical_crossentropy\", optimizer=\"adam\", metrics=[\"accuracy\"])\n",
        "\n",
        "history = Transfer_model.fit(x= train_images, y= train_labels,\n",
        "                epochs=50,\n",
        "                batch_size=50,\n",
        "                shuffle=True,\n",
        "                validation_data=(validate_images,validate_labels))\n",
        "End_time_B1 = time.time()"
      ],
      "execution_count": null,
      "outputs": []
    },
    {
      "cell_type": "code",
      "metadata": {
        "colab": {
          "base_uri": "https://localhost:8080/",
          "height": 281
        },
        "id": "9JOMCrIMeCPo",
        "outputId": "f6a44b57-e252-4f84-8b38-b2b2e2417491"
      },
      "source": [
        "# plot training history\n",
        "plt.plot(history.history['loss'], label='train loss')\n",
        "plt.plot(history.history['val_loss'], label='test loss')\n",
        "plt.plot(history.history['accuracy'], label='train accuracy')\n",
        "plt.plot(history.history['val_accuracy'], label='test accuracy')\n",
        "plt.legend()\n",
        "plt.title(\"Transfer Learning Before Fine Tuning\")\n",
        "plt.show()"
      ],
      "execution_count": null,
      "outputs": [
        {
          "output_type": "display_data",
          "data": {
            "image/png": "[encoded data removed]",
            "text/plain": [
              "<Figure size 432x288 with 1 Axes>"
            ]
          },
          "metadata": {
            "tags": [],
            "needs_background": "light"
          }
        }
      ]
    },
    {
      "cell_type": "markdown",
      "metadata": {
        "id": "Y74VO3_Yb6Hh"
      },
      "source": [
        "Fine Tune the model by unfreeze the the InceptionV3 and make low learning curve "
      ]
    },
    {
      "cell_type": "code",
      "metadata": {
        "colab": {
          "base_uri": "https://localhost:8080/"
        },
        "id": "kiicVhjvcQW9",
        "outputId": "7b993777-121f-4879-d69a-4a628c9afafe"
      },
      "source": [
        "model_InceptionV3.trainable = True #unfreeze the model\n",
        "\n",
        "Start_time_B2 = time.time()\n",
        "Transfer_model.compile(optimizer=keras.optimizers.Adam(1e-5),  # Very low learning rate\n",
        "    loss=\"categorical_crossentropy\", metrics=[\"accuracy\"])\n",
        "\n",
        "historyB2 = Transfer_model.fit(x= train_images, y= train_labels,\n",
        "                epochs=10,\n",
        "                batch_size=50,\n",
        "                shuffle=True,\n",
        "                validation_data=(validate_images,validate_labels))\n",
        "End_time_B2 = time.time()"
      ],
      "execution_count": null,
      "outputs": [
        {
          "output_type": "stream",
          "text": [
            "Epoch 1/10\n",
            "10/10 [==============================] - 14s 787ms/step - loss: 1.5941 - accuracy: 0.7147 - val_loss: 0.1627 - val_accuracy: 0.9720\n",
            "Epoch 2/10\n",
            "10/10 [==============================] - 6s 654ms/step - loss: 0.8064 - accuracy: 0.8361 - val_loss: 0.1595 - val_accuracy: 0.9740\n",
            "Epoch 3/10\n",
            "10/10 [==============================] - 6s 661ms/step - loss: 0.6834 - accuracy: 0.8431 - val_loss: 0.1582 - val_accuracy: 0.9700\n",
            "Epoch 4/10\n",
            "10/10 [==============================] - 6s 666ms/step - loss: 0.5541 - accuracy: 0.8832 - val_loss: 0.1562 - val_accuracy: 0.9720\n",
            "Epoch 5/10\n",
            "10/10 [==============================] - 8s 791ms/step - loss: 0.3812 - accuracy: 0.9018 - val_loss: 0.1541 - val_accuracy: 0.9720\n",
            "Epoch 6/10\n",
            "10/10 [==============================] - 8s 789ms/step - loss: 0.4352 - accuracy: 0.8886 - val_loss: 0.1519 - val_accuracy: 0.9720\n",
            "Epoch 7/10\n",
            "10/10 [==============================] - 6s 662ms/step - loss: 0.2388 - accuracy: 0.9457 - val_loss: 0.1513 - val_accuracy: 0.9720\n",
            "Epoch 8/10\n",
            "10/10 [==============================] - 8s 780ms/step - loss: 0.2588 - accuracy: 0.9389 - val_loss: 0.1510 - val_accuracy: 0.9720\n",
            "Epoch 9/10\n",
            "10/10 [==============================] - 7s 777ms/step - loss: 0.2298 - accuracy: 0.9502 - val_loss: 0.1493 - val_accuracy: 0.9720\n",
            "Epoch 10/10\n",
            "10/10 [==============================] - 7s 771ms/step - loss: 0.2339 - accuracy: 0.9271 - val_loss: 0.1480 - val_accuracy: 0.9720\n"
          ],
          "name": "stdout"
        }
      ]
    },
    {
      "cell_type": "code",
      "metadata": {
        "colab": {
          "base_uri": "https://localhost:8080/",
          "height": 281
        },
        "id": "ap2oSC4QdrQs",
        "outputId": "2a1d9a27-4282-412b-a844-444c01aa1a58"
      },
      "source": [
        "# plot training history\n",
        "plt.plot(historyB2.history['loss'], label='train loss')\n",
        "plt.plot(historyB2.history['val_loss'], label='test loss')\n",
        "plt.plot(historyB2.history['accuracy'], label='train accuracy')\n",
        "plt.plot(historyB2.history['val_accuracy'], label='test accuracy')\n",
        "plt.legend()\n",
        "plt.title(\"Transfer Learning After Fine Tuning\")\n",
        "plt.show()"
      ],
      "execution_count": null,
      "outputs": [
        {
          "output_type": "display_data",
          "data": {
            "image/png": "[encoded data removed]",
            "text/plain": [
              "<Figure size 432x288 with 1 Axes>"
            ]
          },
          "metadata": {
            "tags": [],
            "needs_background": "light"
          }
        }
      ]
    },
    {
      "cell_type": "code",
      "metadata": {
        "colab": {
          "base_uri": "https://localhost:8080/"
        },
        "id": "A6Qv7hFyejjk",
        "outputId": "0fd1fe4e-2758-4082-f240-53d8e32d1e18"
      },
      "source": [
        "# evaluate the model\n",
        "train_loss, train_acc = Transfer_model.evaluate(train_images, train_labels, verbose=0)\n",
        "test_loss, test_acc = Transfer_model.evaluate(validate_images, validate_labels, verbose=0)\n",
        "print('Accuracy: Train: %.3f, Test: %.3f' % (train_acc, test_acc))\n",
        "print('Loss: Train: %.3f, Test: %.3f' % (train_loss, test_loss))\n",
        "print(\"Elapsed time \", End_time_B2 - Start_time_B2 + End_time_B1 - Start_time_B1 , \" Sec\")"
      ],
      "execution_count": null,
      "outputs": [
        {
          "output_type": "stream",
          "text": [
            "Accuracy: Train: 1.000, Test: 0.972\n",
            "Loss: Train: 0.000, Test: 0.148\n",
            "Elapsed time  283.1667160987854  Sec\n"
          ],
          "name": "stdout"
        }
      ]
    },
    {
      "cell_type": "markdown",
      "metadata": {
        "id": "YTgY9lX-cf_D"
      },
      "source": [
        "#Q2.b (Transfer Learning Conclusion)\n",
        "\n",
        "> By using tranfer learning it consume much more time compared to CNN but have better Test accuracy and lower Loss"
      ]
    },
    {
      "cell_type": "markdown",
      "metadata": {
        "id": "z8YWQFo4iD0l"
      },
      "source": [
        "\n",
        "\n",
        "---\n",
        "\n"
      ]
    },
    {
      "cell_type": "markdown",
      "metadata": {
        "id": "BkxSr1xAiGbs"
      },
      "source": [
        "#Q2.c (feature extraction)\n",
        "* Use a pre-trained deep model of your choice as a feature extractor for the COREL data.\n",
        "*  Then, train a random forest using the extracted features.\n",
        "* Then test on the COREL test data."
      ]
    },
    {
      "cell_type": "code",
      "metadata": {
        "colab": {
          "base_uri": "https://localhost:8080/"
        },
        "id": "V-UYbY5Aiw1D",
        "outputId": "e8f74cbf-977a-4412-92ed-f2ec814080d4"
      },
      "source": [
        "from tensorflow.keras.applications.inception_v3  import InceptionV3\n",
        "dim = train_images.shape\n",
        "print(dim)\n",
        "model_InceptionV3 = InceptionV3(weights='imagenet',include_top=False,input_shape= (dim[1],dim[2],dim[3]),pooling= 'max')\n",
        "model_InceptionV3.trainable = False #freeze the model"
      ],
      "execution_count": null,
      "outputs": [
        {
          "output_type": "stream",
          "text": [
            "(500, 256, 256, 3)\n"
          ],
          "name": "stdout"
        }
      ]
    },
    {
      "cell_type": "code",
      "metadata": {
        "colab": {
          "base_uri": "https://localhost:8080/"
        },
        "id": "1UM6tLChpn2p",
        "outputId": "ee7126b1-9878-4dce-b8a8-527ebf578119"
      },
      "source": [
        "import tensorflow as tf\n",
        "start_time_Q2c = time.time()\n",
        "#x_train_InceptionV3 = tf.keras.applications.inception_v3.preprocess_input(train_images)\n",
        "#x_test_InceptionV3 = tf.keras.applications.inception_v3.preprocess_input(validate_images)\n",
        "TrainFeaturesArr_InceptionV3 = model_InceptionV3.predict(train_images)\n",
        "ValidateFeaturesArr_InceptionV3 = model_InceptionV3.predict(validate_images)\n",
        "print(TrainFeaturesArr_InceptionV3.shape,ValidateFeaturesArr_InceptionV3.shape)"
      ],
      "execution_count": null,
      "outputs": [
        {
          "output_type": "stream",
          "text": [
            "(500, 2048) (500, 2048)\n"
          ],
          "name": "stdout"
        }
      ]
    },
    {
      "cell_type": "markdown",
      "metadata": {
        "id": "wd7esuBgpZHk"
      },
      "source": [
        "Random Forest"
      ]
    },
    {
      "cell_type": "code",
      "metadata": {
        "id": "7P5Z8pNsi8Dc"
      },
      "source": [
        "from sklearn.ensemble import RandomForestClassifier\n",
        "\n",
        "RadomForestFeature  = RandomForestClassifier(max_depth = 20, criterion= 'gini', n_estimators = 100, min_samples_split = 2)\n",
        "RadomForestFeature.fit(TrainFeaturesArr_InceptionV3,train_labels)\n",
        "ValidateLabelPredicted = RadomForestFeature.predict(ValidateFeaturesArr_InceptionV3)\n",
        "TrainLabelPredicted = RadomForestFeature.predict(TrainFeaturesArr_InceptionV3)\n",
        "end_time_Q2c = time.time()"
      ],
      "execution_count": null,
      "outputs": []
    },
    {
      "cell_type": "markdown",
      "metadata": {
        "id": "Br-prEtjq_n0"
      },
      "source": [
        "test on the COREL test data."
      ]
    },
    {
      "cell_type": "code",
      "metadata": {
        "colab": {
          "base_uri": "https://localhost:8080/"
        },
        "id": "RFMPopmVrAzx",
        "outputId": "c3efe233-31d5-40ef-e56d-dd122ca29942"
      },
      "source": [
        "from sklearn.metrics import accuracy_score\n",
        "from sklearn.metrics import f1_score\n",
        "print('Accuracy for Random Forest')\n",
        "print('Train Validate Accuracy score: ',accuracy_score(TrainLabelPredicted, train_labels))\n",
        "print('Validate Validate Accuracy score: ',accuracy_score(ValidateLabelPredicted, validate_labels))\n",
        "print('Validate F1 Score: ',f1_score(ValidateLabelPredicted, validate_labels, average=\"macro\"))\n",
        "print(\"Elapsed time \", end_time_Q2c - start_time_Q2c, \" Sec\")"
      ],
      "execution_count": null,
      "outputs": [
        {
          "output_type": "stream",
          "text": [
            "Accuracy for Random Forest\n",
            "Train Validate Accuracy score:  1.0\n",
            "Validate Validate Accuracy score:  0.63\n",
            "Validate F1 Score:  0.7223603025665244\n",
            "Elapsed time  5.665787696838379  Sec\n"
          ],
          "name": "stdout"
        }
      ]
    },
    {
      "cell_type": "markdown",
      "metadata": {
        "id": "dQdi3Nt1vFau"
      },
      "source": [
        "#Q2.c (Feaure extraction Conclusion)\n",
        "Random Forest after feature extraction using InceptionV3 have a lower accuracy than that of Tranfer learning and CNN but it has best training time. around 6 seconds on Google Colab. "
      ]
    },
    {
      "cell_type": "markdown",
      "metadata": {
        "id": "V8EpR-FjwJ5f"
      },
      "source": [
        "#Q2 (Comparison)\n",
        "1. CNN:\n",
        " * moderate accuracy.\n",
        " * moderate training time\n",
        "\n",
        "2. Transfer Learning: \n",
        " *  ***Best Accuracy ***\n",
        " * worest training time\n",
        "3. Feature Extraction then Random Forest\n",
        " * Worest accuracy\n",
        " * ***Best training time***\n",
        "\n",
        "We could use Feature extraction then use other header to get better accuracy to get both best accuracy and best training time.\n",
        "\n",
        "\n"
      ]
    },
    {
      "cell_type": "markdown",
      "metadata": {
        "id": "OQ5GffBx49YU"
      },
      "source": [
        " # Q2 (Bounus Method)\n",
        " > Use Feature extraction using InceptionV3 then apply KNN"
      ]
    },
    {
      "cell_type": "code",
      "metadata": {
        "colab": {
          "base_uri": "https://localhost:8080/"
        },
        "id": "pUbwiT625LBP",
        "outputId": "5de5335d-93bf-4e46-d30d-4c7433cfaa5e"
      },
      "source": [
        "from tensorflow.keras.applications.inception_v3  import InceptionV3\n",
        "dim = train_images.shape\n",
        "print(dim)\n",
        "model_InceptionV3 = InceptionV3(weights='imagenet',include_top=False,input_shape= (dim[1],dim[2],dim[3]),pooling= 'max')\n",
        "model_InceptionV3.trainable = False #freeze the model"
      ],
      "execution_count": null,
      "outputs": [
        {
          "output_type": "stream",
          "text": [
            "(500, 256, 256, 3)\n",
            "Downloading data from https://storage.googleapis.com/tensorflow/keras-applications/vgg16/vgg16_weights_tf_dim_ordering_tf_kernels_notop.h5\n",
            "58892288/58889256 [==============================] - 1s 0us/step\n"
          ],
          "name": "stdout"
        }
      ]
    },
    {
      "cell_type": "code",
      "metadata": {
        "colab": {
          "base_uri": "https://localhost:8080/"
        },
        "id": "zxRF-a-b5osv",
        "outputId": "46d7526e-cb1a-4e0e-c065-68e2c23a80d8"
      },
      "source": [
        "start_time_Q2_Bounus = time.time()\n",
        "TrainFeaturesArr_InceptionV3 = model_InceptionV3.predict(train_images)\n",
        "ValidateFeaturesArr_InceptionV3 = model_InceptionV3.predict(validate_images)\n",
        "print(TrainFeaturesArr_InceptionV3.shape,ValidateFeaturesArr_InceptionV3.shape)"
      ],
      "execution_count": null,
      "outputs": [
        {
          "output_type": "stream",
          "text": [
            "(500, 2048) (500, 2048)\n"
          ],
          "name": "stdout"
        }
      ]
    },
    {
      "cell_type": "code",
      "metadata": {
        "id": "keZgQZyB5ZiY"
      },
      "source": [
        "from sklearn.neighbors import KNeighborsClassifier\n",
        "KNN_InceptionV3  \t= KNeighborsClassifier(n_neighbors = 3, p = 1)\n",
        "KNN_InceptionV3.fit(TrainFeaturesArr_InceptionV3,train_labels)\n",
        "ValidateLabelPredicted = KNN_InceptionV3.predict(ValidateFeaturesArr_InceptionV3)\n",
        "TrainLabelPredicted = KNN_InceptionV3.predict(TrainFeaturesArr_InceptionV3)\n",
        "end_time_Q2_Bounus = time.time()"
      ],
      "execution_count": null,
      "outputs": []
    },
    {
      "cell_type": "code",
      "metadata": {
        "colab": {
          "base_uri": "https://localhost:8080/"
        },
        "id": "p7mJsdBa6EQt",
        "outputId": "b2d65133-94d2-4feb-ca9f-b6f65cff0645"
      },
      "source": [
        "from sklearn.metrics import accuracy_score\n",
        "from sklearn.metrics import f1_score\n",
        "print('Accuracy for Random Forest')\n",
        "print('Train Validate Accuracy score: ',accuracy_score(TrainLabelPredicted, train_labels))\n",
        "print('Validate Validate Accuracy score: ',accuracy_score(ValidateLabelPredicted, validate_labels))\n",
        "print('Validate F1 Score: ',f1_score(ValidateLabelPredicted, validate_labels, average=\"macro\"))\n",
        "print(\"Elapsed time \", end_time_Q2_Bounus - start_time_Q2_Bounus, \" Sec\")"
      ],
      "execution_count": null,
      "outputs": [
        {
          "output_type": "stream",
          "text": [
            "Accuracy for Random Forest\n",
            "Train Validate Accuracy score:  0.974\n",
            "Validate Validate Accuracy score:  0.948\n",
            "Validate F1 Score:  0.9505008196198619\n",
            "Elapsed time  4.969725131988525  Sec\n"
          ],
          "name": "stdout"
        }
      ]
    },
    {
      "cell_type": "markdown",
      "metadata": {
        "id": "2Ph7O2p57neD"
      },
      "source": [
        "# Q2 Bounus Conclusion\n",
        "By Using InceptionV3 as feature extractor and apply KNN\n",
        "* we get best training time (5 sec) better than Random Forest \n",
        "\n",
        "* we get a best accuracy (0.948) equivlent to Transfer learning method"
      ]
    }
  ]
}