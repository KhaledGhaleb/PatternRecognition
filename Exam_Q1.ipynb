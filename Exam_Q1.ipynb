{
  "nbformat": 4,
  "nbformat_minor": 0,
  "metadata": {
    "colab": {
      "name": "Q1.ipynb",
      "provenance": [],
      "collapsed_sections": [],
      "authorship_tag": "ABX9TyOsuz9uvRLFYgVMs4P4IIIW",
      "include_colab_link": true
    },
    "kernelspec": {
      "name": "python3",
      "display_name": "Python 3"
    },
    "language_info": {
      "name": "python"
    }
  },
  "cells": [
    {
      "cell_type": "markdown",
      "metadata": {
        "id": "view-in-github",
        "colab_type": "text"
      },
      "source": [
        "<a href=\"https://colab.research.google.com/github/KhaledGhaleb/PatternRecognition/blob/main/Exam_Q1.ipynb\" target=\"_parent\"><img src=\"https://colab.research.google.com/assets/colab-badge.svg\" alt=\"Open In Colab\"/></a>"
      ]
    },
    {
      "cell_type": "markdown",
      "metadata": {
        "id": "x91X3ERNi8Lx"
      },
      "source": [
        "#Question 1"
      ]
    },
    {
      "cell_type": "markdown",
      "metadata": {
        "id": "LrIsK0fqkN63"
      },
      "source": [
        "```\n",
        "Databases Given:\n",
        "\n",
        "A- Grimace-Faces database. Contains 18 persons, each has 20 images. Use first 15 for training and remaining 5 for testing.\n",
        "```"
      ]
    },
    {
      "cell_type": "markdown",
      "metadata": {
        "id": "zjGwJW5yk1l3"
      },
      "source": [
        "First Git Grimace Faces zip from GitHub public repo, and and zip "
      ]
    },
    {
      "cell_type": "code",
      "metadata": {
        "colab": {
          "base_uri": "https://localhost:8080/"
        },
        "id": "pIojlrTEmZfx",
        "outputId": "a43431d6-e03c-4d4c-bc24-fa7f893c7218"
      },
      "source": [
        "import requests, zipfile, os, io, time\n",
        "zip_file_url = 'https://raw.githubusercontent.com/KhaledGhaleb/CorelDataSet/cf67f850902629e8f8c312bc796306af9dab326a/grimace.zip'\n",
        "r = requests.get(zip_file_url, stream=True)\n",
        "z = zipfile.ZipFile(io.BytesIO(r.content))\n",
        "path_to_dir =  os.getcwd();\n",
        "z.extractall(path_to_dir)\n",
        "PATH = os.path.join(path_to_dir, 'grimace')\n",
        "print(PATH)"
      ],
      "execution_count": null,
      "outputs": [
        {
          "output_type": "stream",
          "text": [
            "/content/grimace\n"
          ],
          "name": "stdout"
        }
      ]
    },
    {
      "cell_type": "markdown",
      "metadata": {
        "id": "VM0dctyjlJDI"
      },
      "source": [
        "Remove unwanted files \"Thumbs.db\""
      ]
    },
    {
      "cell_type": "code",
      "metadata": {
        "colab": {
          "base_uri": "https://localhost:8080/"
        },
        "id": "RvivUcX_hZ9H",
        "outputId": "3f035716-31a2-42e6-e737-69c31d50da40"
      },
      "source": [
        "#remove Thumb.db files\n",
        "import glob\n",
        "files=glob.glob(PATH + '*/*/*.db', recursive=True)\n",
        "print(files)\n",
        "for filename in files:\n",
        "    try:\n",
        "      os.remove(filename)\n",
        "    except:\n",
        "      print(\"Error while deleting file \")"
      ],
      "execution_count": null,
      "outputs": [
        {
          "output_type": "stream",
          "text": [
            "['/content/grimace/ste/Thumbs.db', '/content/grimace/mike/Thumbs.db', '/content/grimace/and/Thumbs.db', '/content/grimace/john/Thumbs.db', '/content/grimace/dah/Thumbs.db']\n"
          ],
          "name": "stdout"
        }
      ]
    },
    {
      "cell_type": "markdown",
      "metadata": {
        "id": "tRNSW81klQYw"
      },
      "source": [
        "Load Dir\n",
        "Split Images to Train and Test"
      ]
    },
    {
      "cell_type": "code",
      "metadata": {
        "colab": {
          "base_uri": "https://localhost:8080/"
        },
        "id": "PKvnYxKGUXQA",
        "outputId": "5f199ae3-b3c0-462a-9838-2036985a1c8a"
      },
      "source": [
        "from sklearn.datasets import load_files\n",
        "from sklearn.model_selection import train_test_split\n",
        "import numpy as np\n",
        "import matplotlib.pyplot as plt\n",
        "#import skimage\n",
        "#import cv2\n",
        "import matplotlib.image as mpimg\n",
        "\n",
        "  \n",
        "\n",
        "grimace_data= load_files(PATH)\n",
        "print('Number of Images',len(grimace_data.target),', Number of Categories',len(grimace_data.target_names))\n",
        "x_train,x_test,y_train,y_test=train_test_split(grimace_data.filenames,grimace_data.target,test_size=0.25)\n",
        "print('Number of Train Images',len(x_train),', Number of Test Images',len(x_test))\n",
        "\n",
        "x_train_data = []\n",
        "for filename in x_train:\n",
        "  img = mpimg.imread(filename)\n",
        "  x_train_data.append(img)\n",
        "x_train_data = np.array(x_train_data)\n",
        "\n",
        "x_test_data = []\n",
        "for filename in x_test:\n",
        "  img = mpimg.imread(filename)\n",
        "  x_test_data.append(img)\n",
        "x_test_data = np.array(x_test_data)\n",
        "print(x_test_data.shape)"
      ],
      "execution_count": null,
      "outputs": [
        {
          "output_type": "stream",
          "text": [
            "Number of Images 360 , Number of Categories 18\n",
            "Number of Train Images 270 , Number of Test Images 90\n",
            "(90, 200, 180, 3)\n"
          ],
          "name": "stdout"
        }
      ]
    },
    {
      "cell_type": "markdown",
      "metadata": {
        "id": "AbI78FmwA5rK"
      },
      "source": [
        "\n",
        "\n",
        "---\n",
        "\n"
      ]
    },
    {
      "cell_type": "markdown",
      "metadata": {
        "id": "iuo0JMZ-kfeQ"
      },
      "source": [
        "#Q1-a \n",
        "```\n",
        "1- For database-A: (20 marks)\n",
        "(a)\n",
        "(i) Extract indexed-color histogram features for each image using a LUT of your design with feature vector length of 128. Measure its effectiveness using KNN classifier with K=5.\n",
        "(ii) Extract DCT2 feature vector for each image of length 144, Measure its effectiveness using KNN classifier with K=5.\n",
        "(iii) Extract BoW-SIFT for each image (For the SIFT BoW, create a dictionary of size 128 from the training interest points data and produce BoW feature vector for each image in the training and test sets). Measure its effectiveness using KNN classifier with K=5.\n",
        "(iv) Combine the features above (concatenate), then use PCA with 25 components and measure the effectiveness using KNN with K = 5. Discuss the results.\n",
        "(v) Extract 2 deep feature vectors for each image using 2 pre-trained deep neural networks (e.g. AlexNet, GoogleNet, Vgg16, ResNet50, etc.). Explain any pre-processing you need to do to extract the features. measure the effectiveness using KNN with K = 5. Discuss the results.\n",
        "```"
      ]
    },
    {
      "cell_type": "markdown",
      "metadata": {
        "id": "b-K6jf2upcdl"
      },
      "source": [
        "#Q1-a-i (indexed-color histogram)"
      ]
    },
    {
      "cell_type": "markdown",
      "metadata": {
        "id": "5ogWDlDywWP1"
      },
      "source": [
        "Prepare LUT using Kmean clustering with 128 cluster"
      ]
    },
    {
      "cell_type": "code",
      "metadata": {
        "colab": {
          "base_uri": "https://localhost:8080/"
        },
        "id": "kB9sWSv3wTOx",
        "outputId": "6829f608-5bdf-4269-84fb-671b5ff85b3d"
      },
      "source": [
        "start_time_a_i = time.time()\n",
        "#from sklearn.cluster import KMeans\n",
        "from sklearn.cluster import MiniBatchKMeans\n",
        "NumClusters = 128 #Number of color clusters\n",
        "kmeans = MiniBatchKMeans(NumClusters)\n",
        "#kmeans = KMeans(n_clusters= NumClusters)\n",
        "\n",
        "Dims = x_train_data.shape\n",
        "print(Dims)\n",
        "#data = china / 255.0 # use 0...1 scale\n",
        "ColorIdx_train_data = x_train_data.reshape(Dims[0]*Dims[1]*Dims[2], Dims[3])\n",
        "print(ColorIdx_train_data.shape)\n",
        "kmeans.fit(ColorIdx_train_data)"
      ],
      "execution_count": null,
      "outputs": [
        {
          "output_type": "stream",
          "text": [
            "(270, 200, 180, 3)\n",
            "(9720000, 3)\n"
          ],
          "name": "stdout"
        },
        {
          "output_type": "execute_result",
          "data": {
            "text/plain": [
              "MiniBatchKMeans(batch_size=100, compute_labels=True, init='k-means++',\n",
              "                init_size=None, max_iter=100, max_no_improvement=10,\n",
              "                n_clusters=128, n_init=3, random_state=None,\n",
              "                reassignment_ratio=0.01, tol=0.0, verbose=0)"
            ]
          },
          "metadata": {
            "tags": []
          },
          "execution_count": 5
        }
      ]
    },
    {
      "cell_type": "markdown",
      "metadata": {
        "id": "kTFYSOYHYPXW"
      },
      "source": [
        "Predict new  indexed train dataset after K-Mean LUT "
      ]
    },
    {
      "cell_type": "code",
      "metadata": {
        "colab": {
          "base_uri": "https://localhost:8080/"
        },
        "id": "3HXMY1ILeukh",
        "outputId": "e767882d-89c4-4170-c177-8305767b0f29"
      },
      "source": [
        "print(\"Size of Kmaen Custer array is \",kmeans.cluster_centers_.shape)\n",
        "ColorIdx_Train_Predicted = kmeans.predict(ColorIdx_train_data)\n",
        "print(ColorIdx_Train_Predicted.shape)\n",
        "ColorIdx_Train_Predicted = ColorIdx_Train_Predicted.reshape(Dims[0],Dims[1]*Dims[2])"
      ],
      "execution_count": null,
      "outputs": [
        {
          "output_type": "stream",
          "text": [
            "Size of Kmaen Custer array is  (128, 3)\n",
            "(9720000,)\n"
          ],
          "name": "stdout"
        }
      ]
    },
    {
      "cell_type": "markdown",
      "metadata": {
        "id": "ZmE_hiwwY1iu"
      },
      "source": [
        "Show the first train image after converting index value to RGB using the LUT ( kmeans.cluster_centers)"
      ]
    },
    {
      "cell_type": "code",
      "metadata": {
        "colab": {
          "base_uri": "https://localhost:8080/",
          "height": 251
        },
        "id": "dPl1ogSVrdFm",
        "outputId": "0bc04209-9cde-4f90-e089-8da3e72def89"
      },
      "source": [
        "\n",
        "new_colors = kmeans.cluster_centers_[ColorIdx_Train_Predicted[0,:]]/255.0\n",
        "print(new_colors.shape)\n",
        "\n",
        "fig, ax = plt.subplots(1, 2, subplot_kw=dict(xticks=[], yticks=[]))\n",
        "fig.subplots_adjust(wspace=0.05)\n",
        "ax[0].imshow(x_train_data[0])\n",
        "ax[0].set_title('Original Image', size=16)\n",
        "ax[1].imshow(new_colors.reshape(Dims[1],Dims[2],Dims[3]))\n",
        "ax[1].set_title( '128-color Indexed Image', size=16);"
      ],
      "execution_count": null,
      "outputs": [
        {
          "output_type": "stream",
          "text": [
            "(36000, 3)\n"
          ],
          "name": "stdout"
        },
        {
          "output_type": "display_data",
          "data": {
            "image/png": "[encoded data removed]",
            "text/plain": [
              "<Figure size 432x288 with 2 Axes>"
            ]
          },
          "metadata": {
            "tags": []
          }
        }
      ]
    },
    {
      "cell_type": "markdown",
      "metadata": {
        "id": "-N_Oo2RavdWH"
      },
      "source": [
        "Get the Histogram features of Train Indexed Color with bins = 128 and range from 0 to 127 "
      ]
    },
    {
      "cell_type": "code",
      "metadata": {
        "colab": {
          "base_uri": "https://localhost:8080/"
        },
        "id": "GXSsV_iBvf2h",
        "outputId": "436326e3-dfd4-4afa-cc91-def63e946c59"
      },
      "source": [
        "print(ColorIdx_Train_Predicted.shape)\n",
        "ColorIdx_Train_Features = []\n",
        "for colorIndx in ColorIdx_Train_Predicted:\n",
        "  Train_F,_ = np.histogram( colorIndx,bins=128, range=(0, 127)   )\n",
        "  #Train_F = np.bincount(colorIndx)\n",
        "  ColorIdx_Train_Features.append(Train_F)\n",
        "ColorIdx_Train_Features = np.array(ColorIdx_Train_Features)\n",
        "print(ColorIdx_Train_Features.shape)\n"
      ],
      "execution_count": null,
      "outputs": [
        {
          "output_type": "stream",
          "text": [
            "(270, 36000)\n",
            "(270, 128)\n"
          ],
          "name": "stdout"
        }
      ]
    },
    {
      "cell_type": "markdown",
      "metadata": {
        "id": "arT3bEAdxfDZ"
      },
      "source": [
        "Predict and get histogram for Test Data"
      ]
    },
    {
      "cell_type": "code",
      "metadata": {
        "colab": {
          "base_uri": "https://localhost:8080/"
        },
        "id": "yFrDzUi3xZNK",
        "outputId": "d5b82f90-22fb-44d7-db7b-7b92012fc9ce"
      },
      "source": [
        "\n",
        "print(x_test_data.shape)\n",
        "Dims = x_test_data.shape\n",
        "#data = china / 255.0 # use 0...1 scale\n",
        "ColorIdx_test_data = x_test_data.reshape(Dims[0]*Dims[1]*Dims[2], Dims[3])\n",
        "print(ColorIdx_test_data.shape)\n",
        "\n",
        "ColorIdx_Test_Predicted = kmeans.predict(ColorIdx_test_data)\n",
        "ColorIdx_Test_Predicted = ColorIdx_Test_Predicted.reshape(Dims[0],Dims[1]*Dims[2])\n",
        "print(ColorIdx_Test_Predicted.shape)\n",
        "ColorIdx_Test_Features = []\n",
        "for colorIndx in ColorIdx_Test_Predicted:\n",
        "  Train_F,_ = np.histogram( colorIndx,bins=128, range=(0, 127)   )\n",
        "  #Train_F = np.bincount(colorIndx)\n",
        "  ColorIdx_Test_Features.append(Train_F)\n",
        "ColorIdx_Test_Features = np.array(ColorIdx_Test_Features)\n",
        "print(ColorIdx_Test_Features.shape)"
      ],
      "execution_count": null,
      "outputs": [
        {
          "output_type": "stream",
          "text": [
            "(90, 200, 180, 3)\n",
            "(3240000, 3)\n",
            "(90, 36000)\n",
            "(90, 128)\n"
          ],
          "name": "stdout"
        }
      ]
    },
    {
      "cell_type": "markdown",
      "metadata": {
        "id": "T0sqrdGwc4kM"
      },
      "source": [
        "Add KNN layer with K = 5 and P = 1 "
      ]
    },
    {
      "cell_type": "code",
      "metadata": {
        "id": "6tWTwBCUbIcy"
      },
      "source": [
        "from sklearn import neighbors\n",
        "knn_color_indexed = neighbors.KNeighborsClassifier(n_neighbors = 5, p = 1)\n",
        "knn_color_indexed.fit(ColorIdx_Train_Features, y_train)\n",
        "ColorIdx_y_test_pred = knn_color_indexed.predict(ColorIdx_Test_Features)"
      ],
      "execution_count": null,
      "outputs": []
    },
    {
      "cell_type": "markdown",
      "metadata": {
        "id": "5gIaraC5Zaml"
      },
      "source": [
        "Find Accuracy score"
      ]
    },
    {
      "cell_type": "code",
      "metadata": {
        "colab": {
          "base_uri": "https://localhost:8080/"
        },
        "id": "KWfIZXZfbqzt",
        "outputId": "249add37-f12c-4504-fd4f-a06116d0d93c"
      },
      "source": [
        "from sklearn.metrics import accuracy_score\n",
        "from sklearn.metrics import f1_score\n",
        "print(ColorIdx_y_test_pred[1:10])\n",
        "print(y_test[1:10])\n",
        "print('Indexed Color Histogram Accuracy score: ',accuracy_score(ColorIdx_y_test_pred, y_test))\n",
        "print('Indexed Color Histogram  F1 Score: ',f1_score(ColorIdx_y_test_pred, y_test, average=\"macro\"))\n",
        "elapsed_time_a_i = time.time()-start_time_a_i\n",
        "print('Time elapsed: ', elapsed_time_a_i)"
      ],
      "execution_count": null,
      "outputs": [
        {
          "output_type": "stream",
          "text": [
            "[ 0 12  2  3 17  5  2 17  2]\n",
            "[ 0 12  2  3 17  5  2 17  2]\n",
            "Indexed Color Histogram Accuracy score:  1.0\n",
            "Indexed Color Histogram  F1 Score:  1.0\n",
            "Time elapsed:  304.29512882232666\n"
          ],
          "name": "stdout"
        }
      ]
    },
    {
      "cell_type": "markdown",
      "metadata": {
        "id": "rRl4i_nMd7a1"
      },
      "source": [
        "#Q1.a-ii (DCT2)"
      ]
    },
    {
      "cell_type": "markdown",
      "metadata": {
        "id": "PJwb9sBh2xw6"
      },
      "source": [
        "#Q1.a.ii (DCT2 rectange 8 * 6 * 3 = 144 With DC value)\n",
        "\n"
      ]
    },
    {
      "cell_type": "code",
      "metadata": {
        "colab": {
          "base_uri": "https://localhost:8080/"
        },
        "id": "AmC8y1733vQW",
        "outputId": "536a3ee6-2bc5-4f5f-d23c-ea8a765c1e1f"
      },
      "source": [
        "start_time_a_ii = time.time()\n",
        "from scipy.fftpack import  dct\n",
        "DCT2_TrainFeaturesArr = []\n",
        "for image in x_train_data:\n",
        "  DCT2_out = dct(image, 2) #DCT2 Features \n",
        "  DCT2_out = DCT2_out[:8,:6,:] \n",
        "  DCT2_out = DCT2_out.reshape((144))\n",
        "  DCT2_TrainFeaturesArr.append(DCT2_out)\n",
        "DCT2_TrainFeaturesArr = np.array(DCT2_TrainFeaturesArr)  \n",
        "print(DCT2_TrainFeaturesArr.shape)\n",
        "\n",
        "DCT2_ValidateFeaturesArr = []\n",
        "for image in x_test_data:\n",
        "  DCT2_out = dct(image, 2)\n",
        "  DCT2_out = DCT2_out[:8,:6] \n",
        "  DCT2_out = DCT2_out.reshape((144))\n",
        "  DCT2_ValidateFeaturesArr.append(DCT2_out)\n",
        "DCT2_ValidateFeaturesArr = np.array(DCT2_ValidateFeaturesArr)\n",
        "print(DCT2_ValidateFeaturesArr.shape)"
      ],
      "execution_count": null,
      "outputs": [
        {
          "output_type": "stream",
          "text": [
            "(270, 144)\n",
            "(90, 144)\n"
          ],
          "name": "stdout"
        }
      ]
    },
    {
      "cell_type": "markdown",
      "metadata": {
        "id": "ZQLUhjnJ3vRQ"
      },
      "source": [
        "Add KNN layer with K = 5 and P = 1 "
      ]
    },
    {
      "cell_type": "code",
      "metadata": {
        "id": "Du7JRbU23vRS"
      },
      "source": [
        "from sklearn import neighbors\n",
        "knn_DCT2 = neighbors.KNeighborsClassifier(n_neighbors = 5, p = 1)\n",
        "knn_DCT2.fit(DCT2_TrainFeaturesArr, y_train)\n",
        "y_pred_DCT2 = knn_DCT2.predict(DCT2_ValidateFeaturesArr)"
      ],
      "execution_count": null,
      "outputs": []
    },
    {
      "cell_type": "code",
      "metadata": {
        "colab": {
          "base_uri": "https://localhost:8080/"
        },
        "id": "8Mhp6GMM3vRU",
        "outputId": "7adc7939-55cf-4909-f417-67641b8489f1"
      },
      "source": [
        "from sklearn.metrics import accuracy_score\n",
        "from sklearn.metrics import f1_score\n",
        "print(y_pred_DCT2[1:10])\n",
        "print(y_test[1:10])\n",
        "print('DCT2 KNN Accuracy score: ',accuracy_score(y_pred_DCT2, y_test))\n",
        "print('DCT2 KNN F1 Score: ',f1_score(y_pred_DCT2, y_test, average=\"macro\"))\n",
        "elapsed_time_a_ii = time.time()-start_time_a_ii\n",
        "print('Time elapsed: ', elapsed_time_a_ii)"
      ],
      "execution_count": null,
      "outputs": [
        {
          "output_type": "stream",
          "text": [
            "[ 0 12  2  3 15  5  2  0  2]\n",
            "[ 0 12  2  3 17  5  2 17  2]\n",
            "DCT2 KNN Accuracy score:  0.8666666666666667\n",
            "DCT2 KNN F1 Score:  0.8539264828738513\n",
            "Time elapsed:  0.8852062225341797\n"
          ],
          "name": "stdout"
        }
      ]
    },
    {
      "cell_type": "markdown",
      "metadata": {
        "id": "rkZsUgi28Qwi"
      },
      "source": [
        "#Q1.a.ii (DCT2 Square ((7 * 7)-1) * 3 = 144 Without DC) \n",
        "> Get DCT2 Features then take square of 7 * 7 then remove first point of DC level. such that each RGB has 48 Feature * 3 = 144 Features"
      ]
    },
    {
      "cell_type": "code",
      "metadata": {
        "id": "Tu-WbDJg79QH",
        "colab": {
          "base_uri": "https://localhost:8080/"
        },
        "outputId": "37caed22-82b0-4178-9451-92dc15986d90"
      },
      "source": [
        "from scipy.fftpack import  dct\n",
        "DCT2_TrainFeaturesArr = []\n",
        "for image in x_train_data:\n",
        "  DCT2_out = dct(image, 2) #DCT2 Features \n",
        "  DCT2_out = DCT2_out[:7,:7,:]\n",
        "  DCT2_out = DCT2_out.reshape(49,3)\n",
        "  DCT2_out = DCT2_out[1:49,:] # remove DC (0)\n",
        "  DCT2_out = DCT2_out.reshape(144)\n",
        "  DCT2_TrainFeaturesArr.append(DCT2_out)\n",
        "DCT2_TrainFeaturesArr = np.array(DCT2_TrainFeaturesArr)  \n",
        "print(DCT2_TrainFeaturesArr.shape)\n",
        "\n",
        "DCT2_ValidateFeaturesArr = []\n",
        "for image in x_test_data:\n",
        "  DCT2_out = dct(image, 2) #DCT2 Features \n",
        "  DCT2_out = DCT2_out[:7,:7,:]\n",
        "  DCT2_out = DCT2_out.reshape(49,3)\n",
        "  DCT2_out = DCT2_out[1:49,:] # remove DC (0)\n",
        "  DCT2_out = DCT2_out.reshape(144)\n",
        "  DCT2_ValidateFeaturesArr.append(DCT2_out)\n",
        "DCT2_ValidateFeaturesArr = np.array(DCT2_ValidateFeaturesArr)\n",
        "print(DCT2_ValidateFeaturesArr.shape)"
      ],
      "execution_count": null,
      "outputs": [
        {
          "output_type": "stream",
          "text": [
            "(270, 144)\n",
            "(90, 144)\n"
          ],
          "name": "stdout"
        }
      ]
    },
    {
      "cell_type": "markdown",
      "metadata": {
        "id": "V3i29yFE_pTm"
      },
      "source": [
        "Add KNN layer with K = 5 and P = 1 "
      ]
    },
    {
      "cell_type": "code",
      "metadata": {
        "id": "xr45kj2G_pTr"
      },
      "source": [
        "from sklearn import neighbors\n",
        "knn_DCT2 = neighbors.KNeighborsClassifier(n_neighbors = 5, p = 1)\n",
        "knn_DCT2.fit(DCT2_TrainFeaturesArr, y_train)\n",
        "y_pred_DCT2 = knn_DCT2.predict(DCT2_ValidateFeaturesArr)"
      ],
      "execution_count": null,
      "outputs": []
    },
    {
      "cell_type": "code",
      "metadata": {
        "colab": {
          "base_uri": "https://localhost:8080/"
        },
        "id": "WZL5FDDf_pTu",
        "outputId": "06af0803-d841-490e-899e-c6fe594a2727"
      },
      "source": [
        "from sklearn.metrics import accuracy_score\n",
        "from sklearn.metrics import f1_score\n",
        "print(y_pred_DCT2[1:10])\n",
        "print(y_test[1:10])\n",
        "print('DCT2 KNN Accuracy score: ',accuracy_score(y_pred_DCT2, y_test))\n",
        "print('DCT2 KNN F1 Score: ',f1_score(y_pred_DCT2, y_test, average=\"macro\"))"
      ],
      "execution_count": null,
      "outputs": [
        {
          "output_type": "stream",
          "text": [
            "[ 0 12  2  3 15  5  2  0  2]\n",
            "[ 0 12  2  3 17  5  2 17  2]\n",
            "DCT2 KNN Accuracy score:  0.8777777777777778\n",
            "DCT2 KNN F1 Score:  0.8588647544787896\n"
          ],
          "name": "stdout"
        }
      ]
    },
    {
      "cell_type": "markdown",
      "metadata": {
        "id": "M_fX6Qzi4cSC"
      },
      "source": [
        "#Q1.a.ii DCT2 Conclusion\n",
        "> DCT2 Without DC point has a little better performance in accuracy"
      ]
    },
    {
      "cell_type": "markdown",
      "metadata": {
        "id": "4bQhUdDE7i-I"
      },
      "source": [
        "#Q1.a.iii (BoW-SIFT)"
      ]
    },
    {
      "cell_type": "markdown",
      "metadata": {
        "id": "w8KizGEJ0J1Z"
      },
      "source": [
        "SIFT is not avaliable in latest opencv libraray. Use openCV version 3.4.2.17 to get SIFT."
      ]
    },
    {
      "cell_type": "code",
      "metadata": {
        "colab": {
          "base_uri": "https://localhost:8080/"
        },
        "id": "BcyhBr-ybNQx",
        "outputId": "c2f05650-9149-418a-c096-e974f24ebec1"
      },
      "source": [
        "!pip install opencv-python==3.4.2.17\n",
        "!pip install opencv-contrib-python==3.4.2.17"
      ],
      "execution_count": null,
      "outputs": [
        {
          "output_type": "stream",
          "text": [
            "Collecting opencv-python==3.4.2.17\n",
            "\u001b[?25l  Downloading https://files.pythonhosted.org/packages/8f/8f/a5d2fa3a3309c4e4aa28eb989d81a95b57c63406b4d439758a1a0a810c77/opencv_python-3.4.2.17-cp37-cp37m-manylinux1_x86_64.whl (25.0MB)\n",
            "\u001b[K     |████████████████████████████████| 25.0MB 115kB/s \n",
            "\u001b[?25hRequirement already satisfied: numpy>=1.14.5 in /usr/local/lib/python3.7/dist-packages (from opencv-python==3.4.2.17) (1.19.5)\n",
            "\u001b[31mERROR: albumentations 0.1.12 has requirement imgaug<0.2.7,>=0.2.5, but you'll have imgaug 0.2.9 which is incompatible.\u001b[0m\n",
            "Installing collected packages: opencv-python\n",
            "  Found existing installation: opencv-python 4.1.2.30\n",
            "    Uninstalling opencv-python-4.1.2.30:\n",
            "      Successfully uninstalled opencv-python-4.1.2.30\n",
            "Successfully installed opencv-python-3.4.2.17\n",
            "Collecting opencv-contrib-python==3.4.2.17\n",
            "\u001b[?25l  Downloading https://files.pythonhosted.org/packages/12/32/8d32d40cd35e61c80cb112ef5e8dbdcfbb06124f36a765df98517a12e753/opencv_contrib_python-3.4.2.17-cp37-cp37m-manylinux1_x86_64.whl (30.6MB)\n",
            "\u001b[K     |████████████████████████████████| 30.6MB 103kB/s \n",
            "\u001b[?25hRequirement already satisfied: numpy>=1.14.5 in /usr/local/lib/python3.7/dist-packages (from opencv-contrib-python==3.4.2.17) (1.19.5)\n",
            "Installing collected packages: opencv-contrib-python\n",
            "  Found existing installation: opencv-contrib-python 4.1.2.30\n",
            "    Uninstalling opencv-contrib-python-4.1.2.30:\n",
            "      Successfully uninstalled opencv-contrib-python-4.1.2.30\n",
            "Successfully installed opencv-contrib-python-3.4.2.17\n"
          ],
          "name": "stdout"
        }
      ]
    },
    {
      "cell_type": "markdown",
      "metadata": {
        "id": "taXQ3mKbIZ0l"
      },
      "source": [
        "Get SIFT Descriptor for each image in gray scale"
      ]
    },
    {
      "cell_type": "code",
      "metadata": {
        "colab": {
          "base_uri": "https://localhost:8080/"
        },
        "id": "k1Rsm3M4UmbE",
        "outputId": "d5a8540c-9efb-42ba-90ba-fef5c26ac496"
      },
      "source": [
        "start_time_a_iii = time.time()\n",
        "import cv2\n",
        "from sklearn.cluster import KMeans\n",
        "#from sklearn.cluster import MiniBatchKMeans\n",
        "NumClusters = 8 #Number of cluster using sift per image for lowest IMG SIFT features\n",
        "#kmeans = MiniBatchKMeans(NumClusters)\n",
        "kmeans = KMeans(n_clusters= NumClusters)\n",
        "\n",
        "#BOW = cv2.BOWKMeansTrainer(dictionarySize) #Kmean with Dictionary size 128\n",
        "sift = cv2.xfeatures2d.SIFT_create()\n",
        "\n",
        "SIFT_Train_Features = []\n",
        "for filename in x_train: \n",
        "  image = cv2.imread(filename)\n",
        "  gray = cv2.cvtColor(image, cv2.COLOR_BGR2GRAY)\n",
        "  _, dsc= sift.detectAndCompute(gray, None)\n",
        "  #kmean to 20 only descritors\n",
        "  kmeans.fit(dsc)\n",
        "  SIFT_IMG_Feature = kmeans.cluster_centers_\n",
        "  SIFT_Train_Features.append(SIFT_IMG_Feature)\n",
        "SIFT_Train_Features = np.array(SIFT_Train_Features)\n",
        "print(SIFT_Train_Features.shape)\n",
        "#reshape the BOW_Features \n",
        "SIFT_Train_Features = SIFT_Train_Features.reshape(SIFT_Train_Features.shape[0]*SIFT_Train_Features.shape[1],SIFT_Train_Features.shape[2])\n",
        "print(SIFT_Train_Features.shape)"
      ],
      "execution_count": null,
      "outputs": [
        {
          "output_type": "stream",
          "text": [
            "(270, 8, 128)\n",
            "(2160, 128)\n"
          ],
          "name": "stdout"
        }
      ]
    },
    {
      "cell_type": "markdown",
      "metadata": {
        "id": "v4OkHA664LiN"
      },
      "source": [
        "Create Dictionary of 128 size by using K-maen cluters"
      ]
    },
    {
      "cell_type": "code",
      "metadata": {
        "colab": {
          "base_uri": "https://localhost:8080/"
        },
        "id": "GrG_B7wN33FP",
        "outputId": "4a69c66f-f2f1-401e-b82f-ef2739c12ede"
      },
      "source": [
        "dictionarySize = 128\n",
        "kmeans = KMeans(n_clusters= dictionarySize)\n",
        "kmeans.fit(SIFT_Train_Features)\n",
        "Dict = kmeans.cluster_centers_\n",
        "print(Dict.shape)\n"
      ],
      "execution_count": null,
      "outputs": [
        {
          "output_type": "stream",
          "text": [
            "(128, 128)\n"
          ],
          "name": "stdout"
        }
      ]
    },
    {
      "cell_type": "markdown",
      "metadata": {
        "id": "zRILE_vC5BE9"
      },
      "source": [
        "Create Histogram for each blob in image by getting best euclidean distance  from Dictionary"
      ]
    },
    {
      "cell_type": "code",
      "metadata": {
        "colab": {
          "base_uri": "https://localhost:8080/"
        },
        "id": "nvw9fGfnmIep",
        "outputId": "d6a52a6d-ed5e-4228-d142-defac7e97fc5"
      },
      "source": [
        "from scipy.spatial import distance\n",
        "#Histogram for taining  images SIFT\n",
        "BOW_Train_Features = []\n",
        "for filename in x_train: \n",
        "  image = cv2.imread(filename)\n",
        "  gray = cv2.cvtColor(image, cv2.COLOR_BGR2GRAY)\n",
        "  _, dsc= sift.detectAndCompute(gray, None)\n",
        "  #get histogram for each blob\n",
        "  Hist = np.zeros((dictionarySize,), dtype=int)\n",
        "  for i in range(dsc.shape[0]):\n",
        "    Dist_arr = []\n",
        "    for ii in range(Dict.shape[0]):\n",
        "      Dist = distance.euclidean(dsc[i],Dict[ii])\n",
        "      #print(Dist)\n",
        "      Dist_arr.append(Dist)\n",
        "    Dist_arr = np.array(Dist_arr)\n",
        "    #print(Dist_arr.shape)\n",
        "    min_indx = np.argmin(Dist_arr, axis=0)\n",
        "    Hist[min_indx] = Hist[min_indx] + 1\n",
        "  #print(Hist)\n",
        "  BOW_Train_Features.append(Hist)\n",
        "BOW_Train_Features = np.array(BOW_Train_Features)\n",
        "print(BOW_Train_Features.shape)\n"
      ],
      "execution_count": null,
      "outputs": [
        {
          "output_type": "stream",
          "text": [
            "(270, 128)\n"
          ],
          "name": "stdout"
        }
      ]
    },
    {
      "cell_type": "markdown",
      "metadata": {
        "id": "NyFDV48VDr-7"
      },
      "source": [
        "Test BOW Features"
      ]
    },
    {
      "cell_type": "code",
      "metadata": {
        "colab": {
          "base_uri": "https://localhost:8080/"
        },
        "id": "TJ064X9wDrim",
        "outputId": "dd3e4bda-87c1-4165-d69d-23a7d6839e2d"
      },
      "source": [
        "BOW_Test_Features = []\n",
        "for filename in x_test: \n",
        "  image = cv2.imread(filename)\n",
        "  gray = cv2.cvtColor(image, cv2.COLOR_BGR2GRAY)\n",
        "  _, dsc= sift.detectAndCompute(gray, None)\n",
        "  #get histogram for each blob\n",
        "  Hist = np.zeros((dictionarySize,), dtype=int)\n",
        "  for i in range(dsc.shape[0]):\n",
        "    Dist_arr = []\n",
        "    for ii in range(Dict.shape[0]):\n",
        "      Dist = distance.euclidean(dsc[i],Dict[ii])\n",
        "      #print(Dist)\n",
        "      Dist_arr.append(Dist)\n",
        "    Dist_arr = np.array(Dist_arr)\n",
        "    #print(Dist_arr.shape)\n",
        "    min_indx = np.argmin(Dist_arr, axis=0)\n",
        "    Hist[min_indx] = Hist[min_indx] + 1\n",
        "  #print(Hist)\n",
        "  BOW_Test_Features.append(Hist)\n",
        "BOW_Test_Features = np.array(BOW_Test_Features)\n",
        "print(BOW_Test_Features.shape)"
      ],
      "execution_count": null,
      "outputs": [
        {
          "output_type": "stream",
          "text": [
            "(90, 128)\n"
          ],
          "name": "stdout"
        }
      ]
    },
    {
      "cell_type": "markdown",
      "metadata": {
        "id": "rtVssGHdFBtP"
      },
      "source": [
        "Add KNN layer with K = 5 and P = 1 "
      ]
    },
    {
      "cell_type": "code",
      "metadata": {
        "id": "q9wNJlSuFBtd"
      },
      "source": [
        "from sklearn import neighbors\n",
        "knn_SIFT = neighbors.KNeighborsClassifier(n_neighbors = 5, p = 1)\n",
        "knn_SIFT.fit(BOW_Train_Features, y_train)\n",
        "y_pred_SIFT_BOW = knn_SIFT.predict(BOW_Test_Features)"
      ],
      "execution_count": null,
      "outputs": []
    },
    {
      "cell_type": "code",
      "metadata": {
        "colab": {
          "base_uri": "https://localhost:8080/"
        },
        "id": "25ftVdEvFBtg",
        "outputId": "c5c993b1-cc81-4498-a60a-01c56bb5bab6"
      },
      "source": [
        "from sklearn.metrics import accuracy_score\n",
        "from sklearn.metrics import f1_score\n",
        "print(y_pred_SIFT_BOW[1:10])\n",
        "print(y_test[1:10])\n",
        "print('SIFT BOW KNN Accuracy score: ',accuracy_score(y_pred_SIFT_BOW, y_test))\n",
        "print('SIFT BOW F1 Score: ',f1_score(y_pred_SIFT_BOW, y_test, average=\"macro\"))\n",
        "elapsed_time_a_iii = time.time()-start_time_a_iii\n",
        "print('Time elapsed: ', elapsed_time_a_iii)"
      ],
      "execution_count": null,
      "outputs": [
        {
          "output_type": "stream",
          "text": [
            "[ 0 12  2  3 17  5  2 17  2]\n",
            "[ 0 12  2  3 17  5  2 17  2]\n",
            "SIFT BOW KNN Accuracy score:  0.9777777777777777\n",
            "SIFT BOW F1 Score:  0.971604938271605\n",
            "Time elapsed:  48.390838623046875\n"
          ],
          "name": "stdout"
        }
      ]
    },
    {
      "cell_type": "markdown",
      "metadata": {
        "id": "Fhv7ABkTi0Hg"
      },
      "source": [
        "#Q1.a.iv (PCA)"
      ]
    },
    {
      "cell_type": "markdown",
      "metadata": {
        "id": "_KULPU__i7F_"
      },
      "source": [
        "concatenate Features"
      ]
    },
    {
      "cell_type": "code",
      "metadata": {
        "colab": {
          "base_uri": "https://localhost:8080/"
        },
        "id": "QvevM1AojAC1",
        "outputId": "d88851b1-7b9d-4ff1-f159-4942ddac07f6"
      },
      "source": [
        "start_time_a_iv = time.time()\n",
        "print(ColorIdx_Train_Features.shape,DCT2_TrainFeaturesArr.shape,BOW_Train_Features.shape)\n",
        "Concat_Train_Features = np.concatenate((ColorIdx_Train_Features,DCT2_TrainFeaturesArr,BOW_Train_Features),axis=1)\n",
        "Concat_Test_Features = np.concatenate((ColorIdx_Test_Features,DCT2_ValidateFeaturesArr,BOW_Test_Features),axis=1)\n",
        "print(Concat_Train_Features.shape,Concat_Test_Features.shape)"
      ],
      "execution_count": null,
      "outputs": [
        {
          "output_type": "stream",
          "text": [
            "(270, 128) (270, 144) (270, 128)\n",
            "(270, 400) (90, 400)\n"
          ],
          "name": "stdout"
        }
      ]
    },
    {
      "cell_type": "markdown",
      "metadata": {
        "id": "A4JoLeAOlE08"
      },
      "source": [
        "Get PCA with 25 component instead of 400 component"
      ]
    },
    {
      "cell_type": "code",
      "metadata": {
        "colab": {
          "base_uri": "https://localhost:8080/"
        },
        "id": "tiUb7EGAlL-y",
        "outputId": "0e1ff9ec-c4e0-4e32-b8fc-93a874d42ebc"
      },
      "source": [
        "from sklearn.decomposition import PCA\n",
        "pca_features= PCA(n_components=25)\n",
        "pca_features.fit(Concat_Train_Features)\n",
        "PCA_Train_Features = pca_features.transform(Concat_Train_Features)\n",
        "PCA_Test_Features = pca_features.transform(Concat_Test_Features)\n",
        "print(PCA_Train_Features.shape,PCA_Test_Features.shape)\n",
        "pca_features"
      ],
      "execution_count": null,
      "outputs": [
        {
          "output_type": "stream",
          "text": [
            "(270, 25) (90, 25)\n"
          ],
          "name": "stdout"
        },
        {
          "output_type": "execute_result",
          "data": {
            "text/plain": [
              "PCA(copy=True, iterated_power='auto', n_components=25, random_state=None,\n",
              "    svd_solver='auto', tol=0.0, whiten=False)"
            ]
          },
          "metadata": {
            "tags": []
          },
          "execution_count": 26
        }
      ]
    },
    {
      "cell_type": "markdown",
      "metadata": {
        "id": "00ea6gsZmdOv"
      },
      "source": [
        "Add KNN layer with K = 5 and P = 1 "
      ]
    },
    {
      "cell_type": "code",
      "metadata": {
        "id": "7rB66hC2mdO-"
      },
      "source": [
        "from sklearn import neighbors\n",
        "knn_PCA = neighbors.KNeighborsClassifier(n_neighbors = 5, p = 1)\n",
        "knn_PCA.fit(PCA_Train_Features, y_train)\n",
        "y_pred_PCA = knn_PCA.predict(PCA_Test_Features)"
      ],
      "execution_count": null,
      "outputs": []
    },
    {
      "cell_type": "code",
      "metadata": {
        "colab": {
          "base_uri": "https://localhost:8080/"
        },
        "id": "HghNjR1AmdO-",
        "outputId": "f9605cd4-d926-46e9-f9e1-fedcf9282daa"
      },
      "source": [
        "from sklearn.metrics import accuracy_score\n",
        "from sklearn.metrics import f1_score\n",
        "print(y_pred_PCA[1:10])\n",
        "print(y_test[1:10])\n",
        "print('PCA KNN Train Accuracy score: ',accuracy_score(knn_PCA.predict(PCA_Train_Features), y_train))\n",
        "print('PCA KNN Test Accuracy score: ',accuracy_score(y_pred_PCA, y_test))\n",
        "print('PCA KNN Test F1 Score: ',f1_score(y_pred_PCA, y_test, average=\"macro\"))\n",
        "elapsed_time_a_iv = time.time()-start_time_a_iv\n",
        "print('Time elapsed: ', elapsed_time_a_iv)"
      ],
      "execution_count": null,
      "outputs": [
        {
          "output_type": "stream",
          "text": [
            "[ 0 12  2  3 17  5  2 17  2]\n",
            "[ 0 12  2  3 17  5  2 17  2]\n",
            "PCA KNN Train Accuracy score:  1.0\n",
            "PCA KNN Test Accuracy score:  1.0\n",
            "PCA KNN Test F1 Score:  1.0\n",
            "Time elapsed:  0.19034910202026367\n"
          ],
          "name": "stdout"
        }
      ]
    },
    {
      "cell_type": "markdown",
      "metadata": {
        "id": "9b461jw0ovtp"
      },
      "source": [
        "#Q1.a.iv (PCA Normalize the features STD standard deviation)"
      ]
    },
    {
      "cell_type": "markdown",
      "metadata": {
        "id": "6pRP-Be3rpXF"
      },
      "source": [
        "Normalize STD"
      ]
    },
    {
      "cell_type": "code",
      "metadata": {
        "colab": {
          "base_uri": "https://localhost:8080/"
        },
        "id": "Xcf84SrqpaD8",
        "outputId": "4275412d-edb8-4aa3-896d-870c9121de46"
      },
      "source": [
        "from sklearn.preprocessing import StandardScaler\n",
        "Concat_Train_Features_Norm = StandardScaler().fit_transform(Concat_Train_Features) # normalizing the features\n",
        "Concat_Test_Features_Norm = StandardScaler().fit_transform(Concat_Test_Features) # normalizing the features\n",
        "print(np.mean(Concat_Train_Features),np.std(Concat_Train_Features))\n",
        "print(np.mean(Concat_Train_Features_Norm),np.std(Concat_Train_Features_Norm))\n",
        "print(Concat_Train_Features_Norm.shape,Concat_Test_Features_Norm.shape)"
      ],
      "execution_count": null,
      "outputs": [
        {
          "output_type": "stream",
          "text": [
            "186.82250635568667 392.3187027958569\n",
            "2.506636873375909e-17 0.9999999999999999\n",
            "(270, 400) (90, 400)\n"
          ],
          "name": "stdout"
        }
      ]
    },
    {
      "cell_type": "markdown",
      "metadata": {
        "id": "V1eOr1ErsSyr"
      },
      "source": [
        "Get PCA with 25 component instead of 400 component"
      ]
    },
    {
      "cell_type": "code",
      "metadata": {
        "colab": {
          "base_uri": "https://localhost:8080/"
        },
        "id": "Ib_a8YIzsSys",
        "outputId": "a8fc13cc-879f-49f3-952f-f70d612f8946"
      },
      "source": [
        "from sklearn.decomposition import PCA\n",
        "pca_features= PCA(n_components=25)\n",
        "pca_features.fit(Concat_Train_Features_Norm)\n",
        "PCA_Train_Features_Norm = pca_features.transform(Concat_Train_Features_Norm)\n",
        "PCA_Test_Features_Norm = pca_features.transform(Concat_Test_Features_Norm)\n",
        "print(PCA_Train_Features_Norm.shape,PCA_Test_Features_Norm.shape)\n",
        "pca_features"
      ],
      "execution_count": null,
      "outputs": [
        {
          "output_type": "stream",
          "text": [
            "(270, 25) (90, 25)\n"
          ],
          "name": "stdout"
        },
        {
          "output_type": "execute_result",
          "data": {
            "text/plain": [
              "PCA(copy=True, iterated_power='auto', n_components=25, random_state=None,\n",
              "    svd_solver='auto', tol=0.0, whiten=False)"
            ]
          },
          "metadata": {
            "tags": []
          },
          "execution_count": 30
        }
      ]
    },
    {
      "cell_type": "markdown",
      "metadata": {
        "id": "NTgjmEo_qEas"
      },
      "source": [
        "Add KNN layer with K = 5 and P = 1 "
      ]
    },
    {
      "cell_type": "code",
      "metadata": {
        "id": "I6WIBPp4qEav"
      },
      "source": [
        "from sklearn import neighbors\n",
        "knn_PCA = neighbors.KNeighborsClassifier(n_neighbors = 5, p = 1)\n",
        "knn_PCA.fit(PCA_Train_Features_Norm, y_train)\n",
        "y_pred_PCA = knn_PCA.predict(PCA_Test_Features_Norm)"
      ],
      "execution_count": null,
      "outputs": []
    },
    {
      "cell_type": "code",
      "metadata": {
        "colab": {
          "base_uri": "https://localhost:8080/"
        },
        "id": "xSijKEofqEaw",
        "outputId": "3f5c7f75-9b77-4f67-8ef0-f4b3b6ef8165"
      },
      "source": [
        "from sklearn.metrics import accuracy_score\n",
        "from sklearn.metrics import f1_score\n",
        "print(y_pred_PCA[1:10])\n",
        "print(y_test[1:10])\n",
        "print('PCA KNN Train Accuracy score: ',accuracy_score(knn_PCA.predict(PCA_Train_Features_Norm), y_train))\n",
        "print('PCA KNN Test Accuracy score: ',accuracy_score(y_pred_PCA, y_test))\n",
        "print('PCA KNN Test F1 Score: ',f1_score(y_pred_PCA, y_test, average=\"macro\"))"
      ],
      "execution_count": null,
      "outputs": [
        {
          "output_type": "stream",
          "text": [
            "[ 0 12  2  3 17  5  2  0  2]\n",
            "[ 0 12  2  3 17  5  2 17  2]\n",
            "PCA KNN Train Accuracy score:  0.9925925925925926\n",
            "PCA KNN Test Accuracy score:  0.9888888888888889\n",
            "PCA KNN Test F1 Score:  0.9876543209876544\n"
          ],
          "name": "stdout"
        }
      ]
    },
    {
      "cell_type": "markdown",
      "metadata": {
        "id": "5O5jsvj9zIiv"
      },
      "source": [
        "#Q1.a.v (2 pre-trained deep neural networks)"
      ]
    },
    {
      "cell_type": "markdown",
      "metadata": {
        "id": "4gYGY5hYzT72"
      },
      "source": [
        "#Q1.a.v.1 (VGG16)\n"
      ]
    },
    {
      "cell_type": "markdown",
      "metadata": {
        "id": "D6tQ4u3I5GZI"
      },
      "source": [
        "Get VGG16 model from Keras and adjust input shape to be the dimension of Grimace image. \n",
        "\n",
        "Add Max pool at the end of the model to get the 2 dimension array at the output"
      ]
    },
    {
      "cell_type": "code",
      "metadata": {
        "colab": {
          "base_uri": "https://localhost:8080/"
        },
        "id": "0q0SglX7zoe-",
        "outputId": "92de0f70-9558-491d-d6f9-e7dd5bfd5780"
      },
      "source": [
        "import tensorflow as tf\n",
        "from tensorflow.keras.applications.vgg16 import VGG16\n",
        "dim = x_train_data.shape\n",
        "print(dim)\n",
        "model_VGG16 = VGG16(weights='imagenet',include_top=False,input_shape= (dim[1],dim[2],dim[3]),pooling= 'max')\n",
        "#model_VGG16.summary()"
      ],
      "execution_count": null,
      "outputs": [
        {
          "output_type": "stream",
          "text": [
            "(270, 200, 180, 3)\n",
            "Downloading data from https://storage.googleapis.com/tensorflow/keras-applications/vgg16/vgg16_weights_tf_dim_ordering_tf_kernels_notop.h5\n",
            "58892288/58889256 [==============================] - 0s 0us/step\n"
          ],
          "name": "stdout"
        }
      ]
    },
    {
      "cell_type": "markdown",
      "metadata": {
        "id": "3PYj3qPb4Pix"
      },
      "source": [
        "Create Feautre Arrays"
      ]
    },
    {
      "cell_type": "markdown",
      "metadata": {
        "id": "wh3Y4P6s5mK0"
      },
      "source": [
        "Preprocess the data and  Predict the Train/Test Features using the above model"
      ]
    },
    {
      "cell_type": "code",
      "metadata": {
        "id": "1OLTMmLGXwXy",
        "colab": {
          "base_uri": "https://localhost:8080/"
        },
        "outputId": "07b26afe-7bd9-4d68-f620-d51b5cdee0a6"
      },
      "source": [
        "start_time_a_v_1 = time.time()\n",
        "x_train_Vgg16 = tf.keras.applications.vgg16.preprocess_input(x_train_data)\n",
        "x_test_Vgg16 = tf.keras.applications.vgg16.preprocess_input(x_test_data)\n",
        "TrainFeaturesArr_VGG16 = model_VGG16.predict(x_train_Vgg16)\n",
        "TestFeaturesArr_VGG16 = model_VGG16.predict(x_test_Vgg16)\n",
        "print(TrainFeaturesArr_VGG16.shape,TestFeaturesArr_VGG16.shape)"
      ],
      "execution_count": null,
      "outputs": [
        {
          "output_type": "stream",
          "text": [
            "(270, 512) (90, 512)\n"
          ],
          "name": "stdout"
        }
      ]
    },
    {
      "cell_type": "markdown",
      "metadata": {
        "id": "CJIPvinr0Skx"
      },
      "source": [
        "Add KNN layer with K = 5 and P = 1 "
      ]
    },
    {
      "cell_type": "code",
      "metadata": {
        "id": "unhwNFeF0Skx"
      },
      "source": [
        "from sklearn import neighbors\n",
        "knn_VGG16 = neighbors.KNeighborsClassifier(n_neighbors = 5, p = 1)\n",
        "knn_VGG16.fit(TrainFeaturesArr_VGG16, y_train)\n",
        "y_pred_VGG16 = knn_VGG16.predict(TestFeaturesArr_VGG16)"
      ],
      "execution_count": null,
      "outputs": []
    },
    {
      "cell_type": "code",
      "metadata": {
        "colab": {
          "base_uri": "https://localhost:8080/"
        },
        "id": "LUTei0-M0Sky",
        "outputId": "617d1306-2965-47ac-da1a-703840c53d6c"
      },
      "source": [
        "from sklearn.metrics import accuracy_score\n",
        "from sklearn.metrics import f1_score\n",
        "print('VGG16 Accuracy score: ',accuracy_score(y_pred_VGG16, y_test))\n",
        "print('VGG16 F1 Score: ',f1_score(y_pred_VGG16, y_test, average=\"macro\"))\n",
        "elapsed_time_a_v_1 = time.time()-start_time_a_v_1\n",
        "print('Time elapsed: ', elapsed_time_a_v_1)"
      ],
      "execution_count": null,
      "outputs": [
        {
          "output_type": "stream",
          "text": [
            "VGG16 Accuracy score:  1.0\n",
            "VGG16 F1 Score:  1.0\n",
            "Time elapsed:  124.16817283630371\n"
          ],
          "name": "stdout"
        }
      ]
    },
    {
      "cell_type": "markdown",
      "metadata": {
        "id": "ACpdsE_k5usY"
      },
      "source": [
        "#Q1.a.v.2 (InceptionV3) \"GoogleNet\""
      ]
    },
    {
      "cell_type": "markdown",
      "metadata": {
        "id": "mgI6xRil9KmD"
      },
      "source": [
        "Get InceptionV3 model from Keras and adjust input shape to be the dimension of Grimace image. \n",
        "\n",
        "Add Max pool at the end of the model to get the 2 dimension array at the output"
      ]
    },
    {
      "cell_type": "code",
      "metadata": {
        "colab": {
          "base_uri": "https://localhost:8080/"
        },
        "id": "WzhRQxWk9KmH",
        "outputId": "fdc498c1-68fa-4b42-87ce-cd5a24d9362f"
      },
      "source": [
        "from tensorflow.keras.applications.inception_v3  import InceptionV3\n",
        "dim = x_train_data.shape\n",
        "print(dim)\n",
        "model_InceptionV3 = InceptionV3(weights='imagenet',include_top=False,input_shape= (dim[1],dim[2],dim[3]),pooling= 'max')\n",
        "#model_InceptionV3.summary()"
      ],
      "execution_count": null,
      "outputs": [
        {
          "output_type": "stream",
          "text": [
            "(270, 200, 180, 3)\n",
            "Downloading data from https://storage.googleapis.com/tensorflow/keras-applications/inception_v3/inception_v3_weights_tf_dim_ordering_tf_kernels_notop.h5\n",
            "87916544/87910968 [==============================] - 1s 0us/step\n"
          ],
          "name": "stdout"
        }
      ]
    },
    {
      "cell_type": "markdown",
      "metadata": {
        "id": "ZbZSemwX9KmI"
      },
      "source": [
        "Create Feautre Arrays"
      ]
    },
    {
      "cell_type": "markdown",
      "metadata": {
        "id": "eixiMVuG9KmI"
      },
      "source": [
        "Preprocess the data and  Predict the Train/Test Features using the above model"
      ]
    },
    {
      "cell_type": "code",
      "metadata": {
        "colab": {
          "base_uri": "https://localhost:8080/"
        },
        "id": "WRCteD4W9KmJ",
        "outputId": "e9496f8c-c3a2-4b19-df96-f7ef0a1c45dc"
      },
      "source": [
        "start_time_a_v_2 = time.time()\n",
        "x_train_InceptionV3 = tf.keras.applications.inception_v3.preprocess_input(x_train_data)\n",
        "x_test_InceptionV3 = tf.keras.applications.inception_v3.preprocess_input(x_test_data)\n",
        "TrainFeaturesArr_InceptionV3 = model_InceptionV3.predict(x_train_InceptionV3)\n",
        "TestFeaturesArr_InceptionV3 = model_InceptionV3.predict(x_test_InceptionV3)\n",
        "print(TrainFeaturesArr_InceptionV3.shape,TestFeaturesArr_InceptionV3.shape)"
      ],
      "execution_count": null,
      "outputs": [
        {
          "output_type": "stream",
          "text": [
            "(270, 2048) (90, 2048)\n"
          ],
          "name": "stdout"
        }
      ]
    },
    {
      "cell_type": "markdown",
      "metadata": {
        "id": "Kk5pDokD9KmJ"
      },
      "source": [
        "Add KNN layer with K = 5 and P = 1 "
      ]
    },
    {
      "cell_type": "code",
      "metadata": {
        "id": "U3bizLRO9KmJ"
      },
      "source": [
        "from sklearn import neighbors\n",
        "knn_InceptionV3 = neighbors.KNeighborsClassifier(n_neighbors = 5, p = 1)\n",
        "knn_InceptionV3.fit(TrainFeaturesArr_InceptionV3, y_train)\n",
        "y_pred_InceptionV3 = knn_InceptionV3.predict(TestFeaturesArr_InceptionV3)"
      ],
      "execution_count": null,
      "outputs": []
    },
    {
      "cell_type": "code",
      "metadata": {
        "colab": {
          "base_uri": "https://localhost:8080/"
        },
        "id": "3wDXwi4b9KmK",
        "outputId": "b6c103a6-665c-4202-dac6-7a1495bd2aa2"
      },
      "source": [
        "from sklearn.metrics import accuracy_score\n",
        "from sklearn.metrics import f1_score\n",
        "print('InceptionV3 Test Accuracy score: ',accuracy_score(y_pred_InceptionV3, y_test))\n",
        "print('InceptionV3 Test F1 Score: ',f1_score(y_pred_InceptionV3, y_test, average=\"macro\"))\n",
        "elapsed_time_a_v_2 = time.time()-start_time_a_v_2\n",
        "print('Time elapsed: ', elapsed_time_a_v_2)"
      ],
      "execution_count": null,
      "outputs": [
        {
          "output_type": "stream",
          "text": [
            "InceptionV3 Test Accuracy score:  0.9888888888888889\n",
            "InceptionV3 Test F1 Score:  0.9887766554433222\n",
            "Time elapsed:  24.697778463363647\n"
          ],
          "name": "stdout"
        }
      ]
    },
    {
      "cell_type": "markdown",
      "metadata": {
        "id": "1wlaLjXzA0zj"
      },
      "source": [
        "\n",
        "\n",
        "---\n",
        "\n"
      ]
    },
    {
      "cell_type": "markdown",
      "metadata": {
        "id": "JuXl4gsYRZ3q"
      },
      "source": [
        "#Q1.b\n",
        "```\n",
        "Using the PCA-reduced features you calculated as well as the 2 deep feature vector extractions:\n",
        "Compare between the following classifiers: \n",
        "  (a) Shallow MLP \n",
        "  (b) SVM \n",
        "  (c) Bagging trees (random-forest) \n",
        "  (d) Logistic Regression and \n",
        "  (e) KNN\n",
        "for each of the 3 feature vectors types you have.\n",
        "\n",
        "Show the % recognition rate in each case (You have to run at least 3 experiments for each classifier with different configuration and justify your choices: \n",
        "So you need to have 9 experiments in total) Discuss the results and explain the advantages of the classifier/features that gave the best results). \n",
        "Would you suggest any other approach to obtain better results?\n",
        "```"
      ]
    },
    {
      "cell_type": "markdown",
      "metadata": {
        "id": "zSV0dJWDcRLh"
      },
      "source": [
        "#Q1.b.a (Shallow MLP)"
      ]
    },
    {
      "cell_type": "code",
      "metadata": {
        "colab": {
          "base_uri": "https://localhost:8080/"
        },
        "id": "Sfc1KHjAfwhs",
        "outputId": "821fa5dd-cc85-4d49-fe5f-eb5c8e021f77"
      },
      "source": [
        "print(PCA_Train_Features.shape,TrainFeaturesArr_VGG16.shape, TrainFeaturesArr_InceptionV3.shape)"
      ],
      "execution_count": null,
      "outputs": [
        {
          "output_type": "stream",
          "text": [
            "(270, 25) (270, 512) (270, 2048)\n"
          ],
          "name": "stdout"
        }
      ]
    },
    {
      "cell_type": "markdown",
      "metadata": {
        "id": "cCi0SPRIdTOf"
      },
      "source": [
        "Create a Shallow MLP with one hidden layer, with different configuration.\n",
        "> Using different activation function for hidden layer Relu or sigmoid, Apply momentum or not, change number of Neurons\n"
      ]
    },
    {
      "cell_type": "code",
      "metadata": {
        "id": "LF3App_zfOn8"
      },
      "source": [
        "from sklearn.neural_network import MLPClassifier\n",
        "\n",
        "Shallow_MLP_PCA_1 = MLPClassifier(hidden_layer_sizes=(20,), max_iter=200, solver = 'sgd', momentum= 0 , activation = 'relu',verbose = False)\n",
        "Shallow_MLP_PCA_2 = MLPClassifier(hidden_layer_sizes=(10,), max_iter=200, solver = 'sgd', momentum= 0 , activation = 'relu',verbose = False)\n",
        "Shallow_MLP_PCA_3 = MLPClassifier(hidden_layer_sizes=(10,), max_iter=200, solver = 'sgd', momentum= 0.1 , activation = 'relu',verbose = False)\n",
        "Shallow_MLP_PCA_4 = MLPClassifier(hidden_layer_sizes=(10,), max_iter=200, solver = 'sgd', momentum= 0 , activation = 'logistic',verbose = False) #sigmoid\n",
        "\n",
        "Shallow_MLP_VGG16_1 = MLPClassifier(hidden_layer_sizes=(100,), max_iter=200, solver = 'sgd', momentum= 0 , activation = 'relu',verbose = False)\n",
        "Shallow_MLP_VGG16_2 = MLPClassifier(hidden_layer_sizes=(200,), max_iter=200, solver = 'sgd', momentum= 0 , activation = 'relu',verbose = False)\n",
        "Shallow_MLP_VGG16_3 = MLPClassifier(hidden_layer_sizes=(30,), max_iter=200, solver = 'adam', momentum= 0 , activation = 'relu',verbose = False)\n",
        "\n",
        "Shallow_MLP_InceptionV3_1 = MLPClassifier(hidden_layer_sizes=(50,), max_iter=500, solver = 'adam', momentum= 0 , activation = 'relu',verbose = False)\n",
        "Shallow_MLP_InceptionV3_2 = MLPClassifier(hidden_layer_sizes=(30,), max_iter=500, solver = 'adam', momentum= 0 , activation = 'relu',verbose = False )\n",
        "Shallow_MLP_InceptionV3_3 = MLPClassifier(hidden_layer_sizes=(30,), max_iter=500, solver = 'adam', momentum= 0 , activation = 'relu',verbose = False , learning_rate_init=0.01 )"
      ],
      "execution_count": null,
      "outputs": []
    },
    {
      "cell_type": "code",
      "metadata": {
        "colab": {
          "base_uri": "https://localhost:8080/"
        },
        "id": "2KZ0skC1ioZA",
        "outputId": "c3f45291-423c-40d2-a1dc-e6dcdad65d3b"
      },
      "source": [
        "Shallow_MLP_PCA_1.fit(PCA_Train_Features,y_train)\n",
        "Shallow_MLP_PCA_2.fit(PCA_Train_Features,y_train)\n",
        "Shallow_MLP_PCA_3.fit(PCA_Train_Features,y_train)\n",
        "Shallow_MLP_PCA_4.fit(PCA_Train_Features,y_train)\n",
        "\n",
        "Shallow_MLP_VGG16_1.fit(TrainFeaturesArr_VGG16,y_train)\n",
        "Shallow_MLP_VGG16_2.fit(TrainFeaturesArr_VGG16,y_train)\n",
        "Shallow_MLP_VGG16_3.fit(TrainFeaturesArr_VGG16,y_train)\n",
        "\n",
        "Shallow_MLP_InceptionV3_1.fit(TrainFeaturesArr_InceptionV3,y_train)\n",
        "Shallow_MLP_InceptionV3_2.fit(TrainFeaturesArr_InceptionV3,y_train)\n",
        "Shallow_MLP_InceptionV3_3.fit(TrainFeaturesArr_InceptionV3,y_train)"
      ],
      "execution_count": null,
      "outputs": [
        {
          "output_type": "stream",
          "text": [
            "/usr/local/lib/python3.7/dist-packages/sklearn/neural_network/_multilayer_perceptron.py:571: ConvergenceWarning: Stochastic Optimizer: Maximum iterations (200) reached and the optimization hasn't converged yet.\n",
            "  % self.max_iter, ConvergenceWarning)\n"
          ],
          "name": "stderr"
        },
        {
          "output_type": "execute_result",
          "data": {
            "text/plain": [
              "MLPClassifier(activation='relu', alpha=0.0001, batch_size='auto', beta_1=0.9,\n",
              "              beta_2=0.999, early_stopping=False, epsilon=1e-08,\n",
              "              hidden_layer_sizes=(30,), learning_rate='constant',\n",
              "              learning_rate_init=0.01, max_fun=15000, max_iter=500, momentum=0,\n",
              "              n_iter_no_change=10, nesterovs_momentum=True, power_t=0.5,\n",
              "              random_state=None, shuffle=True, solver='adam', tol=0.0001,\n",
              "              validation_fraction=0.1, verbose=False, warm_start=False)"
            ]
          },
          "metadata": {
            "tags": []
          },
          "execution_count": 44
        }
      ]
    },
    {
      "cell_type": "code",
      "metadata": {
        "id": "JGk34V64jaO7"
      },
      "source": [
        "y_pred_PCA_1 = Shallow_MLP_PCA_1.predict(PCA_Test_Features)\n",
        "y_pred_PCA_2 = Shallow_MLP_PCA_2.predict(PCA_Test_Features)\n",
        "y_pred_PCA_3 = Shallow_MLP_PCA_3.predict(PCA_Test_Features)\n",
        "y_pred_PCA_4 = Shallow_MLP_PCA_4.predict(PCA_Test_Features)\n",
        "\n",
        "y_pred_VGG16_1 = Shallow_MLP_VGG16_1.predict(TestFeaturesArr_VGG16)\n",
        "y_pred_VGG16_2 = Shallow_MLP_VGG16_2.predict(TestFeaturesArr_VGG16)\n",
        "y_pred_VGG16_3 = Shallow_MLP_VGG16_3.predict(TestFeaturesArr_VGG16)\n",
        "\n",
        "y_pred_InceptionV3_1 = Shallow_MLP_InceptionV3_1.predict(TestFeaturesArr_InceptionV3)\n",
        "y_pred_InceptionV3_2 = Shallow_MLP_InceptionV3_2.predict(TestFeaturesArr_InceptionV3)\n",
        "y_pred_InceptionV3_3 = Shallow_MLP_InceptionV3_3.predict(TestFeaturesArr_InceptionV3)"
      ],
      "execution_count": null,
      "outputs": []
    },
    {
      "cell_type": "code",
      "metadata": {
        "colab": {
          "base_uri": "https://localhost:8080/"
        },
        "id": "p7g3sJ8Nj9dd",
        "outputId": "0ecf6c56-036e-4498-fd66-947c1d257a2c"
      },
      "source": [
        "from sklearn.metrics import accuracy_score\n",
        "from sklearn.metrics import f1_score\n",
        "print('Accuracy for Shallow MLP PCA 1 configuration \"20 Neuron, SGD, Relu, Momentum =0 \" ')\n",
        "print('PCA 1 Test Accuracy score: ',accuracy_score(y_pred_PCA_1, y_test))\n",
        "print('PCA 1 Test F1 Score: ',f1_score(y_pred_PCA_1, y_test, average=\"macro\"))\n",
        "print(' ')\n",
        "print('Accuracy for Shallow MLP PCA 2 configuration \"10 Neuron, SGD,Relu, Momentum =0 \" ')\n",
        "print('PCA 2 Test Accuracy score: ',accuracy_score(y_pred_PCA_2, y_test))\n",
        "print('PCA 2 Test F1 Score: ',f1_score(y_pred_PCA_2, y_test, average=\"macro\"))\n",
        "print(' ')\n",
        "print('Accuracy for Shallow MLP PCA 3 configuration \"10 Neuron, SGD, Relu, Momentum =0.5 \" ')\n",
        "print('PCA 3 Test Accuracy score: ',accuracy_score(y_pred_PCA_3, y_test))\n",
        "print('PCA 3 Test F1 Score: ',f1_score(y_pred_PCA_3, y_test, average=\"macro\"))\n",
        "print(' ')\n",
        "print('Accuracy for Shallow MLP PCA 4 configuration \"10 Neuron, SGD, Sigmoid, Momentum =0 \" ')\n",
        "print('PCA 4 Test Accuracy score: ',accuracy_score(y_pred_PCA_4, y_test))\n",
        "print('PCA 4 Test F1 Score: ',f1_score(y_pred_PCA_4, y_test, average=\"macro\"))\n",
        "\n",
        "print(' ')\n",
        "print('Accuracy for Shallow MLP VGG16 configuration 1: \"100 Neuron, SGD, Relu, Momentum =0 \"  ')\n",
        "print('VGG16 1 Test Accuracy score: ',accuracy_score(y_pred_VGG16_1, y_test))\n",
        "print('VGG16 1 Test Shallow MLP F1 Score: ',f1_score(y_pred_VGG16_1, y_test, average=\"macro\"))\n",
        "print(' ')\n",
        "print('Accuracy for Shallow MLP VGG16 configuration 2: \"200 Neuron, SGD, Relu, Momentum =0 \"  ')\n",
        "print('VGG16 2 Test Accuracy score: ',accuracy_score(y_pred_VGG16_2, y_test))\n",
        "print('VGG16 2 Test F1 Score: ',f1_score(y_pred_VGG16_2, y_test, average=\"macro\"))\n",
        "print(' ')\n",
        "print('Accuracy for Shallow MLP VGG16 configuration 3: \"30 Neuron, Adam, Relu, Momentum =0 \"  ')\n",
        "print('VGG16 3 Test Accuracy score: ',accuracy_score(y_pred_VGG16_3, y_test))\n",
        "print('VGG16 3 Test F1 Score: ',f1_score(y_pred_VGG16_3, y_test, average=\"macro\"))\n",
        "\n",
        "print(' ')\n",
        "print('Accuracy for Shallow MLP InceptionV3 configuration 1: \"50 Neuron, Adam, Relu, Momentum =0 \"  ')\n",
        "print('InceptionV3 1 Test Accuracy score: ',accuracy_score(y_pred_InceptionV3_1, y_test))\n",
        "print('InceptionV3 1 Test F1 Score: ',f1_score(y_pred_InceptionV3_1, y_test, average=\"macro\"))\n",
        "print(' ')\n",
        "print('Accuracy for Shallow MLP InceptionV3 configuration 2: \"30 Neuron, Adam, Relu, Momentum =0 \"  ')\n",
        "print('InceptionV3 2 Test Accuracy score: ',accuracy_score(y_pred_InceptionV3_2, y_test))\n",
        "print('InceptionV3 2 Test F1 Score: ',f1_score(y_pred_InceptionV3_2, y_test, average=\"macro\"))\n",
        "print(' ')\n",
        "print('Accuracy for Shallow MLP InceptionV3 configuration 3: \"30 Neuron, Adam, Relu, Momentum =0, learning_rate_init =0.01 \"  ')\n",
        "print('InceptionV3 3 Test Accuracy score: ',accuracy_score(y_pred_InceptionV3_3, y_test))\n",
        "print('InceptionV3 3 Test F1 Score: ',f1_score(y_pred_InceptionV3_3, y_test, average=\"macro\"))"
      ],
      "execution_count": null,
      "outputs": [
        {
          "output_type": "stream",
          "text": [
            "Accuracy for Shallow MLP PCA 1 configuration \"20 Neuron, SGD, Relu, Momentum =0 \" \n",
            "PCA 1 Test Accuracy score:  1.0\n",
            "PCA 1 Test F1 Score:  1.0\n",
            " \n",
            "Accuracy for Shallow MLP PCA 2 configuration \"10 Neuron, SGD,Relu, Momentum =0 \" \n",
            "PCA 2 Test Accuracy score:  0.9888888888888889\n",
            "PCA 2 Test F1 Score:  0.9887766554433222\n",
            " \n",
            "Accuracy for Shallow MLP PCA 3 configuration \"10 Neuron, SGD, Relu, Momentum =0.5 \" \n",
            "PCA 3 Test Accuracy score:  0.6777777777777778\n",
            "PCA 3 Test F1 Score:  0.7106572258533043\n",
            " \n",
            "Accuracy for Shallow MLP PCA 4 configuration \"10 Neuron, SGD, Sigmoid, Momentum =0 \" \n",
            "PCA 4 Test Accuracy score:  0.03333333333333333\n",
            "PCA 4 Test F1 Score:  0.00900900900900901\n",
            " \n",
            "Accuracy for Shallow MLP VGG16 configuration 1: \"100 Neuron, SGD, Relu, Momentum =0 \"  \n",
            "VGG16 1 Test Accuracy score:  1.0\n",
            "VGG16 1 Test Shallow MLP F1 Score:  1.0\n",
            " \n",
            "Accuracy for Shallow MLP VGG16 configuration 2: \"200 Neuron, SGD, Relu, Momentum =0 \"  \n",
            "VGG16 2 Test Accuracy score:  1.0\n",
            "VGG16 2 Test F1 Score:  1.0\n",
            " \n",
            "Accuracy for Shallow MLP VGG16 configuration 3: \"30 Neuron, Adam, Relu, Momentum =0 \"  \n",
            "VGG16 3 Test Accuracy score:  1.0\n",
            "VGG16 3 Test F1 Score:  1.0\n",
            " \n",
            "Accuracy for Shallow MLP InceptionV3 configuration 1: \"50 Neuron, Adam, Relu, Momentum =0 \"  \n",
            "InceptionV3 1 Test Accuracy score:  1.0\n",
            "InceptionV3 1 Test F1 Score:  1.0\n",
            " \n",
            "Accuracy for Shallow MLP InceptionV3 configuration 2: \"30 Neuron, Adam, Relu, Momentum =0 \"  \n",
            "InceptionV3 2 Test Accuracy score:  1.0\n",
            "InceptionV3 2 Test F1 Score:  1.0\n",
            " \n",
            "Accuracy for Shallow MLP InceptionV3 configuration 3: \"30 Neuron, Adam, Relu, Momentum =0, learning_rate_init =0.01 \"  \n",
            "InceptionV3 3 Test Accuracy score:  1.0\n",
            "InceptionV3 3 Test F1 Score:  1.0\n"
          ],
          "name": "stdout"
        }
      ]
    },
    {
      "cell_type": "markdown",
      "metadata": {
        "id": "LUlj_CbHm_Zm"
      },
      "source": [
        "#Q1.b.a (Shallow MLP Conclusion)\n",
        "> by comparing recognition rate (accuracy) we found that:\n",
        "\n",
        ">Relu: as acivation function has a better performance than Sigmoid.\n",
        "\n",
        ">Apply Momentum sometimes increase recognition rate and some times make it worse.\n",
        "\n",
        ">using adam rather than SGD  (stochastic gradient descent) gives better results at same number of Neuron at hidden layer.\n",
        "\n",
        "> More Neurons gives more recognition in SGD, Num of Neuron could by decreased when using adam.\n",
        "\n",
        "> By Increasing Inital learning step recognition rate become worse"
      ]
    },
    {
      "cell_type": "markdown",
      "metadata": {
        "id": "Q516flNWwixF"
      },
      "source": [
        "#Q1.b.b (SVM )"
      ]
    },
    {
      "cell_type": "markdown",
      "metadata": {
        "id": "d3_ykxNtFika"
      },
      "source": [
        "Try to change Kernel function and C (inverse proportional of regularization ) The penalty is a squared l2 penalty"
      ]
    },
    {
      "cell_type": "code",
      "metadata": {
        "id": "LthO43m8_Oz-"
      },
      "source": [
        "from sklearn.svm import SVC\n",
        "SVM_PCA_1 = SVC(kernel='linear',decision_function_shape = \"ovr\" ,C= 0.1)\n",
        "SVM_PCA_2a = SVC(kernel='poly',decision_function_shape = \"ovr\",C= 0.1)\n",
        "SVM_PCA_2b = SVC(kernel='poly',decision_function_shape = \"ovr\",C= 1)\n",
        "SVM_PCA_3 = SVC(kernel='rbf',decision_function_shape = \"ovr\",C= 0.1)\n",
        "\n",
        "SVM_VGG16_1 = SVC(kernel='linear',decision_function_shape = \"ovr\",C= 1)\n",
        "SVM_VGG16_2 = SVC(kernel='poly',decision_function_shape = \"ovr\",C= 1)\n",
        "SVM_VGG16_3 = SVC(kernel='rbf',decision_function_shape = \"ovr\",C= 1)\n",
        "\n",
        "SVM_InceptionV3_1 = SVC(kernel='linear',decision_function_shape = \"ovr\",C= 10)\n",
        "SVM_InceptionV3_2 = SVC(kernel='poly',decision_function_shape = \"ovr\",C= 10)\n",
        "SVM_InceptionV3_3 = SVC(kernel='rbf',decision_function_shape = \"ovr\",C= 10)"
      ],
      "execution_count": null,
      "outputs": []
    },
    {
      "cell_type": "markdown",
      "metadata": {
        "id": "jPVmTIWjBbWH"
      },
      "source": [
        "Fit the data"
      ]
    },
    {
      "cell_type": "code",
      "metadata": {
        "colab": {
          "base_uri": "https://localhost:8080/"
        },
        "id": "ZMz14tU3BXoP",
        "outputId": "cea8f40a-38c1-4c02-85b2-df0aaeb22da6"
      },
      "source": [
        "SVM_PCA_1.fit(PCA_Train_Features,y_train)\n",
        "SVM_PCA_2a.fit(PCA_Train_Features,y_train)\n",
        "SVM_PCA_2b.fit(PCA_Train_Features,y_train)\n",
        "SVM_PCA_3.fit(PCA_Train_Features,y_train)\n",
        "\n",
        "SVM_VGG16_1.fit(TrainFeaturesArr_VGG16,y_train)\n",
        "SVM_VGG16_2.fit(TrainFeaturesArr_VGG16,y_train)\n",
        "SVM_VGG16_3.fit(TrainFeaturesArr_VGG16,y_train)\n",
        "\n",
        "SVM_InceptionV3_1.fit(TrainFeaturesArr_InceptionV3,y_train)\n",
        "SVM_InceptionV3_2.fit(TrainFeaturesArr_InceptionV3,y_train)\n",
        "SVM_InceptionV3_3.fit(TrainFeaturesArr_InceptionV3,y_train)"
      ],
      "execution_count": null,
      "outputs": [
        {
          "output_type": "execute_result",
          "data": {
            "text/plain": [
              "SVC(C=10, break_ties=False, cache_size=200, class_weight=None, coef0=0.0,\n",
              "    decision_function_shape='ovr', degree=3, gamma='scale', kernel='rbf',\n",
              "    max_iter=-1, probability=False, random_state=None, shrinking=True,\n",
              "    tol=0.001, verbose=False)"
            ]
          },
          "metadata": {
            "tags": []
          },
          "execution_count": 48
        }
      ]
    },
    {
      "cell_type": "markdown",
      "metadata": {
        "id": "HqPBIdLJBvUZ"
      },
      "source": [
        "Predict"
      ]
    },
    {
      "cell_type": "code",
      "metadata": {
        "id": "JCPozPYLBu0f"
      },
      "source": [
        "y_pred_PCA_1 = SVM_PCA_1.predict(PCA_Test_Features)\n",
        "y_pred_PCA_2a = SVM_PCA_2a.predict(PCA_Test_Features)\n",
        "y_pred_PCA_2b = SVM_PCA_2b.predict(PCA_Test_Features)\n",
        "y_pred_PCA_3 = SVM_PCA_3.predict(PCA_Test_Features)\n",
        "\n",
        "y_pred_VGG16_1 = SVM_VGG16_1.predict(TestFeaturesArr_VGG16)\n",
        "y_pred_VGG16_2 = SVM_VGG16_2.predict(TestFeaturesArr_VGG16)\n",
        "y_pred_VGG16_3 = SVM_VGG16_3.predict(TestFeaturesArr_VGG16)\n",
        "\n",
        "y_pred_InceptionV3_1 = SVM_InceptionV3_1.predict(TestFeaturesArr_InceptionV3)\n",
        "y_pred_InceptionV3_2 = SVM_InceptionV3_2.predict(TestFeaturesArr_InceptionV3)\n",
        "y_pred_InceptionV3_3 = SVM_InceptionV3_3.predict(TestFeaturesArr_InceptionV3)"
      ],
      "execution_count": null,
      "outputs": []
    },
    {
      "cell_type": "markdown",
      "metadata": {
        "id": "7_7T8g2ECQUv"
      },
      "source": [
        "Accuracy"
      ]
    },
    {
      "cell_type": "code",
      "metadata": {
        "colab": {
          "base_uri": "https://localhost:8080/"
        },
        "id": "DZVbjH_yCSQA",
        "outputId": "a7d64943-5c19-4c1e-c0f5-4757ce7dd42e"
      },
      "source": [
        "from sklearn.metrics import accuracy_score\n",
        "from sklearn.metrics import f1_score\n",
        "print('Accuracy for SVM PCA  configuration 1 \"linear, C=0.1\" ')\n",
        "print('PCA 1 Test Accuracy score: ',accuracy_score(y_pred_PCA_1, y_test))\n",
        "print('PCA 1 Test F1 Score: ',f1_score(y_pred_PCA_1, y_test, average=\"macro\"))\n",
        "print(' ')\n",
        "print('Accuracy for SVM PCA  configuration 2 \"Poly, C=0.1\" ')\n",
        "print('PCA 2 Test Accuracy score: ',accuracy_score(y_pred_PCA_2a, y_test))\n",
        "print('PCA 2 Test F1 Score: ',f1_score(y_pred_PCA_2a, y_test, average=\"macro\"))\n",
        "print(' ')\n",
        "print('Accuracy for SVM PCA  configuration 2 \"Poly, C=1\" ')\n",
        "print('PCA 2 Test Accuracy score: ',accuracy_score(y_pred_PCA_2b, y_test))\n",
        "print('PCA 2 Test F1 Score: ',f1_score(y_pred_PCA_2b, y_test, average=\"macro\"))\n",
        "print(' ')\n",
        "print('Accuracy for SVM PCA  configuration 3 \"rbf, C=0.1\" ')\n",
        "print('PCA 3 Test Accuracy score: ',accuracy_score(y_pred_PCA_3, y_test))\n",
        "print('PCA 3 Test F1 Score: ',f1_score(y_pred_PCA_3, y_test, average=\"macro\"))\n",
        "\n",
        "print(' ')\n",
        "print('Accuracy for SVM VGG16  configuration 1 \"linear, C=1\" ')\n",
        "print('VGG16 1 Test Accuracy score: ',accuracy_score(y_pred_VGG16_1, y_test))\n",
        "print('VGG16 1 Test F1 Score: ',f1_score(y_pred_VGG16_1, y_test, average=\"macro\"))\n",
        "print(' ')\n",
        "print('Accuracy for SVM VGG16  configuration 2 \"Poly, C=1\" ')\n",
        "print('VGG16 2 Test Accuracy score: ',accuracy_score(y_pred_VGG16_2, y_test))\n",
        "print('VGG16 2 Test F1 Score: ',f1_score(y_pred_VGG16_2, y_test, average=\"macro\"))\n",
        "print(' ')\n",
        "print('Accuracy for SVM VGG16  configuration 3 \"rbf, C=1\" ')\n",
        "print('VGG16 3 Test Accuracy score: ',accuracy_score(y_pred_VGG16_3, y_test))\n",
        "print('VGG16 3 Test F1 Score: ',f1_score(y_pred_VGG16_3, y_test, average=\"macro\"))\n",
        "\n",
        "print(' ')\n",
        "print('Accuracy for SVM InceptionV3  configuration 1 \"linear, C=10\" ')\n",
        "print('InceptionV3 1 Test Accuracy score: ',accuracy_score(y_pred_InceptionV3_1, y_test))\n",
        "print('InceptionV3 1 Test F1 Score: ',f1_score(y_pred_InceptionV3_1, y_test, average=\"macro\"))\n",
        "print(' ')\n",
        "print('Accuracy for SVM InceptionV3  configuration 2 \"Poly, C=10\" ')\n",
        "print('InceptionV3 2 Test Accuracy score: ',accuracy_score(y_pred_InceptionV3_2, y_test))\n",
        "print('InceptionV3 2 Test F1 Score: ',f1_score(y_pred_InceptionV3_2, y_test, average=\"macro\"))\n",
        "print(' ')\n",
        "print('Accuracy for SVM InceptionV3  configuration 3 \"rbf, C=10\" ')\n",
        "print('InceptionV3 3 Test Accuracy score: ',accuracy_score(y_pred_InceptionV3_3, y_test))\n",
        "print('InceptionV3 3 Test F1 Score: ',f1_score(y_pred_InceptionV3_3, y_test, average=\"macro\"))"
      ],
      "execution_count": null,
      "outputs": [
        {
          "output_type": "stream",
          "text": [
            "Accuracy for SVM PCA  configuration 1 \"linear, C=0.1\" \n",
            "PCA 1 Test Accuracy score:  1.0\n",
            "PCA 1 Test F1 Score:  1.0\n",
            " \n",
            "Accuracy for SVM PCA  configuration 2 \"Poly, C=0.1\" \n",
            "PCA 2 Test Accuracy score:  0.5555555555555556\n",
            "PCA 2 Test F1 Score:  0.6479076479076479\n",
            " \n",
            "Accuracy for SVM PCA  configuration 2 \"Poly, C=1\" \n",
            "PCA 2 Test Accuracy score:  1.0\n",
            "PCA 2 Test F1 Score:  1.0\n",
            " \n",
            "Accuracy for SVM PCA  configuration 3 \"rbf, C=0.1\" \n",
            "PCA 3 Test Accuracy score:  0.6777777777777778\n",
            "PCA 3 Test F1 Score:  0.7106572258533043\n",
            " \n",
            "Accuracy for SVM VGG16  configuration 1 \"linear, C=1\" \n",
            "VGG16 1 Test Accuracy score:  1.0\n",
            "VGG16 1 Test F1 Score:  1.0\n",
            " \n",
            "Accuracy for SVM VGG16  configuration 2 \"Poly, C=1\" \n",
            "VGG16 2 Test Accuracy score:  1.0\n",
            "VGG16 2 Test F1 Score:  1.0\n",
            " \n",
            "Accuracy for SVM VGG16  configuration 3 \"rbf, C=1\" \n",
            "VGG16 3 Test Accuracy score:  1.0\n",
            "VGG16 3 Test F1 Score:  1.0\n",
            " \n",
            "Accuracy for SVM InceptionV3  configuration 1 \"linear, C=10\" \n",
            "InceptionV3 1 Test Accuracy score:  1.0\n",
            "InceptionV3 1 Test F1 Score:  1.0\n",
            " \n",
            "Accuracy for SVM InceptionV3  configuration 2 \"Poly, C=10\" \n",
            "InceptionV3 2 Test Accuracy score:  1.0\n",
            "InceptionV3 2 Test F1 Score:  1.0\n",
            " \n",
            "Accuracy for SVM InceptionV3  configuration 3 \"rbf, C=10\" \n",
            "InceptionV3 3 Test Accuracy score:  1.0\n",
            "InceptionV3 3 Test F1 Score:  1.0\n"
          ],
          "name": "stdout"
        }
      ]
    },
    {
      "cell_type": "markdown",
      "metadata": {
        "id": "BNMLGTKeFNXi"
      },
      "source": [
        "#Q1.b.b (SVM Conclusion)\n",
        "> Linear Kernel function could seperate the classes propably\n",
        "\n",
        "> L2 increase effect the accuracy\n",
        "\n",
        "> SVM has almost 1.0 accuracy"
      ]
    },
    {
      "cell_type": "markdown",
      "metadata": {
        "id": "RnLQVBcWGIHN"
      },
      "source": [
        "#Q1.b.c (Bagging trees (random-forest))"
      ]
    },
    {
      "cell_type": "markdown",
      "metadata": {
        "id": "5GuQBLbqKwCT"
      },
      "source": [
        "Try to change \n",
        "* max_depth: The maximum depth of the tree. If None, then nodes are expanded until all leaves are pure or until all leaves contain less than min_samples_split samples.\n",
        "* min_samples_split: The minimum number of samples required to split an internal node\n",
        "* criterion: {“gini”, “entropy”}\n",
        "* n_estimators: The number of trees in the forest.\n"
      ]
    },
    {
      "cell_type": "code",
      "metadata": {
        "id": "mBXclutIGTjr"
      },
      "source": [
        "from sklearn.ensemble import RandomForestClassifier\n",
        "\n",
        "RF_PCA_1  = RandomForestClassifier(max_depth = 2, criterion= 'gini', n_estimators = 100, min_samples_split = 2)\n",
        "RF_PCA_2  = RandomForestClassifier(max_depth = 5, criterion= 'gini', n_estimators = 100, min_samples_split = 2)\n",
        "RF_PCA_3  = RandomForestClassifier(max_depth = 2, criterion= 'entropy', n_estimators = 100, min_samples_split = 2)\n",
        "RF_PCA_4  = RandomForestClassifier(max_depth = 5, criterion= 'entropy', n_estimators = 100, min_samples_split = 2)\n",
        "RF_PCA_5  = RandomForestClassifier(max_depth = 5, criterion= 'gini', n_estimators = 50, min_samples_split = 2)\n",
        "RF_PCA_6  = RandomForestClassifier(max_depth = 5, criterion= 'gini', n_estimators = 10, min_samples_split = 2)\n",
        "RF_PCA_7  = RandomForestClassifier(max_depth = 5, criterion= 'gini', n_estimators = 10, min_samples_split = 10)\n",
        "RF_PCA_8  = RandomForestClassifier(max_depth = 5, criterion= 'gini', n_estimators = 10, min_samples_split = 100)\n",
        "\n",
        "RF_VGG16_1  = RandomForestClassifier(max_depth = 5, criterion= 'gini', n_estimators = 10, min_samples_split = 2)\n",
        "RF_VGG16_2  = RandomForestClassifier(max_depth = 5, criterion= 'gini', n_estimators = 20, min_samples_split = 2)\n",
        "RF_VGG16_3  = RandomForestClassifier(max_depth = 5, criterion= 'gini', n_estimators = 10, min_samples_split = 10)\n",
        "\n",
        "RF_InceptionV3_1  = RandomForestClassifier(max_depth = 5, criterion= 'gini', n_estimators = 10, min_samples_split = 2)\n",
        "RF_InceptionV3_2  = RandomForestClassifier(max_depth = 10, criterion= 'gini', n_estimators = 10, min_samples_split = 2)\n",
        "RF_InceptionV3_3  = RandomForestClassifier(max_depth = 20, criterion= 'gini', n_estimators = 10, min_samples_split = 2)"
      ],
      "execution_count": null,
      "outputs": []
    },
    {
      "cell_type": "markdown",
      "metadata": {
        "id": "Q6V6pMZDQVd-"
      },
      "source": [
        "Fit the data"
      ]
    },
    {
      "cell_type": "code",
      "metadata": {
        "colab": {
          "base_uri": "https://localhost:8080/"
        },
        "id": "KQssoxmzQVeG",
        "outputId": "60abbc88-b904-4108-b4cb-efb0f52e1b85"
      },
      "source": [
        "RF_PCA_1.fit(PCA_Train_Features,y_train)\n",
        "RF_PCA_2.fit(PCA_Train_Features,y_train)\n",
        "RF_PCA_3.fit(PCA_Train_Features,y_train)\n",
        "RF_PCA_4.fit(PCA_Train_Features,y_train)\n",
        "RF_PCA_5.fit(PCA_Train_Features,y_train)\n",
        "RF_PCA_6.fit(PCA_Train_Features,y_train)\n",
        "RF_PCA_7.fit(PCA_Train_Features,y_train)\n",
        "RF_PCA_8.fit(PCA_Train_Features,y_train)\n",
        "RF_VGG16_1.fit(TrainFeaturesArr_VGG16,y_train)\n",
        "RF_VGG16_2.fit(TrainFeaturesArr_VGG16,y_train)\n",
        "RF_VGG16_3.fit(TrainFeaturesArr_VGG16,y_train)\n",
        "RF_InceptionV3_1.fit(TrainFeaturesArr_InceptionV3,y_train)\n",
        "RF_InceptionV3_2.fit(TrainFeaturesArr_InceptionV3,y_train)\n",
        "RF_InceptionV3_3.fit(TrainFeaturesArr_InceptionV3,y_train)"
      ],
      "execution_count": null,
      "outputs": [
        {
          "output_type": "execute_result",
          "data": {
            "text/plain": [
              "RandomForestClassifier(bootstrap=True, ccp_alpha=0.0, class_weight=None,\n",
              "                       criterion='gini', max_depth=20, max_features='auto',\n",
              "                       max_leaf_nodes=None, max_samples=None,\n",
              "                       min_impurity_decrease=0.0, min_impurity_split=None,\n",
              "                       min_samples_leaf=1, min_samples_split=2,\n",
              "                       min_weight_fraction_leaf=0.0, n_estimators=10,\n",
              "                       n_jobs=None, oob_score=False, random_state=None,\n",
              "                       verbose=0, warm_start=False)"
            ]
          },
          "metadata": {
            "tags": []
          },
          "execution_count": 146
        }
      ]
    },
    {
      "cell_type": "markdown",
      "metadata": {
        "id": "_2snDz4QSJNN"
      },
      "source": [
        "Predict"
      ]
    },
    {
      "cell_type": "code",
      "metadata": {
        "id": "5NhUDZoDSJNR"
      },
      "source": [
        "RF_y_pred_PCA_1 = RF_PCA_1.predict(PCA_Test_Features)\n",
        "RF_y_pred_PCA_2 = RF_PCA_2.predict(PCA_Test_Features)\n",
        "RF_y_pred_PCA_3 = RF_PCA_3.predict(PCA_Test_Features)\n",
        "RF_y_pred_PCA_4 = RF_PCA_4.predict(PCA_Test_Features)\n",
        "RF_y_pred_PCA_5 = RF_PCA_5.predict(PCA_Test_Features)\n",
        "RF_y_pred_PCA_7 = RF_PCA_7.predict(PCA_Test_Features)\n",
        "RF_y_pred_PCA_8 = RF_PCA_8.predict(PCA_Test_Features)\n",
        "RF_y_pred_VGG16_1 = RF_VGG16_1.predict(TestFeaturesArr_VGG16)\n",
        "RF_y_pred_VGG16_2 = RF_VGG16_2.predict(TestFeaturesArr_VGG16)\n",
        "RF_y_pred_VGG16_3 = RF_VGG16_3.predict(TestFeaturesArr_VGG16)\n",
        "RF_y_pred_InceptionV3_1 = RF_InceptionV3_1.predict(TestFeaturesArr_InceptionV3)\n",
        "RF_y_pred_InceptionV3_2 = RF_InceptionV3_2.predict(TestFeaturesArr_InceptionV3)\n",
        "RF_y_pred_InceptionV3_3 = RF_InceptionV3_3.predict(TestFeaturesArr_InceptionV3)\n"
      ],
      "execution_count": null,
      "outputs": []
    },
    {
      "cell_type": "markdown",
      "metadata": {
        "id": "hi0bxCDvSJNS"
      },
      "source": [
        "Accuracy"
      ]
    },
    {
      "cell_type": "code",
      "metadata": {
        "colab": {
          "base_uri": "https://localhost:8080/"
        },
        "id": "sw6Kmwg_SJNS",
        "outputId": "73595b0f-2635-4092-eca2-777a55c885d2"
      },
      "source": [
        "from sklearn.metrics import accuracy_score\n",
        "from sklearn.metrics import f1_score\n",
        "print('Random Forest PCA configuration 1 {max_depth=2, gini, n_estimators=100, min_samples_split=2}')\n",
        "print('PCA 1 Test Accuracy score: ',accuracy_score(RF_y_pred_PCA_1, y_test))\n",
        "print('PCA 1 Test F1 Score: ',f1_score(RF_y_pred_PCA_1, y_test, average=\"macro\"))\n",
        "print(' ')\n",
        "print('Random Forest PCA configuration 2 {max_depth=5, gini, n_estimators 100, min_samples_split 2}')\n",
        "print('PCA 2 Test Accuracy score: ',accuracy_score(RF_y_pred_PCA_2, y_test))\n",
        "print('PCA 2 Test F1 Score: ',f1_score(RF_y_pred_PCA_2, y_test, average=\"macro\"))\n",
        "print(' ')\n",
        "print('Random Forest PCA configuration 3 {max_depth=2, entropy, n_estimators 100, min_samples_split 2}')\n",
        "print('PCA 3 Test Accuracy score: ',accuracy_score(RF_y_pred_PCA_3, y_test))\n",
        "print('PCA 3 Test F1 Score: ',f1_score(RF_y_pred_PCA_3, y_test, average=\"macro\"))\n",
        "print(' ')\n",
        "print('Random Forest PCA configuration 4 {max_depth=5, entropy, n_estimators 100, min_samples_split 2}')\n",
        "print('PCA 4 Test Accuracy score: ',accuracy_score(RF_y_pred_PCA_4, y_test))\n",
        "print('PCA 4 Test F1 Score: ',f1_score(RF_y_pred_PCA_4, y_test, average=\"macro\"))\n",
        "print(' ')\n",
        "print('Random Forest PCA configuration 5 {max_depth=5, gini, n_estimators 50, min_samples_split 2}')\n",
        "print('PCA 5 Test Accuracy score: ',accuracy_score(RF_y_pred_PCA_5, y_test))\n",
        "print('PCA 5 Test F1 Score: ',f1_score(RF_y_pred_PCA_5, y_test, average=\"macro\"))\n",
        "print(' ')\n",
        "print('Random Forest PCA configuration 6 {max_depth=5, gini, n_estimators 10, min_samples_split 2}')\n",
        "print('PCA 6 Test Accuracy score: ',accuracy_score(RF_y_pred_PCA_6, y_test))\n",
        "print('PCA 6 Test F1 Score: ',f1_score(RF_y_pred_PCA_6, y_test, average=\"macro\"))\n",
        "print(' ')\n",
        "print('Random Forest PCA configuration 7 {max_depth=5, gini, n_estimators 10, min_samples_split 10}')\n",
        "print('PCA 7 Test Accuracy score: ',accuracy_score(RF_y_pred_PCA_7, y_test))\n",
        "print('PCA 7 Test F1 Score: ',f1_score(RF_y_pred_PCA_7, y_test, average=\"macro\"))\n",
        "print(' ')\n",
        "print('Random Forest PCA configuration 8 {max_depth=5, gini, n_estimators 10, min_samples_split 100}')\n",
        "print('PCA 8 Test Accuracy score: ',accuracy_score(RF_y_pred_PCA_8, y_test))\n",
        "print('PCA 8 Test F1 Score: ',f1_score(RF_y_pred_PCA_8, y_test, average=\"macro\")) \n",
        "print(' ')\n",
        "print('Random Forest VGG16 configuration 1 {max_depth=5, gini, n_estimators 10, min_samples_split 2}')\n",
        "print('VGG16 1 Test Accuracy score: ',accuracy_score(RF_y_pred_VGG16_1, y_test))\n",
        "print('VGG16 1 Test F1 Score: ',f1_score(RF_y_pred_VGG16_1, y_test, average=\"macro\")) \n",
        "print(' ')\n",
        "print('Random Forest VGG16 configuration 2 {max_depth=5, gini, n_estimators 20, min_samples_split 2}')\n",
        "print('VGG16 2 Test Accuracy score: ',accuracy_score(RF_y_pred_VGG16_2, y_test))\n",
        "print('VGG16 2 Test F1 Score: ',f1_score(RF_y_pred_VGG16_2, y_test, average=\"macro\")) \n",
        "print(' ')\n",
        "print('Random Forest VGG16 configuration 3 {max_depth=5, gini, n_estimators 10, min_samples_split 10}')\n",
        "print('VGG16 Forest 3 Test Accuracy score: ',accuracy_score(RF_y_pred_VGG16_3, y_test))\n",
        "print('VGG16 Forest 3 Test F1 Score: ',f1_score(RF_y_pred_VGG16_3, y_test, average=\"macro\")) \n",
        "\n",
        "print(' ')\n",
        "print('Random Forest InceptionV3 configuration 1 {max_depth=5, gini, n_estimators 10, min_samples_split 2}')\n",
        "print('InceptionV3 1 Test Accuracy score: ',accuracy_score(RF_y_pred_InceptionV3_1, y_test))\n",
        "print('InceptionV3 1 Test F1 Score: ',f1_score(RF_y_pred_InceptionV3_1, y_test, average=\"macro\")) \n",
        "print(' ')\n",
        "print('Random Forest InceptionV3 configuration 2 {max_depth=10, gini, n_estimators 10, min_samples_split 2}')\n",
        "print('InceptionV3 2 Test Accuracy score: ',accuracy_score(RF_y_pred_InceptionV3_2, y_test))\n",
        "print('InceptionV3 2 Test F1 Score: ',f1_score(RF_y_pred_InceptionV3_2, y_test, average=\"macro\")) \n",
        "print(' ')\n",
        "print('Random Forest InceptionV3 configuration 3 {max_depth=20, gini, n_estimators 10, min_samples_split 2}')\n",
        "print('InceptionV3 3 Test Accuracy score: ',accuracy_score(RF_y_pred_InceptionV3_3, y_test))\n",
        "print('InceptionV3 3 Test F1 Score: ',f1_score(RF_y_pred_InceptionV3_3, y_test, average=\"macro\")) "
      ],
      "execution_count": null,
      "outputs": [
        {
          "output_type": "stream",
          "text": [
            "Random Forest PCA configuration 1 {max_depth=2, gini, n_estimators=100, min_samples_split=2}\n",
            "PCA 1 Test Accuracy score:  0.8555555555555555\n",
            "PCA 1 Test F1 Score:  0.884004884004884\n",
            " \n",
            "Random Forest PCA configuration 2 {max_depth=5, gini, n_estimators 100, min_samples_split 2}\n",
            "PCA 2 Test Accuracy score:  1.0\n",
            "PCA 2 Test F1 Score:  1.0\n",
            " \n",
            "Random Forest PCA configuration 3 {max_depth=2, entropy, n_estimators 100, min_samples_split 2}\n",
            "PCA 3 Test Accuracy score:  0.8666666666666667\n",
            "PCA 3 Test F1 Score:  0.893681917211329\n",
            " \n",
            "Random Forest PCA configuration 4 {max_depth=5, entropy, n_estimators 100, min_samples_split 2}\n",
            "PCA 4 Test Accuracy score:  1.0\n",
            "PCA 4 Test F1 Score:  1.0\n",
            " \n",
            "Random Forest PCA configuration 5 {max_depth=5, gini, n_estimators 50, min_samples_split 2}\n",
            "PCA 5 Test Accuracy score:  0.9888888888888889\n",
            "PCA 5 Test F1 Score:  0.9912457912457913\n",
            " \n",
            "Random Forest PCA configuration 6 {max_depth=5, gini, n_estimators 10, min_samples_split 2}\n",
            "PCA 6 Test Accuracy score:  0.8444444444444444\n",
            "PCA 6 Test F1 Score:  0.8787138787138786\n",
            " \n",
            "Random Forest PCA configuration 7 {max_depth=5, gini, n_estimators 10, min_samples_split 10}\n",
            "PCA 7 Test Accuracy score:  0.8777777777777778\n",
            "PCA 7 Test F1 Score:  0.9153439153439152\n",
            " \n",
            "Random Forest PCA configuration 8 {max_depth=5, gini, n_estimators 10, min_samples_split 100}\n",
            "PCA 8 Test Accuracy score:  0.7888888888888889\n",
            "PCA 8 Test F1 Score:  0.796589022814513\n",
            " \n",
            "Random Forest VGG16 configuration 1 {max_depth=5, gini, n_estimators 10, min_samples_split 2}\n",
            "VGG16 1 Test Accuracy score:  0.9555555555555556\n",
            "VGG16 1 Test F1 Score:  0.9535032868366202\n",
            " \n",
            "Random Forest VGG16 configuration 2 {max_depth=5, gini, n_estimators 20, min_samples_split 2}\n",
            "VGG16 2 Test Accuracy score:  0.9666666666666667\n",
            "VGG16 2 Test F1 Score:  0.9587301587301587\n",
            " \n",
            "Random Forest VGG16 configuration 3 {max_depth=5, gini, n_estimators 10, min_samples_split 10}\n",
            "VGG16 Forest 3 Test Accuracy score:  0.9444444444444444\n",
            "VGG16 Forest 3 Test F1 Score:  0.9315696649029983\n",
            " \n",
            "Random Forest InceptionV3 configuration 1 {max_depth=5, gini, n_estimators 10, min_samples_split 2}\n",
            "InceptionV3 1 Test Accuracy score:  0.7333333333333333\n",
            "InceptionV3 1 Test F1 Score:  0.7548130518718754\n",
            " \n",
            "Random Forest InceptionV3 configuration 2 {max_depth=10, gini, n_estimators 10, min_samples_split 2}\n",
            "InceptionV3 2 Test Accuracy score:  0.9333333333333333\n",
            "InceptionV3 2 Test F1 Score:  0.9113516113516114\n",
            " \n",
            "Random Forest InceptionV3 configuration 3 {max_depth=20, gini, n_estimators 10, min_samples_split 2}\n",
            "InceptionV3 3 Test Accuracy score:  0.9444444444444444\n",
            "InceptionV3 3 Test F1 Score:  0.9315730565730566\n"
          ],
          "name": "stdout"
        }
      ]
    },
    {
      "cell_type": "markdown",
      "metadata": {
        "id": "XW6ePKghjSQx"
      },
      "source": [
        "#Q1.b.c (Random Forest Conclusion)\n",
        "\n",
        "* max_depth: increase max depth tree grow enhance the accuracy \n",
        "* min_samples_split: if we have little predixtion accuracy increasing the min samples to split may ehance the accuracy but increasing the min split may mak it worse  \n",
        "* criterion: {“gini”, “entropy”}; no noticeable difference between them\n",
        "* n_estimators: decreasing the number of Random forest trees decrease the accuracy"
      ]
    },
    {
      "cell_type": "markdown",
      "metadata": {
        "id": "wKriYq6fpAQX"
      },
      "source": [
        "#Q1.b.d (Logistic Regression)"
      ]
    },
    {
      "cell_type": "markdown",
      "metadata": {
        "id": "ze1wdjTZpZ9n"
      },
      "source": [
        "Try to change:\n",
        "* penalty {‘l1’, ‘l2’}\n",
        "* C ( Inverse of regularization strength; must be a positive float. Like in support vector machines, smaller values specify stronger regularization.\n"
      ]
    },
    {
      "cell_type": "code",
      "metadata": {
        "id": "_XOlNNEUpzxQ"
      },
      "source": [
        "LR_PCA_1  = LogisticRegression(solver = 'liblinear',penalty = 'l1', C = 0.01)\n",
        "LR_PCA_2  = LogisticRegression(solver = 'liblinear',penalty = 'l1', C = 0.1)\n",
        "LR_PCA_3  = LogisticRegression(solver = 'liblinear',penalty = 'l1', C = 1, max_iter =300)\n",
        "LR_PCA_4  = LogisticRegression(solver = 'liblinear',penalty = 'l1', C = 10, max_iter =500)\n",
        "LR_PCA_5  = LogisticRegression(solver = 'liblinear',penalty = 'l2', C = 0.01)\n",
        "LR_PCA_6  = LogisticRegression(solver = 'liblinear',penalty = 'l2', C = 0.1)\n",
        "LR_PCA_7  = LogisticRegression(solver = 'liblinear',penalty = 'l2', C = 1)\n",
        "LR_PCA_8  = LogisticRegression(solver = 'liblinear',penalty = 'l2', C = 10, max_iter =300)\n",
        "LR_PCA_9  = LogisticRegression(solver = 'saga',penalty = 'none', max_iter =500)\n",
        "LR_VGG16_1  = LogisticRegression(solver = 'liblinear',penalty = 'l1', C = 0.1)\n",
        "LR_VGG16_2  = LogisticRegression(solver = 'liblinear',penalty = 'l1', C = 1)\n",
        "LR_VGG16_3  = LogisticRegression(solver = 'liblinear',penalty = 'l1', C = 10)\n",
        "LR_InceptionV3_1  = LogisticRegression(solver = 'liblinear',penalty = 'l2', C = 0.1)\n",
        "LR_InceptionV3_2  = LogisticRegression(solver = 'liblinear',penalty = 'l2', C = 1)\n",
        "LR_InceptionV3_3  = LogisticRegression(solver = 'liblinear',penalty = 'l2', C = 10)"
      ],
      "execution_count": null,
      "outputs": []
    },
    {
      "cell_type": "markdown",
      "metadata": {
        "id": "1ZJ4X3kX0yyf"
      },
      "source": [
        "Fit the data"
      ]
    },
    {
      "cell_type": "code",
      "metadata": {
        "colab": {
          "base_uri": "https://localhost:8080/"
        },
        "id": "2IWlqMgH0yyj",
        "outputId": "4e72a6b7-78e8-4cd2-991c-0d44675f9798"
      },
      "source": [
        "LR_PCA_1.fit(PCA_Train_Features,y_train)\n",
        "LR_PCA_2.fit(PCA_Train_Features,y_train)\n",
        "LR_PCA_3.fit(PCA_Train_Features,y_train)\n",
        "LR_PCA_4.fit(PCA_Train_Features,y_train)\n",
        "LR_PCA_5.fit(PCA_Train_Features,y_train)\n",
        "LR_PCA_6.fit(PCA_Train_Features,y_train)\n",
        "LR_PCA_7.fit(PCA_Train_Features,y_train)\n",
        "LR_PCA_8.fit(PCA_Train_Features,y_train)\n",
        "LR_PCA_9.fit(PCA_Train_Features,y_train)\n",
        "LR_VGG16_1.fit(TrainFeaturesArr_VGG16,y_train)\n",
        "LR_VGG16_2.fit(TrainFeaturesArr_VGG16,y_train)\n",
        "LR_VGG16_3.fit(TrainFeaturesArr_VGG16,y_train)\n",
        "LR_InceptionV3_1.fit(TrainFeaturesArr_InceptionV3,y_train)\n",
        "LR_InceptionV3_2.fit(TrainFeaturesArr_InceptionV3,y_train)\n",
        "LR_InceptionV3_3.fit(TrainFeaturesArr_InceptionV3,y_train)"
      ],
      "execution_count": null,
      "outputs": [
        {
          "output_type": "stream",
          "text": [
            "/usr/local/lib/python3.7/dist-packages/sklearn/svm/_base.py:947: ConvergenceWarning: Liblinear failed to converge, increase the number of iterations.\n",
            "  \"the number of iterations.\", ConvergenceWarning)\n",
            "/usr/local/lib/python3.7/dist-packages/sklearn/linear_model/_sag.py:330: ConvergenceWarning: The max_iter was reached which means the coef_ did not converge\n",
            "  \"the coef_ did not converge\", ConvergenceWarning)\n"
          ],
          "name": "stderr"
        },
        {
          "output_type": "execute_result",
          "data": {
            "text/plain": [
              "LogisticRegression(C=10, class_weight=None, dual=False, fit_intercept=True,\n",
              "                   intercept_scaling=1, l1_ratio=None, max_iter=100,\n",
              "                   multi_class='auto', n_jobs=None, penalty='l2',\n",
              "                   random_state=None, solver='liblinear', tol=0.0001, verbose=0,\n",
              "                   warm_start=False)"
            ]
          },
          "metadata": {
            "tags": []
          },
          "execution_count": 209
        }
      ]
    },
    {
      "cell_type": "markdown",
      "metadata": {
        "id": "5_CHikRR0yyn"
      },
      "source": [
        "Predict"
      ]
    },
    {
      "cell_type": "code",
      "metadata": {
        "id": "J0h8HgRO0yyo"
      },
      "source": [
        "LR_y_pred_PCA_1 \t\t\t\t= LR_PCA_1.predict(PCA_Test_Features)\n",
        "LR_y_pred_PCA_2 \t\t\t\t= LR_PCA_2.predict(PCA_Test_Features)\n",
        "LR_y_pred_PCA_3 \t\t\t\t= LR_PCA_3.predict(PCA_Test_Features)\n",
        "LR_y_pred_PCA_4 \t\t\t\t= LR_PCA_4.predict(PCA_Test_Features)\n",
        "LR_y_pred_PCA_5 \t\t\t\t= LR_PCA_5.predict(PCA_Test_Features)\n",
        "LR_y_pred_PCA_6 \t\t\t\t= LR_PCA_6.predict(PCA_Test_Features)\n",
        "LR_y_pred_PCA_7 \t\t\t\t= LR_PCA_7.predict(PCA_Test_Features)\n",
        "LR_y_pred_PCA_8 \t\t\t\t= LR_PCA_8.predict(PCA_Test_Features)\n",
        "LR_y_pred_PCA_9 \t\t\t\t= LR_PCA_9.predict(PCA_Test_Features)\n",
        "LR_y_pred_VGG16_1 \t\t\t= LR_VGG16_1.predict(TestFeaturesArr_VGG16)\n",
        "LR_y_pred_VGG16_2 \t\t\t= LR_VGG16_2.predict(TestFeaturesArr_VGG16)\n",
        "LR_y_pred_VGG16_3 \t\t\t= LR_VGG16_3.predict(TestFeaturesArr_VGG16)\n",
        "LR_y_pred_InceptionV3_1 = LR_InceptionV3_1.predict(TestFeaturesArr_InceptionV3)\n",
        "LR_y_pred_InceptionV3_2 = LR_InceptionV3_2.predict(TestFeaturesArr_InceptionV3)\n",
        "LR_y_pred_InceptionV3_3 = LR_InceptionV3_3.predict(TestFeaturesArr_InceptionV3)"
      ],
      "execution_count": null,
      "outputs": []
    },
    {
      "cell_type": "markdown",
      "metadata": {
        "id": "B0IlZPeL0yyp"
      },
      "source": [
        "Accuracy"
      ]
    },
    {
      "cell_type": "code",
      "metadata": {
        "colab": {
          "base_uri": "https://localhost:8080/"
        },
        "id": "NXLKOg8A0yyp",
        "outputId": "201b10ee-4dea-4634-e663-e226ac48c3fe"
      },
      "source": [
        "\n",
        "from sklearn.metrics import accuracy_score\n",
        "from sklearn.metrics import f1_score\n",
        "print('Logistic Regression PCA configuration 1 {\"liblinear\",penalty = \"l1\", C = 0.01}')\n",
        "print('PCA 1 Test Accuracy score: ',accuracy_score(LR_y_pred_PCA_1, y_test))\n",
        "print('PCA 1 Test F1 Score: ',f1_score(LR_y_pred_PCA_1, y_test, average=\"macro\"))\n",
        "print(' ')\n",
        "print('Logistic Regression PCA configuration 2 {\"liblinear\",penalty = \"l1\", C = 0.1}')\n",
        "print('PCA 2 Test Accuracy score: ',accuracy_score(LR_y_pred_PCA_2, y_test))\n",
        "print('PCA 2 Test F1 Score: ',f1_score(LR_y_pred_PCA_2, y_test, average=\"macro\"))\n",
        "print(' ')\n",
        "print('Logistic Regression PCA configuration 3 {\"liblinear\",penalty = \"l1\", C = 1, max_iter =300}')\n",
        "print('PCA 3 Test Accuracy score: ',accuracy_score(LR_y_pred_PCA_3, y_test))\n",
        "print('PCA 3 Test F1 Score: ',f1_score(LR_y_pred_PCA_3, y_test, average=\"macro\"))\n",
        "print(' ')\n",
        "print('Logistic Regression PCA configuration 4 {\"liblinear\",penalty = \"l1\", C = 10, max_iter =500}')\n",
        "print('PCA 4 Test Accuracy score: ',accuracy_score(LR_y_pred_PCA_4, y_test))\n",
        "print('PCA 4 Test F1 Score: ',f1_score(LR_y_pred_PCA_4, y_test, average=\"macro\"))\n",
        "print(' ')\n",
        "print('Logistic Regression PCA configuration 5 {\"liblinear\",penalty = \"l2\", C = 0.01}')\n",
        "print('PCA 5 Test Accuracy score: ',accuracy_score(LR_y_pred_PCA_5, y_test))\n",
        "print('PCA 5 Test F1 Score: ',f1_score(LR_y_pred_PCA_5, y_test, average=\"macro\"))\n",
        "print(' ')\n",
        "print('Logistic Regression PCA configuration 6 {\"liblinear\",penalty = \"l2\", C = 0.1}')\n",
        "print('PCA 6 Test Accuracy score: ',accuracy_score(LR_y_pred_PCA_6, y_test))\n",
        "print('PCA 6 Test F1 Score: ',f1_score(LR_y_pred_PCA_6, y_test, average=\"macro\"))\n",
        "print(' ')\n",
        "print('Logistic Regression PCA configuration 7 {\"liblinear\",penalty = \"l2\", C = 1}')\n",
        "print('PCA 7 Test Accuracy score: ',accuracy_score(LR_y_pred_PCA_7, y_test))\n",
        "print('PCA 7 Test F1 Score: ',f1_score(LR_y_pred_PCA_7, y_test, average=\"macro\"))\n",
        "print(' ')\n",
        "print('Logistic Regression PCA configuration 8 {\"liblinear\",penalty = \"l2\", C = 10, max_iter =300}')\n",
        "print('PCA 8 Test Accuracy score: ',accuracy_score(LR_y_pred_PCA_8, y_test))\n",
        "print('PCA 8 Test F1 Score: ',f1_score(LR_y_pred_PCA_8, y_test, average=\"macro\")) \n",
        "print(' ')\n",
        "print('Logistic Regression PCA configuration 9 {\"saga\",penalty = \"none\", max_iter =500}')\n",
        "print('PCA 9 Test Accuracy score: ',accuracy_score(LR_y_pred_PCA_9, y_test))\n",
        "print('PCA 9 Test F1 Score: ',f1_score(LR_y_pred_PCA_9, y_test, average=\"macro\")) \n",
        "print(' ')\n",
        "\n",
        "print('Logistic Regression VGG16 configuration 1 {\"liblinear\",penalty = \"l1\", C = 0.1}')\n",
        "print('VGG16 1 Test Accuracy score: ',accuracy_score(LR_y_pred_VGG16_1, y_test))\n",
        "print('VGG16 1 Test F1 Score: ',f1_score(LR_y_pred_VGG16_1, y_test, average=\"macro\")) \n",
        "print(' ')\n",
        "print('Logistic Regression VGG16 configuration 2 {\"liblinear\",penalty = \"l1\", C = 1}')\n",
        "print('VGG16 2 Test Accuracy score: ',accuracy_score(LR_y_pred_VGG16_2, y_test))\n",
        "print('VGG16 2 Test F1 Score: ',f1_score(LR_y_pred_VGG16_2, y_test, average=\"macro\")) \n",
        "print(' ')\n",
        "print('Logistic Regression VGG16 configuration 3 {\"liblinear\",penalty = \"l1\", C = 10}')\n",
        "print('VGG16 Forest 3 Test Accuracy score: ',accuracy_score(LR_y_pred_VGG16_3, y_test))\n",
        "print('VGG16 Forest 3 Test F1 Score: ',f1_score(LR_y_pred_VGG16_3, y_test, average=\"macro\")) \n",
        "print(' ')\n",
        "\n",
        "print('Logistic Regression InceptionV3 configuration 1 {\"liblinear\",penalty = \"l2\", C = 0.1}')\n",
        "print('InceptionV3 1 Test Accuracy score: ',accuracy_score(LR_y_pred_InceptionV3_1, y_test))\n",
        "print('InceptionV3 1 Test F1 Score: ',f1_score(LR_y_pred_InceptionV3_1, y_test, average=\"macro\")) \n",
        "print(' ')\n",
        "print('Logistic Regression InceptionV3 configuration 2 {\"liblinear\",penalty = \"l2\", C = 1}')\n",
        "print('InceptionV3 2 Test Accuracy score: ',accuracy_score(LR_y_pred_InceptionV3_2, y_test))\n",
        "print('InceptionV3 2 Test F1 Score: ',f1_score(LR_y_pred_InceptionV3_2, y_test, average=\"macro\")) \n",
        "print(' ')\n",
        "print('Logistic Regression InceptionV3 configuration 3 {\"liblinear\",penalty = \"l2\", C = 10}')\n",
        "print('InceptionV3 3 Test Accuracy score: ',accuracy_score(LR_y_pred_InceptionV3_3, y_test))\n",
        "print('InceptionV3 3 Test F1 Score: ',f1_score(LR_y_pred_InceptionV3_3, y_test, average=\"macro\")) "
      ],
      "execution_count": null,
      "outputs": [
        {
          "output_type": "stream",
          "text": [
            "Logistic Regression PCA configuration 1 {\"liblinear\",penalty = \"l1\", C = 0.01}\n",
            "PCA 1 Test Accuracy score:  1.0\n",
            "PCA 1 Test F1 Score:  1.0\n",
            " \n",
            "Logistic Regression PCA configuration 2 {\"liblinear\",penalty = \"l1\", C = 0.1}\n",
            "PCA 2 Test Accuracy score:  1.0\n",
            "PCA 2 Test F1 Score:  1.0\n",
            " \n",
            "Logistic Regression PCA configuration 3 {\"liblinear\",penalty = \"l1\", C = 1, max_iter =300}\n",
            "PCA 3 Test Accuracy score:  1.0\n",
            "PCA 3 Test F1 Score:  1.0\n",
            " \n",
            "Logistic Regression PCA configuration 4 {\"liblinear\",penalty = \"l1\", C = 10, max_iter =500}\n",
            "PCA 4 Test Accuracy score:  1.0\n",
            "PCA 4 Test F1 Score:  1.0\n",
            " \n",
            "Logistic Regression PCA configuration 5 {\"liblinear\",penalty = \"l2\", C = 0.01}\n",
            "PCA 5 Test Accuracy score:  1.0\n",
            "PCA 5 Test F1 Score:  1.0\n",
            " \n",
            "Logistic Regression PCA configuration 6 {\"liblinear\",penalty = \"l2\", C = 0.1}\n",
            "PCA 6 Test Accuracy score:  1.0\n",
            "PCA 6 Test F1 Score:  1.0\n",
            " \n",
            "Logistic Regression PCA configuration 7 {\"liblinear\",penalty = \"l2\", C = 1}\n",
            "PCA 7 Test Accuracy score:  1.0\n",
            "PCA 7 Test F1 Score:  1.0\n",
            " \n",
            "Logistic Regression PCA configuration 8 {\"liblinear\",penalty = \"l2\", C = 10, max_iter =300}\n",
            "PCA 8 Test Accuracy score:  1.0\n",
            "PCA 8 Test F1 Score:  1.0\n",
            " \n",
            "Logistic Regression PCA configuration 9 {\"saga\",penalty = \"none\", max_iter =500}\n",
            "PCA 9 Test Accuracy score:  1.0\n",
            "PCA 9 Test F1 Score:  1.0\n",
            " \n",
            "Logistic Regression VGG16 configuration 1 {\"liblinear\",penalty = \"l1\", C = 0.1}\n",
            "VGG16 1 Test Accuracy score:  1.0\n",
            "VGG16 1 Test F1 Score:  1.0\n",
            " \n",
            "Logistic Regression VGG16 configuration 2 {\"liblinear\",penalty = \"l1\", C = 1}\n",
            "VGG16 2 Test Accuracy score:  1.0\n",
            "VGG16 2 Test F1 Score:  1.0\n",
            " \n",
            "Logistic Regression VGG16 configuration 3 {\"liblinear\",penalty = \"l1\", C = 10}\n",
            "VGG16 Forest 3 Test Accuracy score:  1.0\n",
            "VGG16 Forest 3 Test F1 Score:  1.0\n",
            " \n",
            "Logistic Regression InceptionV3 configuration 1 {\"liblinear\",penalty = \"l2\", C = 0.1}\n",
            "InceptionV3 1 Test Accuracy score:  1.0\n",
            "InceptionV3 1 Test F1 Score:  1.0\n",
            " \n",
            "Logistic Regression InceptionV3 configuration 2 {\"liblinear\",penalty = \"l2\", C = 1}\n",
            "InceptionV3 2 Test Accuracy score:  1.0\n",
            "InceptionV3 2 Test F1 Score:  1.0\n",
            " \n",
            "Logistic Regression InceptionV3 configuration 3 {\"liblinear\",penalty = \"l2\", C = 10}\n",
            "InceptionV3 3 Test Accuracy score:  1.0\n",
            "InceptionV3 3 Test F1 Score:  1.0\n"
          ],
          "name": "stdout"
        }
      ]
    },
    {
      "cell_type": "markdown",
      "metadata": {
        "id": "AOV253Or6bB2"
      },
      "source": [
        "#Q1.b.d (Logistic Regression Conclusion)\n",
        "* chane L1 and L2 values or not using them doesnot differ the accuracy.\n",
        "\n",
        "* accuarcy in all cases reach 1 "
      ]
    },
    {
      "cell_type": "markdown",
      "metadata": {
        "id": "7kMPr75BBfg_"
      },
      "source": [
        "#Q1.b.e (KNN)\n"
      ]
    },
    {
      "cell_type": "markdown",
      "metadata": {
        "id": "RBqVmWqeNLRp"
      },
      "source": [
        "Try to change:\n",
        "* n_neighbors: Number of neighbors \n",
        "* p: Power parameter for the Minkowski metric. When p = 1, this is equivalent to using manhattan_distance (l1), and euclidean_distance (l2) for p = 2\n",
        "\n",
        "For N we will see N = 1,3,5,7,9\n"
      ]
    },
    {
      "cell_type": "code",
      "metadata": {
        "id": "xIxf7IBgNt9h"
      },
      "source": [
        "from sklearn.neighbors import KNeighborsClassifier\n",
        "KNN_PCA_1  \t\t\t\t\t= KNeighborsClassifier(n_neighbors = 1, p = 1)\n",
        "KNN_PCA_2  \t\t\t\t\t= KNeighborsClassifier(n_neighbors = 3, p = 1)\n",
        "KNN_PCA_3  \t\t\t\t\t= KNeighborsClassifier(n_neighbors = 1, p = 2)\n",
        "KNN_PCA_4  \t\t\t\t\t= KNeighborsClassifier(n_neighbors = 3, p = 2)\n",
        "KNN_VGG16_1  \t\t\t\t= KNeighborsClassifier(n_neighbors = 1, p = 2)\n",
        "KNN_VGG16_2  \t\t\t\t= KNeighborsClassifier(n_neighbors = 3, p = 2)\n",
        "KNN_VGG16_3  \t\t\t\t= KNeighborsClassifier(n_neighbors = 5, p = 2)\n",
        "KNN_InceptionV3_1  \t= KNeighborsClassifier(n_neighbors = 1, p = 1)\n",
        "KNN_InceptionV3_2  \t= KNeighborsClassifier(n_neighbors = 3, p = 1)\n",
        "KNN_InceptionV3_3  \t= KNeighborsClassifier(n_neighbors = 5, p = 1)\n",
        "KNN_InceptionV3_4  \t= KNeighborsClassifier(n_neighbors = 1, p = 2)\n",
        "KNN_InceptionV3_5  \t= KNeighborsClassifier(n_neighbors = 3, p = 2)\n",
        "KNN_InceptionV3_6  \t= KNeighborsClassifier(n_neighbors = 5, p = 2)"
      ],
      "execution_count": null,
      "outputs": []
    },
    {
      "cell_type": "markdown",
      "metadata": {
        "id": "j2TeEE-nOgnk"
      },
      "source": [
        "Fit the data"
      ]
    },
    {
      "cell_type": "code",
      "metadata": {
        "colab": {
          "base_uri": "https://localhost:8080/"
        },
        "id": "MFnc5gIPOgn6",
        "outputId": "befcbb2d-4869-4fca-939f-32c4b2e05610"
      },
      "source": [
        "KNN_PCA_1.fit(PCA_Train_Features,y_train)\n",
        "KNN_PCA_2.fit(PCA_Train_Features,y_train)\n",
        "KNN_PCA_3.fit(PCA_Train_Features,y_train)\n",
        "KNN_PCA_4.fit(PCA_Train_Features,y_train)\n",
        "KNN_VGG16_1.fit(TrainFeaturesArr_VGG16,y_train)\n",
        "KNN_VGG16_2.fit(TrainFeaturesArr_VGG16,y_train)\n",
        "KNN_VGG16_3.fit(TrainFeaturesArr_VGG16,y_train)\n",
        "KNN_InceptionV3_1.fit(TrainFeaturesArr_InceptionV3,y_train)\n",
        "KNN_InceptionV3_2.fit(TrainFeaturesArr_InceptionV3,y_train)\n",
        "KNN_InceptionV3_3.fit(TrainFeaturesArr_InceptionV3,y_train)\n",
        "KNN_InceptionV3_4.fit(TrainFeaturesArr_InceptionV3,y_train)\n",
        "KNN_InceptionV3_5.fit(TrainFeaturesArr_InceptionV3,y_train)\n",
        "KNN_InceptionV3_6.fit(TrainFeaturesArr_InceptionV3,y_train)"
      ],
      "execution_count": null,
      "outputs": [
        {
          "output_type": "execute_result",
          "data": {
            "text/plain": [
              "KNeighborsClassifier(algorithm='auto', leaf_size=30, metric='minkowski',\n",
              "                     metric_params=None, n_jobs=None, n_neighbors=5, p=2,\n",
              "                     weights='uniform')"
            ]
          },
          "metadata": {
            "tags": []
          },
          "execution_count": 249
        }
      ]
    },
    {
      "cell_type": "markdown",
      "metadata": {
        "id": "utE5Fj1LOrwD"
      },
      "source": [
        "Predict"
      ]
    },
    {
      "cell_type": "code",
      "metadata": {
        "id": "Z4IW_4EQOrwY"
      },
      "source": [
        "KNN_y_pred_PCA_1 \t\t\t\t\t= KNN_PCA_1.predict(PCA_Test_Features)\n",
        "KNN_y_pred_PCA_2 \t\t\t\t\t= KNN_PCA_2.predict(PCA_Test_Features)\n",
        "KNN_y_pred_PCA_3 \t\t\t\t\t= KNN_PCA_3.predict(PCA_Test_Features)\n",
        "KNN_y_pred_PCA_4 \t\t\t\t\t= KNN_PCA_4.predict(PCA_Test_Features)\n",
        "KNN_y_pred_VGG16_1 \t\t\t\t= KNN_VGG16_1.predict(TestFeaturesArr_VGG16)\n",
        "KNN_y_pred_VGG16_2        = KNN_VGG16_2.predict(TestFeaturesArr_VGG16)\n",
        "KNN_y_pred_VGG16_3        = KNN_VGG16_3.predict(TestFeaturesArr_VGG16)\n",
        "KNN_y_pred_InceptionV3_1 = KNN_InceptionV3_1.predict(TestFeaturesArr_InceptionV3)\n",
        "KNN_y_pred_InceptionV3_2 = KNN_InceptionV3_2.predict(TestFeaturesArr_InceptionV3)\n",
        "KNN_y_pred_InceptionV3_3 = KNN_InceptionV3_3.predict(TestFeaturesArr_InceptionV3)\n",
        "KNN_y_pred_InceptionV3_4 = KNN_InceptionV3_4.predict(TestFeaturesArr_InceptionV3)\n",
        "KNN_y_pred_InceptionV3_5 = KNN_InceptionV3_5.predict(TestFeaturesArr_InceptionV3)\n",
        "KNN_y_pred_InceptionV3_6 = KNN_InceptionV3_6.predict(TestFeaturesArr_InceptionV3)"
      ],
      "execution_count": null,
      "outputs": []
    },
    {
      "cell_type": "markdown",
      "metadata": {
        "id": "pKiRcasLOrwZ"
      },
      "source": [
        "Accuracy"
      ]
    },
    {
      "cell_type": "code",
      "metadata": {
        "colab": {
          "base_uri": "https://localhost:8080/"
        },
        "id": "xjXF1iEzOrwa",
        "outputId": "cc1ff3b6-bb18-468b-ad3f-83fadf1dbdd1"
      },
      "source": [
        "from sklearn.metrics import accuracy_score\n",
        "from sklearn.metrics import f1_score\n",
        "print('KNN PCA configuration 1 {n_neighbors = 1, p = 1}')\n",
        "print('PCA 1 Test Accuracy score: ',accuracy_score(KNN_y_pred_PCA_1, y_test))\n",
        "print('PCA 1 Test F1 Score: ',f1_score(KNN_y_pred_PCA_1, y_test, average=\"macro\"))\n",
        "print(' ')\n",
        "print('KNN PCA configuration 2 {n_neighbors = 3, p = 1}')\n",
        "print('PCA 2 Test Accuracy score: ',accuracy_score(KNN_y_pred_PCA_2, y_test))\n",
        "print('PCA 2 Test F1 Score: ',f1_score(KNN_y_pred_PCA_2, y_test, average=\"macro\"))\n",
        "print(' ')\n",
        "print('KNN PCA configuration 3 {n_neighbors = 1, p = 2}')\n",
        "print('PCA 3 Test Accuracy score: ',accuracy_score(KNN_y_pred_PCA_3, y_test))\n",
        "print('PCA 3 Test F1 Score: ',f1_score(KNN_y_pred_PCA_3, y_test, average=\"macro\"))\n",
        "print(' ')\n",
        "print('KNN PCA configuration 4 {n_neighbors = 3, p = 2}')\n",
        "print('PCA 4 Test Accuracy score: ',accuracy_score(KNN_y_pred_PCA_4, y_test))\n",
        "print('PCA 4 Test F1 Score: ',f1_score(KNN_y_pred_PCA_4, y_test, average=\"macro\"))\n",
        "print(' ')\n",
        "\n",
        "print('KNN VGG16 configuration 1 {n_neighbors = 1, p = 2}')\n",
        "print('VGG16 1 Test Accuracy score: ',accuracy_score(KNN_y_pred_VGG16_1, y_test))\n",
        "print('VGG16 1 Test F1 Score: ',f1_score(KNN_y_pred_VGG16_1, y_test, average=\"macro\")) \n",
        "print(' ')\n",
        "print('KNN VGG16 configuration 2 {n_neighbors = 3, p = 2}')\n",
        "print('VGG16 2 Test Accuracy score: ',accuracy_score(KNN_y_pred_VGG16_2, y_test))\n",
        "print('VGG16 2 Test F1 Score: ',f1_score(KNN_y_pred_VGG16_2, y_test, average=\"macro\")) \n",
        "print(' ')\n",
        "print('KNN VGG16 configuration 3 {n_neighbors = 5, p = 2}')\n",
        "print('VGG16 Forest 3 Test Accuracy score: ',accuracy_score(KNN_y_pred_VGG16_3, y_test))\n",
        "print('VGG16 Forest 3 Test F1 Score: ',f1_score(KNN_y_pred_VGG16_3, y_test, average=\"macro\")) \n",
        "print(' ')\n",
        "\n",
        "print('KNN InceptionV3 configuration 1 {n_neighbors = 1, p = 1}')\n",
        "print('InceptionV3 1 Test Accuracy score: ',accuracy_score(KNN_y_pred_InceptionV3_1, y_test))\n",
        "print('InceptionV3 1 Test F1 Score: ',f1_score(KNN_y_pred_InceptionV3_1, y_test, average=\"macro\")) \n",
        "print(' ')\n",
        "print('KNN InceptionV3 configuration 2 {n_neighbors = 3, p = 1}')\n",
        "print('InceptionV3 2 Test Accuracy score: ',accuracy_score(KNN_y_pred_InceptionV3_2, y_test))\n",
        "print('InceptionV3 2 Test F1 Score: ',f1_score(KNN_y_pred_InceptionV3_2, y_test, average=\"macro\")) \n",
        "print(' ')\n",
        "print('KNN InceptionV3 configuration 3 {n_neighbors = 5, p = 1}')\n",
        "print('InceptionV3 3 Test Accuracy score: ',accuracy_score(KNN_y_pred_InceptionV3_3, y_test))\n",
        "print('InceptionV3 3 Test F1 Score: ',f1_score(KNN_y_pred_InceptionV3_3, y_test, average=\"macro\"))\n",
        "\n",
        "print(' ')\n",
        "\n",
        "print('KNN InceptionV3 configuration 4 {n_neighbors = 1, p = 2}')\n",
        "print('InceptionV3 4 Test Accuracy score: ',accuracy_score(KNN_y_pred_InceptionV3_4, y_test))\n",
        "print('InceptionV3 4 Test F1 Score: ',f1_score(KNN_y_pred_InceptionV3_4, y_test, average=\"macro\")) \n",
        "print(' ')\n",
        "print('KNN InceptionV3 configuration 5 {n_neighbors = 3, p = 2}')\n",
        "print('InceptionV3 5 Test Accuracy score: ',accuracy_score(KNN_y_pred_InceptionV3_5, y_test))\n",
        "print('InceptionV3 5 Test F1 Score: ',f1_score(KNN_y_pred_InceptionV3_5, y_test, average=\"macro\")) \n",
        "print(' ')\n",
        "print('KNN InceptionV3 configuration 6 {n_neighbors = 5, p = 2}')\n",
        "print('InceptionV3 6 Test Accuracy score: ',accuracy_score(KNN_y_pred_InceptionV3_6, y_test))\n",
        "print('InceptionV3 6 Test F1 Score: ',f1_score(KNN_y_pred_InceptionV3_6, y_test, average=\"macro\"))"
      ],
      "execution_count": null,
      "outputs": [
        {
          "output_type": "stream",
          "text": [
            "KNN PCA configuration 1 {n_neighbors = 1, p = 1}\n",
            "PCA 1 Test Accuracy score:  1.0\n",
            "PCA 1 Test F1 Score:  1.0\n",
            " \n",
            "KNN PCA configuration 2 {n_neighbors = 3, p = 1}\n",
            "PCA 2 Test Accuracy score:  1.0\n",
            "PCA 2 Test F1 Score:  1.0\n",
            " \n",
            "KNN PCA configuration 3 {n_neighbors = 1, p = 2}\n",
            "PCA 3 Test Accuracy score:  1.0\n",
            "PCA 3 Test F1 Score:  1.0\n",
            " \n",
            "KNN PCA configuration 4 {n_neighbors = 3, p = 2}\n",
            "PCA 4 Test Accuracy score:  1.0\n",
            "PCA 4 Test F1 Score:  1.0\n",
            " \n",
            "KNN VGG16 configuration 1 {n_neighbors = 1, p = 2}\n",
            "VGG16 1 Test Accuracy score:  1.0\n",
            "VGG16 1 Test F1 Score:  1.0\n",
            " \n",
            "KNN VGG16 configuration 2 {n_neighbors = 3, p = 2}\n",
            "VGG16 2 Test Accuracy score:  1.0\n",
            "VGG16 2 Test F1 Score:  1.0\n",
            " \n",
            "KNN VGG16 configuration 3 {n_neighbors = 5, p = 2}\n",
            "VGG16 Forest 3 Test Accuracy score:  1.0\n",
            "VGG16 Forest 3 Test F1 Score:  1.0\n",
            " \n",
            "KNN InceptionV3 configuration 1 {n_neighbors = 1, p = 1}\n",
            "InceptionV3 1 Test Accuracy score:  1.0\n",
            "InceptionV3 1 Test F1 Score:  1.0\n",
            " \n",
            "KNN InceptionV3 configuration 2 {n_neighbors = 3, p = 1}\n",
            "InceptionV3 2 Test Accuracy score:  0.9888888888888889\n",
            "InceptionV3 2 Test F1 Score:  0.9895536562203229\n",
            " \n",
            "KNN InceptionV3 configuration 3 {n_neighbors = 5, p = 1}\n",
            "InceptionV3 3 Test Accuracy score:  0.9888888888888889\n",
            "InceptionV3 3 Test F1 Score:  0.9887766554433222\n",
            " \n",
            "KNN InceptionV3 configuration 4 {n_neighbors = 1, p = 2}\n",
            "InceptionV3 4 Test Accuracy score:  0.9888888888888889\n",
            "InceptionV3 4 Test F1 Score:  0.9895536562203229\n",
            " \n",
            "KNN InceptionV3 configuration 5 {n_neighbors = 3, p = 2}\n",
            "InceptionV3 5 Test Accuracy score:  0.9888888888888889\n",
            "InceptionV3 5 Test F1 Score:  0.9895536562203229\n",
            " \n",
            "KNN InceptionV3 configuration 6 {n_neighbors = 5, p = 2}\n",
            "InceptionV3 6 Test Accuracy score:  0.9888888888888889\n",
            "InceptionV3 6 Test F1 Score:  0.9887766554433222\n"
          ],
          "name": "stdout"
        }
      ]
    },
    {
      "cell_type": "markdown",
      "metadata": {
        "id": "yiJi9jTXSfLj"
      },
      "source": [
        "#Q1.b.e (KNN Conclusion)\n",
        "* for example number of N does not vary (almost 1 in accuracy)  as  the feature vector distance from each other is seprated.\n",
        "* But for IceptionV3 (Google Net) it has 2048 dimensions such that for N=1 in the ecludance distance  get accuracy of .98889 \n",
        "* also the N = 5 and P=1 the IceptionV3 has accuracy of 0.98889"
      ]
    }
  ]
}